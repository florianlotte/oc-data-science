{
 "cells": [
  {
   "cell_type": "markdown",
   "metadata": {},
   "source": [
    "# **Projet 8 :** Déployez un modèle dans le cloud"
   ]
  },
  {
   "cell_type": "markdown",
   "metadata": {},
   "source": [
    "## Notebook de test des script Pyspark"
   ]
  },
  {
   "cell_type": "markdown",
   "metadata": {},
   "source": [
    "### Import"
   ]
  },
  {
   "cell_type": "code",
   "execution_count": 2,
   "metadata": {
    "trusted": true
   },
   "outputs": [],
   "source": [
    "%matplotlib inline\n",
    "import os\n",
    "import pandas as pd\n",
    "from tqdm.notebook import tqdm"
   ]
  },
  {
   "cell_type": "markdown",
   "metadata": {},
   "source": [
    "### Configuration"
   ]
  },
  {
   "cell_type": "code",
   "execution_count": 5,
   "metadata": {
    "trusted": true
   },
   "outputs": [],
   "source": [
    "%load_ext autoreload\n",
    "%autoreload 2\n",
    "\n",
    "# configurations pandas\n",
    "pd.set_option('display.max_rows', 250)\n",
    "pd.set_option('display.max_columns', 250)"
   ]
  },
  {
   "cell_type": "code",
   "execution_count": 4,
   "metadata": {
    "trusted": true
   },
   "outputs": [],
   "source": [
    "images_path = os.path.normpath(\"./data/fruits-360_dataset/fruits-360/training\")"
   ]
  },
  {
   "cell_type": "markdown",
   "metadata": {},
   "source": [
    "### Chargement des données avec pandas\n",
    "\n",
    "Nous commençons par charger les images disponible dans le dossier training dans une dataframe pandas pour analyser la taille et le mode des images\n",
    "Toutes les les images sont en 100x100x3 et il y a exactement 131 classes"
   ]
  },
  {
   "cell_type": "code",
   "execution_count": 6,
   "metadata": {
    "trusted": true
   },
   "outputs": [
    {
     "data": {
      "application/vnd.jupyter.widget-view+json": {
       "model_id": "2196ae26a0654e1b94a390397b57a053",
       "version_major": 2,
       "version_minor": 0
      },
      "text/plain": [
       "0it [00:00, ?it/s]"
      ]
     },
     "metadata": {},
     "output_type": "display_data"
    },
    {
     "name": "stdout",
     "output_type": "stream",
     "text": [
      "<class 'pandas.core.frame.DataFrame'>\n",
      "Index: 67692 entries, 1.0 to 131.474\n",
      "Data columns (total 6 columns):\n",
      " #   Column    Non-Null Count  Dtype \n",
      "---  ------    --------------  ----- \n",
      " 0   filename  67692 non-null  object\n",
      " 1   path      67692 non-null  object\n",
      " 2   label     67692 non-null  object\n",
      " 3   width     67692 non-null  int64 \n",
      " 4   height    67692 non-null  int64 \n",
      " 5   mode      67692 non-null  object\n",
      "dtypes: int64(2), object(4)\n",
      "memory usage: 3.6+ MB\n"
     ]
    }
   ],
   "source": [
    "from PIL import Image\n",
    "df = pd.DataFrame(columns=['filename', 'path', 'label', 'width', 'height', 'mode'])\n",
    "for i, (root, subdirs, files) in tqdm(enumerate(os.walk(images_path))):\n",
    "    for j, file in enumerate(files):\n",
    "        if file.lower().endswith(\".jpg\") or file.lower().endswith(\".png\") or file.lower().endswith(\".bmp\") or file.lower().endswith(\".gif\"):\n",
    "            image_fullpath = os.path.join(root, file)\n",
    "            image = Image.open(image_fullpath)\n",
    "            width, height = image.size\n",
    "            mode = image.mode\n",
    "            label = root.split(os.path.sep)[-1]\n",
    "            df.loc[f\"{i}.{j}\"] = [file, root, label, width, height, mode]\n",
    "df.info()"
   ]
  },
  {
   "cell_type": "code",
   "execution_count": 7,
   "metadata": {},
   "outputs": [
    {
     "data": {
      "text/html": [
       "<div>\n",
       "<style scoped>\n",
       "    .dataframe tbody tr th:only-of-type {\n",
       "        vertical-align: middle;\n",
       "    }\n",
       "\n",
       "    .dataframe tbody tr th {\n",
       "        vertical-align: top;\n",
       "    }\n",
       "\n",
       "    .dataframe thead th {\n",
       "        text-align: right;\n",
       "    }\n",
       "</style>\n",
       "<table border=\"1\" class=\"dataframe\">\n",
       "  <thead>\n",
       "    <tr style=\"text-align: right;\">\n",
       "      <th></th>\n",
       "      <th>filename</th>\n",
       "      <th>path</th>\n",
       "      <th>label</th>\n",
       "      <th>width</th>\n",
       "      <th>height</th>\n",
       "      <th>mode</th>\n",
       "    </tr>\n",
       "  </thead>\n",
       "  <tbody>\n",
       "    <tr>\n",
       "      <th>1.0</th>\n",
       "      <td>0_100.jpg</td>\n",
       "      <td>data\\fruits-360_dataset\\fruits-360\\training\\ap...</td>\n",
       "      <td>apple_braeburn</td>\n",
       "      <td>100</td>\n",
       "      <td>100</td>\n",
       "      <td>RGB</td>\n",
       "    </tr>\n",
       "    <tr>\n",
       "      <th>1.1</th>\n",
       "      <td>100_100.jpg</td>\n",
       "      <td>data\\fruits-360_dataset\\fruits-360\\training\\ap...</td>\n",
       "      <td>apple_braeburn</td>\n",
       "      <td>100</td>\n",
       "      <td>100</td>\n",
       "      <td>RGB</td>\n",
       "    </tr>\n",
       "    <tr>\n",
       "      <th>1.2</th>\n",
       "      <td>101_100.jpg</td>\n",
       "      <td>data\\fruits-360_dataset\\fruits-360\\training\\ap...</td>\n",
       "      <td>apple_braeburn</td>\n",
       "      <td>100</td>\n",
       "      <td>100</td>\n",
       "      <td>RGB</td>\n",
       "    </tr>\n",
       "    <tr>\n",
       "      <th>1.3</th>\n",
       "      <td>102_100.jpg</td>\n",
       "      <td>data\\fruits-360_dataset\\fruits-360\\training\\ap...</td>\n",
       "      <td>apple_braeburn</td>\n",
       "      <td>100</td>\n",
       "      <td>100</td>\n",
       "      <td>RGB</td>\n",
       "    </tr>\n",
       "    <tr>\n",
       "      <th>1.4</th>\n",
       "      <td>103_100.jpg</td>\n",
       "      <td>data\\fruits-360_dataset\\fruits-360\\training\\ap...</td>\n",
       "      <td>apple_braeburn</td>\n",
       "      <td>100</td>\n",
       "      <td>100</td>\n",
       "      <td>RGB</td>\n",
       "    </tr>\n",
       "  </tbody>\n",
       "</table>\n",
       "</div>"
      ],
      "text/plain": [
       "        filename                                               path  \\\n",
       "1.0    0_100.jpg  data\\fruits-360_dataset\\fruits-360\\training\\ap...   \n",
       "1.1  100_100.jpg  data\\fruits-360_dataset\\fruits-360\\training\\ap...   \n",
       "1.2  101_100.jpg  data\\fruits-360_dataset\\fruits-360\\training\\ap...   \n",
       "1.3  102_100.jpg  data\\fruits-360_dataset\\fruits-360\\training\\ap...   \n",
       "1.4  103_100.jpg  data\\fruits-360_dataset\\fruits-360\\training\\ap...   \n",
       "\n",
       "              label  width  height mode  \n",
       "1.0  apple_braeburn    100     100  RGB  \n",
       "1.1  apple_braeburn    100     100  RGB  \n",
       "1.2  apple_braeburn    100     100  RGB  \n",
       "1.3  apple_braeburn    100     100  RGB  \n",
       "1.4  apple_braeburn    100     100  RGB  "
      ]
     },
     "execution_count": 7,
     "metadata": {},
     "output_type": "execute_result"
    }
   ],
   "source": [
    "df.head()"
   ]
  },
  {
   "cell_type": "code",
   "execution_count": 5,
   "metadata": {
    "trusted": true
   },
   "outputs": [
    {
     "data": {
      "text/html": [
       "<div>\n",
       "<style scoped>\n",
       "    .dataframe tbody tr th:only-of-type {\n",
       "        vertical-align: middle;\n",
       "    }\n",
       "\n",
       "    .dataframe tbody tr th {\n",
       "        vertical-align: top;\n",
       "    }\n",
       "\n",
       "    .dataframe thead th {\n",
       "        text-align: right;\n",
       "    }\n",
       "</style>\n",
       "<table border=\"1\" class=\"dataframe\">\n",
       "  <thead>\n",
       "    <tr style=\"text-align: right;\">\n",
       "      <th></th>\n",
       "      <th>filename</th>\n",
       "      <th>path</th>\n",
       "      <th>label</th>\n",
       "      <th>width</th>\n",
       "      <th>height</th>\n",
       "      <th>mode</th>\n",
       "    </tr>\n",
       "  </thead>\n",
       "  <tbody>\n",
       "    <tr>\n",
       "      <th>count</th>\n",
       "      <td>67692</td>\n",
       "      <td>67692</td>\n",
       "      <td>67692</td>\n",
       "      <td>67692.0</td>\n",
       "      <td>67692.0</td>\n",
       "      <td>67692</td>\n",
       "    </tr>\n",
       "    <tr>\n",
       "      <th>unique</th>\n",
       "      <td>1717</td>\n",
       "      <td>131</td>\n",
       "      <td>131</td>\n",
       "      <td>NaN</td>\n",
       "      <td>NaN</td>\n",
       "      <td>1</td>\n",
       "    </tr>\n",
       "    <tr>\n",
       "      <th>top</th>\n",
       "      <td>14_100.jpg</td>\n",
       "      <td>data\\fruits-360_dataset\\fruits-360\\training\\gr...</td>\n",
       "      <td>grape_blue</td>\n",
       "      <td>NaN</td>\n",
       "      <td>NaN</td>\n",
       "      <td>RGB</td>\n",
       "    </tr>\n",
       "    <tr>\n",
       "      <th>freq</th>\n",
       "      <td>115</td>\n",
       "      <td>984</td>\n",
       "      <td>984</td>\n",
       "      <td>NaN</td>\n",
       "      <td>NaN</td>\n",
       "      <td>67692</td>\n",
       "    </tr>\n",
       "    <tr>\n",
       "      <th>mean</th>\n",
       "      <td>NaN</td>\n",
       "      <td>NaN</td>\n",
       "      <td>NaN</td>\n",
       "      <td>100.0</td>\n",
       "      <td>100.0</td>\n",
       "      <td>NaN</td>\n",
       "    </tr>\n",
       "    <tr>\n",
       "      <th>std</th>\n",
       "      <td>NaN</td>\n",
       "      <td>NaN</td>\n",
       "      <td>NaN</td>\n",
       "      <td>0.0</td>\n",
       "      <td>0.0</td>\n",
       "      <td>NaN</td>\n",
       "    </tr>\n",
       "    <tr>\n",
       "      <th>min</th>\n",
       "      <td>NaN</td>\n",
       "      <td>NaN</td>\n",
       "      <td>NaN</td>\n",
       "      <td>100.0</td>\n",
       "      <td>100.0</td>\n",
       "      <td>NaN</td>\n",
       "    </tr>\n",
       "    <tr>\n",
       "      <th>25%</th>\n",
       "      <td>NaN</td>\n",
       "      <td>NaN</td>\n",
       "      <td>NaN</td>\n",
       "      <td>100.0</td>\n",
       "      <td>100.0</td>\n",
       "      <td>NaN</td>\n",
       "    </tr>\n",
       "    <tr>\n",
       "      <th>50%</th>\n",
       "      <td>NaN</td>\n",
       "      <td>NaN</td>\n",
       "      <td>NaN</td>\n",
       "      <td>100.0</td>\n",
       "      <td>100.0</td>\n",
       "      <td>NaN</td>\n",
       "    </tr>\n",
       "    <tr>\n",
       "      <th>75%</th>\n",
       "      <td>NaN</td>\n",
       "      <td>NaN</td>\n",
       "      <td>NaN</td>\n",
       "      <td>100.0</td>\n",
       "      <td>100.0</td>\n",
       "      <td>NaN</td>\n",
       "    </tr>\n",
       "    <tr>\n",
       "      <th>max</th>\n",
       "      <td>NaN</td>\n",
       "      <td>NaN</td>\n",
       "      <td>NaN</td>\n",
       "      <td>100.0</td>\n",
       "      <td>100.0</td>\n",
       "      <td>NaN</td>\n",
       "    </tr>\n",
       "  </tbody>\n",
       "</table>\n",
       "</div>"
      ],
      "text/plain": [
       "          filename                                               path  \\\n",
       "count        67692                                              67692   \n",
       "unique        1717                                                131   \n",
       "top     14_100.jpg  data\\fruits-360_dataset\\fruits-360\\training\\gr...   \n",
       "freq           115                                                984   \n",
       "mean           NaN                                                NaN   \n",
       "std            NaN                                                NaN   \n",
       "min            NaN                                                NaN   \n",
       "25%            NaN                                                NaN   \n",
       "50%            NaN                                                NaN   \n",
       "75%            NaN                                                NaN   \n",
       "max            NaN                                                NaN   \n",
       "\n",
       "             label    width   height   mode  \n",
       "count        67692  67692.0  67692.0  67692  \n",
       "unique         131      NaN      NaN      1  \n",
       "top     grape_blue      NaN      NaN    RGB  \n",
       "freq           984      NaN      NaN  67692  \n",
       "mean           NaN    100.0    100.0    NaN  \n",
       "std            NaN      0.0      0.0    NaN  \n",
       "min            NaN    100.0    100.0    NaN  \n",
       "25%            NaN    100.0    100.0    NaN  \n",
       "50%            NaN    100.0    100.0    NaN  \n",
       "75%            NaN    100.0    100.0    NaN  \n",
       "max            NaN    100.0    100.0    NaN  "
      ]
     },
     "execution_count": 5,
     "metadata": {},
     "output_type": "execute_result"
    }
   ],
   "source": [
    "df.describe(include='all')"
   ]
  },
  {
   "cell_type": "code",
   "execution_count": 6,
   "metadata": {
    "trusted": true
   },
   "outputs": [],
   "source": [
    "sample_size = 1  # Numbre de sample par classe\n",
    "sample_df = df.groupby('label').apply(lambda x: x.sample(sample_size))"
   ]
  },
  {
   "cell_type": "code",
   "execution_count": 17,
   "metadata": {
    "trusted": true
   },
   "outputs": [],
   "source": [
    "## Export sous forme csv pour des questions pratique et pour le chargement des images dans le S3\n",
    "\n",
    "# def _apply_fn(x):\n",
    "#     x['image'] = os.path.normpath(os.path.join(x.path, x.filename))\n",
    "#     return x\n",
    "# df.apply(_apply_fn, axis=1)[['label', 'image']].to_csv(\"./data/fruits-360_dataset/fruits-360/training_images.csv\", index=False)"
   ]
  },
  {
   "cell_type": "markdown",
   "metadata": {},
   "source": [
    "### Chargement des données pyspark"
   ]
  },
  {
   "cell_type": "code",
   "execution_count": 7,
   "metadata": {
    "trusted": true
   },
   "outputs": [],
   "source": [
    "## Imports\n",
    "import io\n",
    "import os\n",
    "import numpy as np\n",
    "import pandas as pd\n",
    "from pyspark import SparkConf\n",
    "from pyspark.sql import SparkSession\n",
    "from pyspark.sql.functions import element_at, split, col, udf\n",
    "from PIL import Image\n",
    "from tensorflow.keras.applications.imagenet_utils import preprocess_input\n",
    "from tensorflow.keras.preprocessing.image import img_to_array\n",
    "from tensorflow.keras.applications import ResNet50\n",
    "from pyspark.ml.linalg import DenseVector, VectorUDT\n",
    "from pyspark.ml.clustering import KMeans"
   ]
  },
  {
   "cell_type": "code",
   "execution_count": 8,
   "metadata": {
    "trusted": true
   },
   "outputs": [],
   "source": [
    "## PYSPARK CONFIGURATION\n",
    "os.environ['PYSPARK_PYTHON'] = r\"python.exe\"\n",
    "os.environ['PYSPARK_DRIVER_PYTHON'] = r\"python.exe\""
   ]
  },
  {
   "cell_type": "code",
   "execution_count": 16,
   "metadata": {
    "trusted": true
   },
   "outputs": [
    {
     "data": {
      "text/html": [
       "\n",
       "            <div>\n",
       "                <p><b>SparkSession - in-memory</b></p>\n",
       "                \n",
       "        <div>\n",
       "            <p><b>SparkContext</b></p>\n",
       "\n",
       "            <p><a href=\"http://host.docker.internal:4040\">Spark UI</a></p>\n",
       "\n",
       "            <dl>\n",
       "              <dt>Version</dt>\n",
       "                <dd><code>v3.3.0</code></dd>\n",
       "              <dt>Master</dt>\n",
       "                <dd><code>local[*]</code></dd>\n",
       "              <dt>AppName</dt>\n",
       "                <dd><code>oc_ds_p8</code></dd>\n",
       "            </dl>\n",
       "        </div>\n",
       "        \n",
       "            </div>\n",
       "        "
      ],
      "text/plain": [
       "<pyspark.sql.session.SparkSession at 0x241a54d1fd0>"
      ]
     },
     "execution_count": 16,
     "metadata": {},
     "output_type": "execute_result"
    }
   ],
   "source": [
    "## STEP 0: Create SparkSession\n",
    "conf = SparkConf() \\\n",
    "        .setMaster(\"local[*]\") \\\n",
    "        .setAppName('oc_ds_p8') \\\n",
    "        .set(\"spark.executor.heartbeatInterval\", \"600000\") \\\n",
    "        .set(\"spark.network.timeout\", \"600000\")\n",
    "spark = SparkSession.builder.config(conf=conf).getOrCreate()\n",
    "sc = spark.sparkContext\n",
    "spark"
   ]
  },
  {
   "cell_type": "code",
   "execution_count": 17,
   "metadata": {
    "trusted": true
   },
   "outputs": [
    {
     "name": "stdout",
     "output_type": "stream",
     "text": [
      "root\n",
      " |-- path: string (nullable = true)\n",
      " |-- modificationTime: timestamp (nullable = true)\n",
      " |-- length: long (nullable = true)\n",
      " |-- content: binary (nullable = true)\n",
      " |-- label: string (nullable = true)\n",
      "\n",
      "131\n",
      "+--------------------+-------------------+------+--------------------+--------------+\n",
      "|                path|   modificationTime|length|             content|         label|\n",
      "+--------------------+-------------------+------+--------------------+--------------+\n",
      "|file:/c:/Users/fl...|2021-09-12 19:26:52|  6837|[FF D8 FF E0 00 1...|pineapple_mini|\n",
      "|file:/c:/Users/fl...|2021-09-12 19:26:22|  6433|[FF D8 FF E0 00 1...|        lychee|\n",
      "|file:/c:/Users/fl...|2021-09-12 19:27:06|  6366|[FF D8 FF E0 00 1...|    watermelon|\n",
      "|file:/c:/Users/fl...|2021-09-12 19:26:00|  6184|[FF D8 FF E0 00 1...|   cauliflower|\n",
      "|file:/c:/Users/fl...|2021-09-12 19:27:00|  6112|[FF D8 FF E0 00 1...|      rambutan|\n",
      "+--------------------+-------------------+------+--------------------+--------------+\n",
      "only showing top 5 rows\n",
      "\n"
     ]
    }
   ],
   "source": [
    "## STEP 1: Load images\n",
    "\n",
    "images_paths = sample_df[['filename', 'path']].apply(lambda x: os.path.join(x.path, x.filename), axis=1).to_list()\n",
    "images_df = spark.read.format(\"binaryFile\").option(\"pathGlobFilter\", \"*.jpg\").load(images_paths).cache()\n",
    "images_df = images_df.withColumn('label', element_at(split(col('path'), '/'),-2))\n",
    "images_df.printSchema()\n",
    "print(images_df.count())\n",
    "images_df.show(5)"
   ]
  },
  {
   "cell_type": "code",
   "execution_count": 18,
   "metadata": {
    "trusted": true
   },
   "outputs": [
    {
     "name": "stdout",
     "output_type": "stream",
     "text": [
      "root\n",
      " |-- path: string (nullable = true)\n",
      " |-- label: string (nullable = true)\n",
      " |-- features: vector (nullable = true)\n",
      "\n",
      "131\n",
      "+--------------------+--------------+--------------------+\n",
      "|                path|         label|            features|\n",
      "+--------------------+--------------+--------------------+\n",
      "|file:/c:/Users/fl...|pineapple_mini|[0.0,0.4202145636...|\n",
      "|file:/c:/Users/fl...|        lychee|[0.0,0.0832873880...|\n",
      "|file:/c:/Users/fl...|    watermelon|[0.04883571714162...|\n",
      "|file:/c:/Users/fl...|   cauliflower|[0.0,3.6171073913...|\n",
      "|file:/c:/Users/fl...|      rambutan|[0.0,0.2057400047...|\n",
      "+--------------------+--------------+--------------------+\n",
      "only showing top 5 rows\n",
      "\n"
     ]
    }
   ],
   "source": [
    "## STEP 2: Featurize images avec ResNet50 (bonnes performances)\n",
    "# Utilisation de udf pour extraire les features par batch d'images\n",
    "\n",
    "model = ResNet50(include_top=False, input_shape=(None, None, 3), weights=\"imagenet\", pooling=\"avg\")\n",
    "bc_model_weights = sc.broadcast(model.get_weights())\n",
    "\n",
    "@udf(returnType=VectorUDT())\n",
    "def features_vectorizer_1(content):\n",
    "    img = Image.open(io.BytesIO(content))\n",
    "    arr = img_to_array(img)\n",
    "    arr = preprocess_input(arr)\n",
    "    model = ResNet50(include_top=False, input_shape=arr.shape, weights=None, pooling=\"avg\")\n",
    "    model.set_weights(bc_model_weights.value)\n",
    "    features = model.predict(np.array([arr]))\n",
    "    return DenseVector(features.flatten())\n",
    "\n",
    "features_df = images_df.select('path', 'label', features_vectorizer_1('content').alias('features'))\n",
    "features_df.printSchema()\n",
    "print(features_df.count())\n",
    "features_df.show(5)"
   ]
  },
  {
   "cell_type": "code",
   "execution_count": 20,
   "metadata": {
    "trusted": true
   },
   "outputs": [
    {
     "name": "stdout",
     "output_type": "stream",
     "text": [
      "k 131\n",
      "root\n",
      " |-- path: string (nullable = true)\n",
      " |-- label: string (nullable = true)\n",
      " |-- features: vector (nullable = true)\n",
      " |-- prediction: integer (nullable = false)\n",
      "\n",
      "131\n",
      "+--------------------+--------------+--------------------+----------+\n",
      "|                path|         label|            features|prediction|\n",
      "+--------------------+--------------+--------------------+----------+\n",
      "|file:/c:/Users/fl...|pineapple_mini|[0.0,0.4202145636...|         1|\n",
      "|file:/c:/Users/fl...|        lychee|[0.0,0.0832873880...|         2|\n",
      "|file:/c:/Users/fl...|    watermelon|[0.04883571714162...|         3|\n",
      "|file:/c:/Users/fl...|   cauliflower|[0.0,3.6171073913...|         4|\n",
      "|file:/c:/Users/fl...|      rambutan|[0.0,0.2057400047...|         5|\n",
      "+--------------------+--------------+--------------------+----------+\n",
      "only showing top 5 rows\n",
      "\n"
     ]
    }
   ],
   "source": [
    "## STEP 3: Cluster images (facultatif: catégorisation des images grace aux features)\n",
    "\n",
    "k = features_df.select(\"label\").distinct().count()\n",
    "print('k' , k)\n",
    "\n",
    "kmeans = KMeans(k=k, seed=1)\n",
    "kmeans.setFeaturesCol('features')\n",
    "kmeans.setPredictionCol('prediction')\n",
    "\n",
    "kmeans_model = kmeans.fit(features_df)\n",
    "cluster_df = kmeans_model.transform(features_df)\n",
    "\n",
    "cluster_df.printSchema()\n",
    "print(cluster_df.count())\n",
    "cluster_df.show(5)"
   ]
  },
  {
   "cell_type": "code",
   "execution_count": 21,
   "metadata": {
    "trusted": true
   },
   "outputs": [
    {
     "name": "stderr",
     "output_type": "stream",
     "text": [
      "c:\\Users\\flori\\miniconda3\\envs\\pyspark\\lib\\site-packages\\pyspark\\sql\\pandas\\conversion.py:87: UserWarning: toPandas attempted Arrow optimization because 'spark.sql.execution.arrow.pyspark.enabled' is set to true; however, failed by the reason below:\n",
      "  Unsupported type in conversion to Arrow: VectorUDT\n",
      "Attempting non-optimization as 'spark.sql.execution.arrow.pyspark.fallback.enabled' is set to true.\n",
      "  warnings.warn(msg)\n"
     ]
    },
    {
     "data": {
      "text/html": [
       "<div>\n",
       "<style scoped>\n",
       "    .dataframe tbody tr th:only-of-type {\n",
       "        vertical-align: middle;\n",
       "    }\n",
       "\n",
       "    .dataframe tbody tr th {\n",
       "        vertical-align: top;\n",
       "    }\n",
       "\n",
       "    .dataframe thead th {\n",
       "        text-align: right;\n",
       "    }\n",
       "</style>\n",
       "<table border=\"1\" class=\"dataframe\">\n",
       "  <thead>\n",
       "    <tr style=\"text-align: right;\">\n",
       "      <th></th>\n",
       "      <th>path</th>\n",
       "      <th>label</th>\n",
       "      <th>features</th>\n",
       "      <th>prediction</th>\n",
       "    </tr>\n",
       "  </thead>\n",
       "  <tbody>\n",
       "    <tr>\n",
       "      <th>0</th>\n",
       "      <td>file:/c:/Users/flori/DataProjects/P8_lotte_flo...</td>\n",
       "      <td>pineapple_mini</td>\n",
       "      <td>[0.0, 0.42021456360816956, 5.729567050933838, ...</td>\n",
       "      <td>1</td>\n",
       "    </tr>\n",
       "    <tr>\n",
       "      <th>1</th>\n",
       "      <td>file:/c:/Users/flori/DataProjects/P8_lotte_flo...</td>\n",
       "      <td>lychee</td>\n",
       "      <td>[0.0, 0.08328738808631897, 0.15632647275924683...</td>\n",
       "      <td>2</td>\n",
       "    </tr>\n",
       "    <tr>\n",
       "      <th>2</th>\n",
       "      <td>file:/c:/Users/flori/DataProjects/P8_lotte_flo...</td>\n",
       "      <td>watermelon</td>\n",
       "      <td>[0.048835717141628265, 0.5986989736557007, 0.9...</td>\n",
       "      <td>3</td>\n",
       "    </tr>\n",
       "    <tr>\n",
       "      <th>3</th>\n",
       "      <td>file:/c:/Users/flori/DataProjects/P8_lotte_flo...</td>\n",
       "      <td>cauliflower</td>\n",
       "      <td>[0.0, 3.617107391357422, 2.1287989616394043, 0...</td>\n",
       "      <td>4</td>\n",
       "    </tr>\n",
       "    <tr>\n",
       "      <th>4</th>\n",
       "      <td>file:/c:/Users/flori/DataProjects/P8_lotte_flo...</td>\n",
       "      <td>rambutan</td>\n",
       "      <td>[0.0, 0.20574000477790833, 1.0261861085891724,...</td>\n",
       "      <td>5</td>\n",
       "    </tr>\n",
       "  </tbody>\n",
       "</table>\n",
       "</div>"
      ],
      "text/plain": [
       "                                                path           label  \\\n",
       "0  file:/c:/Users/flori/DataProjects/P8_lotte_flo...  pineapple_mini   \n",
       "1  file:/c:/Users/flori/DataProjects/P8_lotte_flo...          lychee   \n",
       "2  file:/c:/Users/flori/DataProjects/P8_lotte_flo...      watermelon   \n",
       "3  file:/c:/Users/flori/DataProjects/P8_lotte_flo...     cauliflower   \n",
       "4  file:/c:/Users/flori/DataProjects/P8_lotte_flo...        rambutan   \n",
       "\n",
       "                                            features  prediction  \n",
       "0  [0.0, 0.42021456360816956, 5.729567050933838, ...           1  \n",
       "1  [0.0, 0.08328738808631897, 0.15632647275924683...           2  \n",
       "2  [0.048835717141628265, 0.5986989736557007, 0.9...           3  \n",
       "3  [0.0, 3.617107391357422, 2.1287989616394043, 0...           4  \n",
       "4  [0.0, 0.20574000477790833, 1.0261861085891724,...           5  "
      ]
     },
     "execution_count": 21,
     "metadata": {},
     "output_type": "execute_result"
    }
   ],
   "source": [
    "## Lesture du resultat\n",
    "\n",
    "result = cluster_df.select('path', 'label', 'features', 'prediction').toPandas()\n",
    "result.head()"
   ]
  },
  {
   "cell_type": "markdown",
   "metadata": {},
   "source": [
    "### Execution JupyterHub sur cluster EMR"
   ]
  },
  {
   "cell_type": "code",
   "execution_count": 4,
   "metadata": {
    "trusted": true
   },
   "outputs": [
    {
     "name": "stdout",
     "output_type": "stream",
     "text": [
      "Starting Spark application\n"
     ]
    },
    {
     "data": {
      "text/html": [
       "<table>\n",
       "<tr><th>ID</th><th>YARN Application ID</th><th>Kind</th><th>State</th><th>Spark UI</th><th>Driver log</th><th>User</th><th>Current session?</th></tr><tr><td>1</td><td>application_1658852978466_0002</td><td>pyspark</td><td>idle</td><td><a target=\"_blank\" href=\"http://ip-172-31-3-47.eu-west-3.compute.internal:20888/proxy/application_1658852978466_0002/\">Link</a></td><td><a target=\"_blank\" href=\"http://ip-172-31-10-205.eu-west-3.compute.internal:8042/node/containerlogs/container_1658852978466_0002_01_000001/livy\">Link</a></td><td>None</td><td>✔</td></tr></table>"
      ],
      "text/plain": [
       "<IPython.core.display.HTML object>"
      ]
     },
     "metadata": {},
     "output_type": "display_data"
    },
    {
     "data": {
      "application/vnd.jupyter.widget-view+json": {
       "model_id": "",
       "version_major": 2,
       "version_minor": 0
      },
      "text/plain": [
       "FloatProgress(value=0.0, bar_style='info', description='Progress:', layout=Layout(height='25px', width='50%'),…"
      ]
     },
     "metadata": {},
     "output_type": "display_data"
    },
    {
     "name": "stdout",
     "output_type": "stream",
     "text": [
      "SparkSession available as 'spark'.\n"
     ]
    },
    {
     "data": {
      "application/vnd.jupyter.widget-view+json": {
       "model_id": "",
       "version_major": 2,
       "version_minor": 0
      },
      "text/plain": [
       "FloatProgress(value=0.0, bar_style='info', description='Progress:', layout=Layout(height='25px', width='50%'),…"
      ]
     },
     "metadata": {},
     "output_type": "display_data"
    }
   ],
   "source": [
    "# Execution du code sur le JupiterHub du cluster EMR de Amazon\n",
    "\n",
    "# start pyspark session"
   ]
  },
  {
   "cell_type": "code",
   "execution_count": 5,
   "metadata": {
    "trusted": true
   },
   "outputs": [
    {
     "data": {
      "text/html": [
       "Current session configs: <tt>{'driverMemory': '1000M', 'executorCores': 2, 'proxyUser': 'jovyan', 'kind': 'pyspark'}</tt><br>"
      ],
      "text/plain": [
       "<IPython.core.display.HTML object>"
      ]
     },
     "metadata": {},
     "output_type": "display_data"
    },
    {
     "data": {
      "text/html": [
       "<table>\n",
       "<tr><th>ID</th><th>YARN Application ID</th><th>Kind</th><th>State</th><th>Spark UI</th><th>Driver log</th><th>User</th><th>Current session?</th></tr><tr><td>1</td><td>application_1658852978466_0002</td><td>pyspark</td><td>idle</td><td><a target=\"_blank\" href=\"http://ip-172-31-3-47.eu-west-3.compute.internal:20888/proxy/application_1658852978466_0002/\">Link</a></td><td><a target=\"_blank\" href=\"http://ip-172-31-10-205.eu-west-3.compute.internal:8042/node/containerlogs/container_1658852978466_0002_01_000001/livy\">Link</a></td><td>None</td><td>✔</td></tr></table>"
      ],
      "text/plain": [
       "<IPython.core.display.HTML object>"
      ]
     },
     "metadata": {},
     "output_type": "display_data"
    }
   ],
   "source": [
    "%%info"
   ]
  },
  {
   "cell_type": "code",
   "execution_count": 11,
   "metadata": {
    "trusted": true
   },
   "outputs": [
    {
     "data": {
      "application/vnd.jupyter.widget-view+json": {
       "model_id": "",
       "version_major": 2,
       "version_minor": 0
      },
      "text/plain": [
       "FloatProgress(value=0.0, bar_style='info', description='Progress:', layout=Layout(height='25px', width='50%'),…"
      ]
     },
     "metadata": {},
     "output_type": "display_data"
    },
    {
     "name": "stdout",
     "output_type": "stream",
     "text": [
      "root\n",
      " |-- path: string (nullable = true)\n",
      " |-- modificationTime: timestamp (nullable = true)\n",
      " |-- length: long (nullable = true)\n",
      " |-- content: binary (nullable = true)\n",
      " |-- label: string (nullable = true)"
     ]
    }
   ],
   "source": [
    "## STEP 1: Load images\n",
    "\n",
    "s3_uri = \"s3://oc-p8/images/**\"\n",
    "images_df = spark.read.format(\"binaryFile\").option(\"pathGlobFilter\", \"*.jpg\").load(s3_uri).cache()\n",
    "images_df = images_df.withColumn('label', element_at(split(col('path'), '/'),-2))\n",
    "images_df.printSchema()"
   ]
  },
  {
   "cell_type": "code",
   "execution_count": 12,
   "metadata": {
    "trusted": true
   },
   "outputs": [
    {
     "data": {
      "application/vnd.jupyter.widget-view+json": {
       "model_id": "",
       "version_major": 2,
       "version_minor": 0
      },
      "text/plain": [
       "FloatProgress(value=0.0, bar_style='info', description='Progress:', layout=Layout(height='25px', width='50%'),…"
      ]
     },
     "metadata": {},
     "output_type": "display_data"
    },
    {
     "name": "stdout",
     "output_type": "stream",
     "text": [
      "Downloading data from https://storage.googleapis.com/tensorflow/keras-applications/resnet/resnet50_weights_tf_dim_ordering_tf_kernels_notop.h5\n",
      "\r    8192/94765736 [..............................] - ETA: 1s\b\b\b\b\b\b\b\b\b\b\b\b\b\b\b\b\b\b\b\b\b\b\b\b\b\b\b\b\b\b\b\b\b\b\b\b\b\b\b\b\b\b\b\b\b\b\b\b\b\b\b\b\b\b\b\b\b\b\b\b\r 5734400/94765736 [>.............................] - ETA: 0s\b\b\b\b\b\b\b\b\b\b\b\b\b\b\b\b\b\b\b\b\b\b\b\b\b\b\b\b\b\b\b\b\b\b\b\b\b\b\b\b\b\b\b\b\b\b\b\b\b\b\b\b\b\b\b\b\b\b\b\b\r17113088/94765736 [====>.........................] - ETA: 0s\b\b\b\b\b\b\b\b\b\b\b\b\b\b\b\b\b\b\b\b\b\b\b\b\b\b\b\b\b\b\b\b\b\b\b\b\b\b\b\b\b\b\b\b\b\b\b\b\b\b\b\b\b\b\b\b\b\b\b\b\r28811264/94765736 [========>.....................] - ETA: 0s\b\b\b\b\b\b\b\b\b\b\b\b\b\b\b\b\b\b\b\b\b\b\b\b\b\b\b\b\b\b\b\b\b\b\b\b\b\b\b\b\b\b\b\b\b\b\b\b\b\b\b\b\b\b\b\b\b\b\b\b\r40886272/94765736 [===========>..................] - ETA: 0s\b\b\b\b\b\b\b\b\b\b\b\b\b\b\b\b\b\b\b\b\b\b\b\b\b\b\b\b\b\b\b\b\b\b\b\b\b\b\b\b\b\b\b\b\b\b\b\b\b\b\b\b\b\b\b\b\b\b\b\b\r53911552/94765736 [================>.............] - ETA: 0s\b\b\b\b\b\b\b\b\b\b\b\b\b\b\b\b\b\b\b\b\b\b\b\b\b\b\b\b\b\b\b\b\b\b\b\b\b\b\b\b\b\b\b\b\b\b\b\b\b\b\b\b\b\b\b\b\b\b\b\b\r67952640/94765736 [====================>.........] - ETA: 0s\b\b\b\b\b\b\b\b\b\b\b\b\b\b\b\b\b\b\b\b\b\b\b\b\b\b\b\b\b\b\b\b\b\b\b\b\b\b\b\b\b\b\b\b\b\b\b\b\b\b\b\b\b\b\b\b\b\b\b\b\r82763776/94765736 [=========================>....] - ETA: 0s\b\b\b\b\b\b\b\b\b\b\b\b\b\b\b\b\b\b\b\b\b\b\b\b\b\b\b\b\b\b\b\b\b\b\b\b\b\b\b\b\b\b\b\b\b\b\b\b\b\b\b\b\b\b\b\b\b\b\b\b\r94773248/94765736 [==============================] - 0s 0us/step\n",
      "root\n",
      " |-- path: string (nullable = true)\n",
      " |-- modificationTime: timestamp (nullable = true)\n",
      " |-- length: long (nullable = true)\n",
      " |-- content: binary (nullable = true)\n",
      " |-- label: string (nullable = true)\n",
      " |-- features: vector (nullable = true)"
     ]
    }
   ],
   "source": [
    "## STEP 2: Featurize images\n",
    "\n",
    "model = ResNet50(include_top=False, input_shape=(None, None, 3), weights=\"imagenet\", pooling=\"avg\")\n",
    "bc_model_weights = sc.broadcast(model.get_weights())\n",
    "\n",
    "@udf(returnType=VectorUDT())\n",
    "def features_vectorizer_1(content):\n",
    "    img = Image.open(io.BytesIO(content))\n",
    "    arr = img_to_array(img)\n",
    "    arr = preprocess_input(arr)\n",
    "    model = ResNet50(include_top=False, input_shape=arr.shape, weights=None, pooling=\"avg\")\n",
    "    model.set_weights(bc_model_weights.value)\n",
    "    features = model.predict(np.array([arr]))\n",
    "    return DenseVector(features.flatten())\n",
    "\n",
    "features_df = images_df.select('path', 'label', features_vectorizer_1('content').alias('features'))\n",
    "features_df.printSchema()"
   ]
  },
  {
   "cell_type": "code",
   "execution_count": 13,
   "metadata": {
    "trusted": true
   },
   "outputs": [
    {
     "data": {
      "application/vnd.jupyter.widget-view+json": {
       "model_id": "",
       "version_major": 2,
       "version_minor": 0
      },
      "text/plain": [
       "FloatProgress(value=0.0, bar_style='info', description='Progress:', layout=Layout(height='25px', width='50%'),…"
      ]
     },
     "metadata": {},
     "output_type": "display_data"
    },
    {
     "name": "stdout",
     "output_type": "stream",
     "text": [
      "k 131\n",
      "root\n",
      " |-- path: string (nullable = true)\n",
      " |-- modificationTime: timestamp (nullable = true)\n",
      " |-- length: long (nullable = true)\n",
      " |-- content: binary (nullable = true)\n",
      " |-- label: string (nullable = true)\n",
      " |-- features: vector (nullable = true)\n",
      " |-- prediction: integer (nullable = false)"
     ]
    }
   ],
   "source": [
    "## STEP 3: Cluster images\n",
    "\n",
    "k = features_df.select(\"label\").distinct().count()\n",
    "print('k' , k)\n",
    "\n",
    "kmeans = KMeans(k=k, seed=1)\n",
    "kmeans.setFeaturesCol('features')\n",
    "kmeans.setPredictionCol('prediction')\n",
    "\n",
    "kmeans_model = kmeans.fit(features_df.select('features'))\n",
    "cluster_df = kmeans_model.transform(features_df)\n",
    "cluster_df.printSchema()"
   ]
  },
  {
   "cell_type": "code",
   "execution_count": null,
   "metadata": {
    "trusted": true
   },
   "outputs": [
    {
     "data": {
      "application/vnd.jupyter.widget-view+json": {
       "model_id": "d91a2ac1a455488b81c4e3dbcd6c0ee1",
       "version_major": 2,
       "version_minor": 0
      },
      "text/plain": [
       "FloatProgress(value=0.0, bar_style='info', description='Progress:', layout=Layout(height='25px', width='50%'),…"
      ]
     },
     "metadata": {},
     "output_type": "display_data"
    }
   ],
   "source": [
    "## Enregistrement du resultat sur le S3 dans un fichier CSV\n",
    "## Le fichier CSV est accessible via le lien suivant: https://oc-p8.s3.eu-west-3.amazonaws.com/training_result.csv\n",
    "\n",
    "cluster_df.select('path', 'label', 'features', 'prediction').toPandas().to_csv(\"s3://oc-p8/training_result.csv\")"
   ]
  },
  {
   "cell_type": "markdown",
   "metadata": {},
   "source": [
    "### Export du notebook en HTML"
   ]
  },
  {
   "cell_type": "code",
   "execution_count": 8,
   "metadata": {
    "trusted": true
   },
   "outputs": [
    {
     "name": "stderr",
     "output_type": "stream",
     "text": [
      "[NbConvertApp] Converting notebook P8_01_notebookexploration.ipynb to html\n",
      "[NbConvertApp] Writing 637222 bytes to P8_01_notebookexploration.html\n"
     ]
    }
   ],
   "source": [
    "!jupyter nbconvert --config nbconvert/config_html.py"
   ]
  }
 ],
 "metadata": {
  "kernelspec": {
   "display_name": "Python 3.9.12 ('pyspark')",
   "language": "python",
   "name": "python3"
  },
  "language_info": {
   "codemirror_mode": {
    "name": "ipython",
    "version": 3
   },
   "file_extension": ".py",
   "mimetype": "text/x-python",
   "name": "python",
   "nbconvert_exporter": "python",
   "pygments_lexer": "ipython3",
   "version": "3.9.12"
  },
  "vscode": {
   "interpreter": {
    "hash": "b3fef660196c1469da4b21f48cae9d42bbfc9c650512dd834100efd9cdfa0f86"
   }
  }
 },
 "nbformat": 4,
 "nbformat_minor": 2
}
