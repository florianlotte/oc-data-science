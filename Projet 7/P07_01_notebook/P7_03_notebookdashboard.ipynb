{
 "cells": [
  {
   "cell_type": "markdown",
   "metadata": {},
   "source": [
    "# **Projet 7 :** Implémentez un modèle de scoring"
   ]
  },
  {
   "cell_type": "markdown",
   "metadata": {},
   "source": [
    "## Notebook de test pour le dashboard"
   ]
  },
  {
   "cell_type": "markdown",
   "metadata": {},
   "source": [
    "### Import"
   ]
  },
  {
   "cell_type": "code",
   "execution_count": 1,
   "metadata": {},
   "outputs": [
    {
     "name": "stdout",
     "output_type": "stream",
     "text": [
      "1.1.1\n"
     ]
    }
   ],
   "source": [
    "import os\n",
    "\n",
    "# check scikit-learn version\n",
    "import sklearn\n",
    "print(sklearn.__version__)"
   ]
  },
  {
   "cell_type": "code",
   "execution_count": 2,
   "metadata": {},
   "outputs": [
    {
     "name": "stdout",
     "output_type": "stream",
     "text": [
      "Populating the interactive namespace from numpy and matplotlib\n"
     ]
    }
   ],
   "source": [
    "%pylab inline\n",
    "import pandas as pd"
   ]
  },
  {
   "cell_type": "markdown",
   "metadata": {},
   "source": [
    "### Configuration"
   ]
  },
  {
   "cell_type": "code",
   "execution_count": 3,
   "metadata": {},
   "outputs": [],
   "source": [
    "%load_ext autoreload\n",
    "%autoreload 2\n",
    "\n",
    "# configurations pandas\n",
    "pd.set_option('display.max_rows', 250)\n",
    "pd.set_option('display.max_columns', 250)\n",
    "\n",
    "import warnings\n",
    "warnings.filterwarnings(\"ignore\")"
   ]
  },
  {
   "cell_type": "markdown",
   "metadata": {},
   "source": [
    "### Chargement des données"
   ]
  },
  {
   "cell_type": "code",
   "execution_count": 4,
   "metadata": {},
   "outputs": [
    {
     "name": "stdout",
     "output_type": "stream",
     "text": [
      "(356255, 424)\n"
     ]
    }
   ],
   "source": [
    "path = './data'\n",
    "filename = 'Home_Credit_Default_Risk.csv'\n",
    "data = pd.read_csv(os.path.join(path, filename))\n",
    "data.set_index('SK_ID_CURR', inplace=True)\n",
    "print(data.shape)"
   ]
  },
  {
   "cell_type": "markdown",
   "metadata": {},
   "source": [
    "### Selection des stats générales"
   ]
  },
  {
   "cell_type": "code",
   "execution_count": 73,
   "metadata": {},
   "outputs": [],
   "source": [
    "from sklearn.cluster import MiniBatchKMeans\n",
    "df = data[['AMT_CREDIT', 'AMT_ANNUITY']].copy()\n",
    "df = df.fillna(df.mean())\n",
    "kmeans = MiniBatchKMeans(n_clusters=1000, random_state=0)\n",
    "df['CLUSTER'] = kmeans.fit_predict(df.values)\n",
    "reduced_df = pd.DataFrame(kmeans.cluster_centers_, columns=['CENTROID_X', 'CENTROID_Y'], index=range(1000))\n",
    "reduced_df['COUNT'] = df.groupby(['CLUSTER'])['CLUSTER'].count()\n",
    "reduced_df['COUNT'].fillna(0, inplace=True)"
   ]
  },
  {
   "cell_type": "code",
   "execution_count": 92,
   "metadata": {},
   "outputs": [],
   "source": [
    "data.set_index('SK_ID_CURR', inplace=True)"
   ]
  },
  {
   "cell_type": "code",
   "execution_count": 95,
   "metadata": {},
   "outputs": [
    {
     "data": {
      "text/html": [
       "<div>\n",
       "<style scoped>\n",
       "    .dataframe tbody tr th:only-of-type {\n",
       "        vertical-align: middle;\n",
       "    }\n",
       "\n",
       "    .dataframe tbody tr th {\n",
       "        vertical-align: top;\n",
       "    }\n",
       "\n",
       "    .dataframe thead th {\n",
       "        text-align: right;\n",
       "    }\n",
       "</style>\n",
       "<table border=\"1\" class=\"dataframe\">\n",
       "  <thead>\n",
       "    <tr style=\"text-align: right;\">\n",
       "      <th></th>\n",
       "      <th>TARGET</th>\n",
       "      <th>CODE_GENDER</th>\n",
       "      <th>FLAG_OWN_CAR</th>\n",
       "      <th>FLAG_OWN_REALTY</th>\n",
       "      <th>CNT_CHILDREN</th>\n",
       "      <th>AMT_INCOME_TOTAL</th>\n",
       "      <th>AMT_CREDIT</th>\n",
       "      <th>AMT_ANNUITY</th>\n",
       "      <th>AMT_GOODS_PRICE</th>\n",
       "      <th>REGION_POPULATION_RELATIVE</th>\n",
       "      <th>DAYS_BIRTH</th>\n",
       "      <th>DAYS_REGISTRATION</th>\n",
       "      <th>DAYS_ID_PUBLISH</th>\n",
       "      <th>FLAG_MOBIL</th>\n",
       "      <th>FLAG_EMP_PHONE</th>\n",
       "      <th>FLAG_WORK_PHONE</th>\n",
       "      <th>FLAG_CONT_MOBILE</th>\n",
       "      <th>FLAG_PHONE</th>\n",
       "      <th>FLAG_EMAIL</th>\n",
       "      <th>CNT_FAM_MEMBERS</th>\n",
       "      <th>REGION_RATING_CLIENT</th>\n",
       "      <th>REGION_RATING_CLIENT_W_CITY</th>\n",
       "      <th>HOUR_APPR_PROCESS_START</th>\n",
       "      <th>REG_REGION_NOT_LIVE_REGION</th>\n",
       "      <th>REG_REGION_NOT_WORK_REGION</th>\n",
       "      <th>LIVE_REGION_NOT_WORK_REGION</th>\n",
       "      <th>REG_CITY_NOT_LIVE_CITY</th>\n",
       "      <th>REG_CITY_NOT_WORK_CITY</th>\n",
       "      <th>LIVE_CITY_NOT_WORK_CITY</th>\n",
       "      <th>EXT_SOURCE_2</th>\n",
       "      <th>OBS_30_CNT_SOCIAL_CIRCLE</th>\n",
       "      <th>DEF_30_CNT_SOCIAL_CIRCLE</th>\n",
       "      <th>OBS_60_CNT_SOCIAL_CIRCLE</th>\n",
       "      <th>DEF_60_CNT_SOCIAL_CIRCLE</th>\n",
       "      <th>DAYS_LAST_PHONE_CHANGE</th>\n",
       "      <th>FLAG_DOCUMENT_2</th>\n",
       "      <th>FLAG_DOCUMENT_3</th>\n",
       "      <th>FLAG_DOCUMENT_4</th>\n",
       "      <th>FLAG_DOCUMENT_5</th>\n",
       "      <th>FLAG_DOCUMENT_6</th>\n",
       "      <th>FLAG_DOCUMENT_7</th>\n",
       "      <th>FLAG_DOCUMENT_8</th>\n",
       "      <th>FLAG_DOCUMENT_9</th>\n",
       "      <th>FLAG_DOCUMENT_10</th>\n",
       "      <th>FLAG_DOCUMENT_11</th>\n",
       "      <th>FLAG_DOCUMENT_12</th>\n",
       "      <th>FLAG_DOCUMENT_13</th>\n",
       "      <th>FLAG_DOCUMENT_14</th>\n",
       "      <th>FLAG_DOCUMENT_15</th>\n",
       "      <th>FLAG_DOCUMENT_16</th>\n",
       "      <th>FLAG_DOCUMENT_17</th>\n",
       "      <th>FLAG_DOCUMENT_18</th>\n",
       "      <th>FLAG_DOCUMENT_19</th>\n",
       "      <th>FLAG_DOCUMENT_20</th>\n",
       "      <th>FLAG_DOCUMENT_21</th>\n",
       "      <th>NAME_CONTRACT_TYPE_Cash_loans</th>\n",
       "      <th>NAME_CONTRACT_TYPE_Revolving_loans</th>\n",
       "      <th>NAME_TYPE_SUITE_Children</th>\n",
       "      <th>NAME_TYPE_SUITE_Family</th>\n",
       "      <th>NAME_TYPE_SUITE_Group_of_people</th>\n",
       "      <th>NAME_TYPE_SUITE_Other_A</th>\n",
       "      <th>NAME_TYPE_SUITE_Other_B</th>\n",
       "      <th>NAME_TYPE_SUITE_Spouse_partner</th>\n",
       "      <th>NAME_TYPE_SUITE_Unaccompanied</th>\n",
       "      <th>NAME_INCOME_TYPE_Businessman</th>\n",
       "      <th>NAME_INCOME_TYPE_Commercial_associate</th>\n",
       "      <th>NAME_INCOME_TYPE_Maternity_leave</th>\n",
       "      <th>NAME_INCOME_TYPE_Pensioner</th>\n",
       "      <th>NAME_INCOME_TYPE_State_servant</th>\n",
       "      <th>NAME_INCOME_TYPE_Student</th>\n",
       "      <th>NAME_INCOME_TYPE_Unemployed</th>\n",
       "      <th>NAME_INCOME_TYPE_Working</th>\n",
       "      <th>NAME_EDUCATION_TYPE_Academic_degree</th>\n",
       "      <th>NAME_EDUCATION_TYPE_Higher_education</th>\n",
       "      <th>NAME_EDUCATION_TYPE_Incomplete_higher</th>\n",
       "      <th>NAME_EDUCATION_TYPE_Lower_secondary</th>\n",
       "      <th>NAME_EDUCATION_TYPE_Secondary_secondary_special</th>\n",
       "      <th>NAME_FAMILY_STATUS_Civil_marriage</th>\n",
       "      <th>NAME_FAMILY_STATUS_Married</th>\n",
       "      <th>NAME_FAMILY_STATUS_Separated</th>\n",
       "      <th>NAME_FAMILY_STATUS_Single_not_married</th>\n",
       "      <th>NAME_FAMILY_STATUS_Unknown</th>\n",
       "      <th>NAME_FAMILY_STATUS_Widow</th>\n",
       "      <th>NAME_HOUSING_TYPE_Co_op_apartment</th>\n",
       "      <th>NAME_HOUSING_TYPE_House_apartment</th>\n",
       "      <th>NAME_HOUSING_TYPE_Municipal_apartment</th>\n",
       "      <th>NAME_HOUSING_TYPE_Office_apartment</th>\n",
       "      <th>NAME_HOUSING_TYPE_Rented_apartment</th>\n",
       "      <th>NAME_HOUSING_TYPE_With_parents</th>\n",
       "      <th>OCCUPATION_TYPE_Accountants</th>\n",
       "      <th>OCCUPATION_TYPE_Cleaning_staff</th>\n",
       "      <th>OCCUPATION_TYPE_Cooking_staff</th>\n",
       "      <th>OCCUPATION_TYPE_Core_staff</th>\n",
       "      <th>OCCUPATION_TYPE_Drivers</th>\n",
       "      <th>OCCUPATION_TYPE_HR_staff</th>\n",
       "      <th>OCCUPATION_TYPE_High_skill_tech_staff</th>\n",
       "      <th>OCCUPATION_TYPE_IT_staff</th>\n",
       "      <th>OCCUPATION_TYPE_Laborers</th>\n",
       "      <th>OCCUPATION_TYPE_Low_skill_Laborers</th>\n",
       "      <th>OCCUPATION_TYPE_Managers</th>\n",
       "      <th>OCCUPATION_TYPE_Medicine_staff</th>\n",
       "      <th>OCCUPATION_TYPE_Private_service_staff</th>\n",
       "      <th>OCCUPATION_TYPE_Realty_agents</th>\n",
       "      <th>OCCUPATION_TYPE_Sales_staff</th>\n",
       "      <th>OCCUPATION_TYPE_Secretaries</th>\n",
       "      <th>OCCUPATION_TYPE_Security_staff</th>\n",
       "      <th>OCCUPATION_TYPE_Waiters_barmen_staff</th>\n",
       "      <th>WEEKDAY_APPR_PROCESS_START_FRIDAY</th>\n",
       "      <th>WEEKDAY_APPR_PROCESS_START_MONDAY</th>\n",
       "      <th>WEEKDAY_APPR_PROCESS_START_SATURDAY</th>\n",
       "      <th>WEEKDAY_APPR_PROCESS_START_SUNDAY</th>\n",
       "      <th>WEEKDAY_APPR_PROCESS_START_THURSDAY</th>\n",
       "      <th>WEEKDAY_APPR_PROCESS_START_TUESDAY</th>\n",
       "      <th>WEEKDAY_APPR_PROCESS_START_WEDNESDAY</th>\n",
       "      <th>ORGANIZATION_TYPE_Advertising</th>\n",
       "      <th>ORGANIZATION_TYPE_Agriculture</th>\n",
       "      <th>ORGANIZATION_TYPE_Bank</th>\n",
       "      <th>ORGANIZATION_TYPE_Business_Entity_Type_1</th>\n",
       "      <th>ORGANIZATION_TYPE_Business_Entity_Type_2</th>\n",
       "      <th>ORGANIZATION_TYPE_Business_Entity_Type_3</th>\n",
       "      <th>ORGANIZATION_TYPE_Cleaning</th>\n",
       "      <th>ORGANIZATION_TYPE_Construction</th>\n",
       "      <th>ORGANIZATION_TYPE_Culture</th>\n",
       "      <th>ORGANIZATION_TYPE_Electricity</th>\n",
       "      <th>ORGANIZATION_TYPE_Emergency</th>\n",
       "      <th>...</th>\n",
       "      <th>PREV_NAME_GOODS_CATEGORY_Medicine_MEAN</th>\n",
       "      <th>PREV_NAME_GOODS_CATEGORY_Mobile_MEAN</th>\n",
       "      <th>PREV_NAME_GOODS_CATEGORY_Office_Appliances_MEAN</th>\n",
       "      <th>PREV_NAME_GOODS_CATEGORY_Other_MEAN</th>\n",
       "      <th>PREV_NAME_GOODS_CATEGORY_Photo_Cinema_Equipment_MEAN</th>\n",
       "      <th>PREV_NAME_GOODS_CATEGORY_Sport_and_Leisure_MEAN</th>\n",
       "      <th>PREV_NAME_GOODS_CATEGORY_Tourism_MEAN</th>\n",
       "      <th>PREV_NAME_GOODS_CATEGORY_Vehicles_MEAN</th>\n",
       "      <th>PREV_NAME_GOODS_CATEGORY_Weapon_MEAN</th>\n",
       "      <th>PREV_NAME_GOODS_CATEGORY_XNA_MEAN</th>\n",
       "      <th>PREV_NAME_PORTFOLIO_Cards_MEAN</th>\n",
       "      <th>PREV_NAME_PORTFOLIO_Cars_MEAN</th>\n",
       "      <th>PREV_NAME_PORTFOLIO_Cash_MEAN</th>\n",
       "      <th>PREV_NAME_PORTFOLIO_POS_MEAN</th>\n",
       "      <th>PREV_NAME_PORTFOLIO_XNA_MEAN</th>\n",
       "      <th>PREV_NAME_PRODUCT_TYPE_XNA_MEAN</th>\n",
       "      <th>PREV_NAME_PRODUCT_TYPE_walk_in_MEAN</th>\n",
       "      <th>PREV_NAME_PRODUCT_TYPE_x_sell_MEAN</th>\n",
       "      <th>PREV_CHANNEL_TYPE_AP_Cash_loan__MEAN</th>\n",
       "      <th>PREV_CHANNEL_TYPE_Car_dealer_MEAN</th>\n",
       "      <th>PREV_CHANNEL_TYPE_Channel_of_corporate_sales_MEAN</th>\n",
       "      <th>PREV_CHANNEL_TYPE_Contact_center_MEAN</th>\n",
       "      <th>PREV_CHANNEL_TYPE_Country_wide_MEAN</th>\n",
       "      <th>PREV_CHANNEL_TYPE_Credit_and_cash_offices_MEAN</th>\n",
       "      <th>PREV_CHANNEL_TYPE_Regional_Local_MEAN</th>\n",
       "      <th>PREV_CHANNEL_TYPE_Stone_MEAN</th>\n",
       "      <th>PREV_NAME_SELLER_INDUSTRY_Auto_technology_MEAN</th>\n",
       "      <th>PREV_NAME_SELLER_INDUSTRY_Clothing_MEAN</th>\n",
       "      <th>PREV_NAME_SELLER_INDUSTRY_Connectivity_MEAN</th>\n",
       "      <th>PREV_NAME_SELLER_INDUSTRY_Construction_MEAN</th>\n",
       "      <th>PREV_NAME_SELLER_INDUSTRY_Consumer_electronics_MEAN</th>\n",
       "      <th>PREV_NAME_SELLER_INDUSTRY_Furniture_MEAN</th>\n",
       "      <th>PREV_NAME_SELLER_INDUSTRY_Industry_MEAN</th>\n",
       "      <th>PREV_NAME_SELLER_INDUSTRY_Jewelry_MEAN</th>\n",
       "      <th>PREV_NAME_SELLER_INDUSTRY_MLM_partners_MEAN</th>\n",
       "      <th>PREV_NAME_SELLER_INDUSTRY_Tourism_MEAN</th>\n",
       "      <th>PREV_NAME_SELLER_INDUSTRY_XNA_MEAN</th>\n",
       "      <th>PREV_NAME_YIELD_GROUP_XNA_MEAN</th>\n",
       "      <th>PREV_NAME_YIELD_GROUP_high_MEAN</th>\n",
       "      <th>PREV_NAME_YIELD_GROUP_low_action_MEAN</th>\n",
       "      <th>PREV_NAME_YIELD_GROUP_low_normal_MEAN</th>\n",
       "      <th>PREV_NAME_YIELD_GROUP_middle_MEAN</th>\n",
       "      <th>PREV_PRODUCT_COMBINATION_Card_Street_MEAN</th>\n",
       "      <th>PREV_PRODUCT_COMBINATION_Card_X_Sell_MEAN</th>\n",
       "      <th>PREV_PRODUCT_COMBINATION_Cash_MEAN</th>\n",
       "      <th>PREV_PRODUCT_COMBINATION_Cash_Street_high_MEAN</th>\n",
       "      <th>PREV_PRODUCT_COMBINATION_Cash_Street_low_MEAN</th>\n",
       "      <th>PREV_PRODUCT_COMBINATION_Cash_Street_middle_MEAN</th>\n",
       "      <th>PREV_PRODUCT_COMBINATION_Cash_X_Sell_high_MEAN</th>\n",
       "      <th>PREV_PRODUCT_COMBINATION_Cash_X_Sell_low_MEAN</th>\n",
       "      <th>PREV_PRODUCT_COMBINATION_Cash_X_Sell_middle_MEAN</th>\n",
       "      <th>PREV_PRODUCT_COMBINATION_POS_household_with_interest_MEAN</th>\n",
       "      <th>PREV_PRODUCT_COMBINATION_POS_household_without_interest_MEAN</th>\n",
       "      <th>PREV_PRODUCT_COMBINATION_POS_industry_with_interest_MEAN</th>\n",
       "      <th>PREV_PRODUCT_COMBINATION_POS_industry_without_interest_MEAN</th>\n",
       "      <th>PREV_PRODUCT_COMBINATION_POS_mobile_with_interest_MEAN</th>\n",
       "      <th>PREV_PRODUCT_COMBINATION_POS_mobile_without_interest_MEAN</th>\n",
       "      <th>PREV_PRODUCT_COMBINATION_POS_other_with_interest_MEAN</th>\n",
       "      <th>PREV_PRODUCT_COMBINATION_POS_others_without_interest_MEAN</th>\n",
       "      <th>APPROVED_AMT_ANNUITY_MIN</th>\n",
       "      <th>APPROVED_AMT_ANNUITY_MAX</th>\n",
       "      <th>APPROVED_AMT_ANNUITY_MEAN</th>\n",
       "      <th>APPROVED_AMT_APPLICATION_MIN</th>\n",
       "      <th>APPROVED_AMT_APPLICATION_MAX</th>\n",
       "      <th>APPROVED_AMT_APPLICATION_MEAN</th>\n",
       "      <th>APPROVED_AMT_CREDIT_MIN</th>\n",
       "      <th>APPROVED_AMT_CREDIT_MAX</th>\n",
       "      <th>APPROVED_AMT_CREDIT_MEAN</th>\n",
       "      <th>APPROVED_APP_CREDIT_PERC_MIN</th>\n",
       "      <th>APPROVED_APP_CREDIT_PERC_MAX</th>\n",
       "      <th>APPROVED_APP_CREDIT_PERC_MEAN</th>\n",
       "      <th>APPROVED_AMT_GOODS_PRICE_MIN</th>\n",
       "      <th>APPROVED_AMT_GOODS_PRICE_MAX</th>\n",
       "      <th>APPROVED_AMT_GOODS_PRICE_MEAN</th>\n",
       "      <th>APPROVED_HOUR_APPR_PROCESS_START_MIN</th>\n",
       "      <th>APPROVED_HOUR_APPR_PROCESS_START_MAX</th>\n",
       "      <th>APPROVED_HOUR_APPR_PROCESS_START_MEAN</th>\n",
       "      <th>APPROVED_DAYS_DECISION_MIN</th>\n",
       "      <th>APPROVED_DAYS_DECISION_MAX</th>\n",
       "      <th>APPROVED_DAYS_DECISION_MEAN</th>\n",
       "      <th>APPROVED_CNT_PAYMENT_MEAN</th>\n",
       "      <th>APPROVED_CNT_PAYMENT_SUM</th>\n",
       "      <th>POS_MONTHS_BALANCE_MAX</th>\n",
       "      <th>POS_MONTHS_BALANCE_MEAN</th>\n",
       "      <th>POS_MONTHS_BALANCE_SIZE</th>\n",
       "      <th>POS_SK_DPD_MAX</th>\n",
       "      <th>POS_SK_DPD_MEAN</th>\n",
       "      <th>POS_SK_DPD_DEF_MAX</th>\n",
       "      <th>POS_SK_DPD_DEF_MEAN</th>\n",
       "      <th>POS_NAME_CONTRACT_STATUS_Active_MEAN</th>\n",
       "      <th>POS_NAME_CONTRACT_STATUS_Amortized_debt_MEAN</th>\n",
       "      <th>POS_NAME_CONTRACT_STATUS_Approved_MEAN</th>\n",
       "      <th>POS_NAME_CONTRACT_STATUS_Canceled_MEAN</th>\n",
       "      <th>POS_NAME_CONTRACT_STATUS_Completed_MEAN</th>\n",
       "      <th>POS_NAME_CONTRACT_STATUS_Demand_MEAN</th>\n",
       "      <th>POS_NAME_CONTRACT_STATUS_Returned_to_the_store_MEAN</th>\n",
       "      <th>POS_NAME_CONTRACT_STATUS_Signed_MEAN</th>\n",
       "      <th>POS_NAME_CONTRACT_STATUS_XNA_MEAN</th>\n",
       "      <th>POS_COUNT</th>\n",
       "      <th>INSTAL_NUM_INSTALMENT_VERSION_NUNIQUE</th>\n",
       "      <th>INSTAL_DPD_MAX</th>\n",
       "      <th>INSTAL_DPD_MEAN</th>\n",
       "      <th>INSTAL_DPD_SUM</th>\n",
       "      <th>INSTAL_DBD_MAX</th>\n",
       "      <th>INSTAL_DBD_MEAN</th>\n",
       "      <th>INSTAL_DBD_SUM</th>\n",
       "      <th>INSTAL_PAYMENT_PERC_MAX</th>\n",
       "      <th>INSTAL_PAYMENT_PERC_MEAN</th>\n",
       "      <th>INSTAL_PAYMENT_PERC_SUM</th>\n",
       "      <th>INSTAL_PAYMENT_PERC_VAR</th>\n",
       "      <th>INSTAL_PAYMENT_DIFF_MAX</th>\n",
       "      <th>INSTAL_PAYMENT_DIFF_MEAN</th>\n",
       "      <th>INSTAL_PAYMENT_DIFF_SUM</th>\n",
       "      <th>INSTAL_PAYMENT_DIFF_VAR</th>\n",
       "      <th>INSTAL_AMT_INSTALMENT_MAX</th>\n",
       "      <th>INSTAL_AMT_INSTALMENT_MEAN</th>\n",
       "      <th>INSTAL_AMT_INSTALMENT_SUM</th>\n",
       "      <th>INSTAL_AMT_PAYMENT_MIN</th>\n",
       "      <th>INSTAL_AMT_PAYMENT_MAX</th>\n",
       "      <th>INSTAL_AMT_PAYMENT_MEAN</th>\n",
       "      <th>INSTAL_AMT_PAYMENT_SUM</th>\n",
       "      <th>INSTAL_DAYS_ENTRY_PAYMENT_MAX</th>\n",
       "      <th>INSTAL_DAYS_ENTRY_PAYMENT_MEAN</th>\n",
       "      <th>INSTAL_DAYS_ENTRY_PAYMENT_SUM</th>\n",
       "      <th>INSTAL_COUNT</th>\n",
       "    </tr>\n",
       "    <tr>\n",
       "      <th>SK_ID_CURR</th>\n",
       "      <th></th>\n",
       "      <th></th>\n",
       "      <th></th>\n",
       "      <th></th>\n",
       "      <th></th>\n",
       "      <th></th>\n",
       "      <th></th>\n",
       "      <th></th>\n",
       "      <th></th>\n",
       "      <th></th>\n",
       "      <th></th>\n",
       "      <th></th>\n",
       "      <th></th>\n",
       "      <th></th>\n",
       "      <th></th>\n",
       "      <th></th>\n",
       "      <th></th>\n",
       "      <th></th>\n",
       "      <th></th>\n",
       "      <th></th>\n",
       "      <th></th>\n",
       "      <th></th>\n",
       "      <th></th>\n",
       "      <th></th>\n",
       "      <th></th>\n",
       "      <th></th>\n",
       "      <th></th>\n",
       "      <th></th>\n",
       "      <th></th>\n",
       "      <th></th>\n",
       "      <th></th>\n",
       "      <th></th>\n",
       "      <th></th>\n",
       "      <th></th>\n",
       "      <th></th>\n",
       "      <th></th>\n",
       "      <th></th>\n",
       "      <th></th>\n",
       "      <th></th>\n",
       "      <th></th>\n",
       "      <th></th>\n",
       "      <th></th>\n",
       "      <th></th>\n",
       "      <th></th>\n",
       "      <th></th>\n",
       "      <th></th>\n",
       "      <th></th>\n",
       "      <th></th>\n",
       "      <th></th>\n",
       "      <th></th>\n",
       "      <th></th>\n",
       "      <th></th>\n",
       "      <th></th>\n",
       "      <th></th>\n",
       "      <th></th>\n",
       "      <th></th>\n",
       "      <th></th>\n",
       "      <th></th>\n",
       "      <th></th>\n",
       "      <th></th>\n",
       "      <th></th>\n",
       "      <th></th>\n",
       "      <th></th>\n",
       "      <th></th>\n",
       "      <th></th>\n",
       "      <th></th>\n",
       "      <th></th>\n",
       "      <th></th>\n",
       "      <th></th>\n",
       "      <th></th>\n",
       "      <th></th>\n",
       "      <th></th>\n",
       "      <th></th>\n",
       "      <th></th>\n",
       "      <th></th>\n",
       "      <th></th>\n",
       "      <th></th>\n",
       "      <th></th>\n",
       "      <th></th>\n",
       "      <th></th>\n",
       "      <th></th>\n",
       "      <th></th>\n",
       "      <th></th>\n",
       "      <th></th>\n",
       "      <th></th>\n",
       "      <th></th>\n",
       "      <th></th>\n",
       "      <th></th>\n",
       "      <th></th>\n",
       "      <th></th>\n",
       "      <th></th>\n",
       "      <th></th>\n",
       "      <th></th>\n",
       "      <th></th>\n",
       "      <th></th>\n",
       "      <th></th>\n",
       "      <th></th>\n",
       "      <th></th>\n",
       "      <th></th>\n",
       "      <th></th>\n",
       "      <th></th>\n",
       "      <th></th>\n",
       "      <th></th>\n",
       "      <th></th>\n",
       "      <th></th>\n",
       "      <th></th>\n",
       "      <th></th>\n",
       "      <th></th>\n",
       "      <th></th>\n",
       "      <th></th>\n",
       "      <th></th>\n",
       "      <th></th>\n",
       "      <th></th>\n",
       "      <th></th>\n",
       "      <th></th>\n",
       "      <th></th>\n",
       "      <th></th>\n",
       "      <th></th>\n",
       "      <th></th>\n",
       "      <th></th>\n",
       "      <th></th>\n",
       "      <th></th>\n",
       "      <th></th>\n",
       "      <th></th>\n",
       "      <th></th>\n",
       "      <th></th>\n",
       "      <th></th>\n",
       "      <th></th>\n",
       "      <th></th>\n",
       "      <th></th>\n",
       "      <th></th>\n",
       "      <th></th>\n",
       "      <th></th>\n",
       "      <th></th>\n",
       "      <th></th>\n",
       "      <th></th>\n",
       "      <th></th>\n",
       "      <th></th>\n",
       "      <th></th>\n",
       "      <th></th>\n",
       "      <th></th>\n",
       "      <th></th>\n",
       "      <th></th>\n",
       "      <th></th>\n",
       "      <th></th>\n",
       "      <th></th>\n",
       "      <th></th>\n",
       "      <th></th>\n",
       "      <th></th>\n",
       "      <th></th>\n",
       "      <th></th>\n",
       "      <th></th>\n",
       "      <th></th>\n",
       "      <th></th>\n",
       "      <th></th>\n",
       "      <th></th>\n",
       "      <th></th>\n",
       "      <th></th>\n",
       "      <th></th>\n",
       "      <th></th>\n",
       "      <th></th>\n",
       "      <th></th>\n",
       "      <th></th>\n",
       "      <th></th>\n",
       "      <th></th>\n",
       "      <th></th>\n",
       "      <th></th>\n",
       "      <th></th>\n",
       "      <th></th>\n",
       "      <th></th>\n",
       "      <th></th>\n",
       "      <th></th>\n",
       "      <th></th>\n",
       "      <th></th>\n",
       "      <th></th>\n",
       "      <th></th>\n",
       "      <th></th>\n",
       "      <th></th>\n",
       "      <th></th>\n",
       "      <th></th>\n",
       "      <th></th>\n",
       "      <th></th>\n",
       "      <th></th>\n",
       "      <th></th>\n",
       "      <th></th>\n",
       "      <th></th>\n",
       "      <th></th>\n",
       "      <th></th>\n",
       "      <th></th>\n",
       "      <th></th>\n",
       "      <th></th>\n",
       "      <th></th>\n",
       "      <th></th>\n",
       "      <th></th>\n",
       "      <th></th>\n",
       "      <th></th>\n",
       "      <th></th>\n",
       "      <th></th>\n",
       "      <th></th>\n",
       "      <th></th>\n",
       "      <th></th>\n",
       "      <th></th>\n",
       "      <th></th>\n",
       "      <th></th>\n",
       "      <th></th>\n",
       "      <th></th>\n",
       "      <th></th>\n",
       "      <th></th>\n",
       "      <th></th>\n",
       "      <th></th>\n",
       "      <th></th>\n",
       "      <th></th>\n",
       "      <th></th>\n",
       "      <th></th>\n",
       "      <th></th>\n",
       "      <th></th>\n",
       "      <th></th>\n",
       "      <th></th>\n",
       "      <th></th>\n",
       "      <th></th>\n",
       "      <th></th>\n",
       "      <th></th>\n",
       "      <th></th>\n",
       "      <th></th>\n",
       "      <th></th>\n",
       "      <th></th>\n",
       "      <th></th>\n",
       "      <th></th>\n",
       "      <th></th>\n",
       "      <th></th>\n",
       "      <th></th>\n",
       "      <th></th>\n",
       "      <th></th>\n",
       "      <th></th>\n",
       "      <th></th>\n",
       "      <th></th>\n",
       "      <th></th>\n",
       "      <th></th>\n",
       "      <th></th>\n",
       "      <th></th>\n",
       "      <th></th>\n",
       "      <th></th>\n",
       "      <th></th>\n",
       "      <th></th>\n",
       "      <th></th>\n",
       "      <th></th>\n",
       "      <th></th>\n",
       "      <th></th>\n",
       "      <th></th>\n",
       "      <th></th>\n",
       "      <th></th>\n",
       "    </tr>\n",
       "  </thead>\n",
       "  <tbody>\n",
       "    <tr>\n",
       "      <th>100002</th>\n",
       "      <td>1.0</td>\n",
       "      <td>0</td>\n",
       "      <td>0</td>\n",
       "      <td>0</td>\n",
       "      <td>0</td>\n",
       "      <td>202500.0</td>\n",
       "      <td>406597.5</td>\n",
       "      <td>24700.5</td>\n",
       "      <td>351000.0</td>\n",
       "      <td>0.018801</td>\n",
       "      <td>-9461</td>\n",
       "      <td>-3648.0</td>\n",
       "      <td>-2120</td>\n",
       "      <td>1</td>\n",
       "      <td>1</td>\n",
       "      <td>0</td>\n",
       "      <td>1</td>\n",
       "      <td>1</td>\n",
       "      <td>0</td>\n",
       "      <td>1.0</td>\n",
       "      <td>2</td>\n",
       "      <td>2</td>\n",
       "      <td>10</td>\n",
       "      <td>0</td>\n",
       "      <td>0</td>\n",
       "      <td>0</td>\n",
       "      <td>0</td>\n",
       "      <td>0</td>\n",
       "      <td>0</td>\n",
       "      <td>0.262949</td>\n",
       "      <td>2.0</td>\n",
       "      <td>2.0</td>\n",
       "      <td>2.0</td>\n",
       "      <td>2.0</td>\n",
       "      <td>-1134.0</td>\n",
       "      <td>0</td>\n",
       "      <td>1</td>\n",
       "      <td>0</td>\n",
       "      <td>0</td>\n",
       "      <td>0</td>\n",
       "      <td>0</td>\n",
       "      <td>0</td>\n",
       "      <td>0</td>\n",
       "      <td>0</td>\n",
       "      <td>0</td>\n",
       "      <td>0</td>\n",
       "      <td>0</td>\n",
       "      <td>0</td>\n",
       "      <td>0</td>\n",
       "      <td>0</td>\n",
       "      <td>0</td>\n",
       "      <td>0</td>\n",
       "      <td>0</td>\n",
       "      <td>0</td>\n",
       "      <td>0</td>\n",
       "      <td>1</td>\n",
       "      <td>0</td>\n",
       "      <td>0</td>\n",
       "      <td>0</td>\n",
       "      <td>0</td>\n",
       "      <td>0</td>\n",
       "      <td>0</td>\n",
       "      <td>0</td>\n",
       "      <td>1</td>\n",
       "      <td>0</td>\n",
       "      <td>0</td>\n",
       "      <td>0</td>\n",
       "      <td>0</td>\n",
       "      <td>0</td>\n",
       "      <td>0</td>\n",
       "      <td>0</td>\n",
       "      <td>1</td>\n",
       "      <td>0</td>\n",
       "      <td>0</td>\n",
       "      <td>0</td>\n",
       "      <td>0</td>\n",
       "      <td>1</td>\n",
       "      <td>0</td>\n",
       "      <td>0</td>\n",
       "      <td>0</td>\n",
       "      <td>1</td>\n",
       "      <td>0</td>\n",
       "      <td>0</td>\n",
       "      <td>0</td>\n",
       "      <td>1</td>\n",
       "      <td>0</td>\n",
       "      <td>0</td>\n",
       "      <td>0</td>\n",
       "      <td>0</td>\n",
       "      <td>0</td>\n",
       "      <td>0</td>\n",
       "      <td>0</td>\n",
       "      <td>0</td>\n",
       "      <td>0</td>\n",
       "      <td>0</td>\n",
       "      <td>0</td>\n",
       "      <td>0</td>\n",
       "      <td>1</td>\n",
       "      <td>0</td>\n",
       "      <td>0</td>\n",
       "      <td>0</td>\n",
       "      <td>0</td>\n",
       "      <td>0</td>\n",
       "      <td>0</td>\n",
       "      <td>0</td>\n",
       "      <td>0</td>\n",
       "      <td>0</td>\n",
       "      <td>0</td>\n",
       "      <td>0</td>\n",
       "      <td>0</td>\n",
       "      <td>0</td>\n",
       "      <td>0</td>\n",
       "      <td>0</td>\n",
       "      <td>1</td>\n",
       "      <td>0</td>\n",
       "      <td>0</td>\n",
       "      <td>0</td>\n",
       "      <td>0</td>\n",
       "      <td>0</td>\n",
       "      <td>1</td>\n",
       "      <td>0</td>\n",
       "      <td>0</td>\n",
       "      <td>0</td>\n",
       "      <td>0</td>\n",
       "      <td>0</td>\n",
       "      <td>...</td>\n",
       "      <td>0.0</td>\n",
       "      <td>0.0</td>\n",
       "      <td>0.0</td>\n",
       "      <td>0.0</td>\n",
       "      <td>0.0</td>\n",
       "      <td>0.0</td>\n",
       "      <td>0.0</td>\n",
       "      <td>1.0</td>\n",
       "      <td>0.0</td>\n",
       "      <td>0.000000</td>\n",
       "      <td>0.000000</td>\n",
       "      <td>0.0</td>\n",
       "      <td>0.000000</td>\n",
       "      <td>1.000000</td>\n",
       "      <td>0.000000</td>\n",
       "      <td>1.000000</td>\n",
       "      <td>0.000000</td>\n",
       "      <td>0.000000</td>\n",
       "      <td>0.000000</td>\n",
       "      <td>0.0</td>\n",
       "      <td>0.0</td>\n",
       "      <td>0.0</td>\n",
       "      <td>0.000000</td>\n",
       "      <td>0.000000</td>\n",
       "      <td>0.000000</td>\n",
       "      <td>1.000000</td>\n",
       "      <td>1.0</td>\n",
       "      <td>0.0</td>\n",
       "      <td>0.000000</td>\n",
       "      <td>0.000000</td>\n",
       "      <td>0.000000</td>\n",
       "      <td>0.000000</td>\n",
       "      <td>0.0</td>\n",
       "      <td>0.0</td>\n",
       "      <td>0.0</td>\n",
       "      <td>0.0</td>\n",
       "      <td>0.000000</td>\n",
       "      <td>0.000000</td>\n",
       "      <td>0.000000</td>\n",
       "      <td>0.0</td>\n",
       "      <td>1.000000</td>\n",
       "      <td>0.000000</td>\n",
       "      <td>0.000000</td>\n",
       "      <td>0.000000</td>\n",
       "      <td>0.000000</td>\n",
       "      <td>0.000000</td>\n",
       "      <td>0.0</td>\n",
       "      <td>0.0</td>\n",
       "      <td>0.000000</td>\n",
       "      <td>0.000000</td>\n",
       "      <td>0.0</td>\n",
       "      <td>0.000000</td>\n",
       "      <td>0.0</td>\n",
       "      <td>0.000000</td>\n",
       "      <td>0.0</td>\n",
       "      <td>0.000000</td>\n",
       "      <td>0.0</td>\n",
       "      <td>1.0</td>\n",
       "      <td>0.0</td>\n",
       "      <td>9251.775</td>\n",
       "      <td>9251.775</td>\n",
       "      <td>9251.775</td>\n",
       "      <td>179055.00</td>\n",
       "      <td>179055.0</td>\n",
       "      <td>179055.000</td>\n",
       "      <td>179055.0</td>\n",
       "      <td>179055.0</td>\n",
       "      <td>179055.00</td>\n",
       "      <td>1.000000</td>\n",
       "      <td>1.000000</td>\n",
       "      <td>1.000000</td>\n",
       "      <td>179055.00</td>\n",
       "      <td>179055.0</td>\n",
       "      <td>179055.000</td>\n",
       "      <td>9.0</td>\n",
       "      <td>9.0</td>\n",
       "      <td>9.000000</td>\n",
       "      <td>-606.0</td>\n",
       "      <td>-606.0</td>\n",
       "      <td>-606.000000</td>\n",
       "      <td>24.000000</td>\n",
       "      <td>24.0</td>\n",
       "      <td>-1.0</td>\n",
       "      <td>-10.000000</td>\n",
       "      <td>19.0</td>\n",
       "      <td>0.0</td>\n",
       "      <td>0.0</td>\n",
       "      <td>0.0</td>\n",
       "      <td>0.0</td>\n",
       "      <td>1.000000</td>\n",
       "      <td>0.0</td>\n",
       "      <td>0.0</td>\n",
       "      <td>0.0</td>\n",
       "      <td>0.000000</td>\n",
       "      <td>0.0</td>\n",
       "      <td>0.000000</td>\n",
       "      <td>0.000000</td>\n",
       "      <td>0.0</td>\n",
       "      <td>19.0</td>\n",
       "      <td>2.0</td>\n",
       "      <td>0.0</td>\n",
       "      <td>0.000000</td>\n",
       "      <td>0.0</td>\n",
       "      <td>31.0</td>\n",
       "      <td>20.421053</td>\n",
       "      <td>388.0</td>\n",
       "      <td>1.0</td>\n",
       "      <td>1.000000</td>\n",
       "      <td>19.0</td>\n",
       "      <td>0.000000</td>\n",
       "      <td>0.000</td>\n",
       "      <td>0.000000</td>\n",
       "      <td>0.000</td>\n",
       "      <td>0.000000e+00</td>\n",
       "      <td>53093.745</td>\n",
       "      <td>11559.247105</td>\n",
       "      <td>219625.695</td>\n",
       "      <td>9251.775</td>\n",
       "      <td>53093.745</td>\n",
       "      <td>11559.247105</td>\n",
       "      <td>219625.695</td>\n",
       "      <td>-49.0</td>\n",
       "      <td>-315.421053</td>\n",
       "      <td>-5993.0</td>\n",
       "      <td>19.0</td>\n",
       "    </tr>\n",
       "    <tr>\n",
       "      <th>100003</th>\n",
       "      <td>0.0</td>\n",
       "      <td>1</td>\n",
       "      <td>0</td>\n",
       "      <td>1</td>\n",
       "      <td>0</td>\n",
       "      <td>270000.0</td>\n",
       "      <td>1293502.5</td>\n",
       "      <td>35698.5</td>\n",
       "      <td>1129500.0</td>\n",
       "      <td>0.003541</td>\n",
       "      <td>-16765</td>\n",
       "      <td>-1186.0</td>\n",
       "      <td>-291</td>\n",
       "      <td>1</td>\n",
       "      <td>1</td>\n",
       "      <td>0</td>\n",
       "      <td>1</td>\n",
       "      <td>1</td>\n",
       "      <td>0</td>\n",
       "      <td>2.0</td>\n",
       "      <td>1</td>\n",
       "      <td>1</td>\n",
       "      <td>11</td>\n",
       "      <td>0</td>\n",
       "      <td>0</td>\n",
       "      <td>0</td>\n",
       "      <td>0</td>\n",
       "      <td>0</td>\n",
       "      <td>0</td>\n",
       "      <td>0.622246</td>\n",
       "      <td>1.0</td>\n",
       "      <td>0.0</td>\n",
       "      <td>1.0</td>\n",
       "      <td>0.0</td>\n",
       "      <td>-828.0</td>\n",
       "      <td>0</td>\n",
       "      <td>1</td>\n",
       "      <td>0</td>\n",
       "      <td>0</td>\n",
       "      <td>0</td>\n",
       "      <td>0</td>\n",
       "      <td>0</td>\n",
       "      <td>0</td>\n",
       "      <td>0</td>\n",
       "      <td>0</td>\n",
       "      <td>0</td>\n",
       "      <td>0</td>\n",
       "      <td>0</td>\n",
       "      <td>0</td>\n",
       "      <td>0</td>\n",
       "      <td>0</td>\n",
       "      <td>0</td>\n",
       "      <td>0</td>\n",
       "      <td>0</td>\n",
       "      <td>0</td>\n",
       "      <td>1</td>\n",
       "      <td>0</td>\n",
       "      <td>0</td>\n",
       "      <td>1</td>\n",
       "      <td>0</td>\n",
       "      <td>0</td>\n",
       "      <td>0</td>\n",
       "      <td>0</td>\n",
       "      <td>0</td>\n",
       "      <td>0</td>\n",
       "      <td>0</td>\n",
       "      <td>0</td>\n",
       "      <td>0</td>\n",
       "      <td>1</td>\n",
       "      <td>0</td>\n",
       "      <td>0</td>\n",
       "      <td>0</td>\n",
       "      <td>0</td>\n",
       "      <td>1</td>\n",
       "      <td>0</td>\n",
       "      <td>0</td>\n",
       "      <td>0</td>\n",
       "      <td>0</td>\n",
       "      <td>1</td>\n",
       "      <td>0</td>\n",
       "      <td>0</td>\n",
       "      <td>0</td>\n",
       "      <td>0</td>\n",
       "      <td>0</td>\n",
       "      <td>1</td>\n",
       "      <td>0</td>\n",
       "      <td>0</td>\n",
       "      <td>0</td>\n",
       "      <td>0</td>\n",
       "      <td>0</td>\n",
       "      <td>0</td>\n",
       "      <td>0</td>\n",
       "      <td>1</td>\n",
       "      <td>0</td>\n",
       "      <td>0</td>\n",
       "      <td>0</td>\n",
       "      <td>0</td>\n",
       "      <td>0</td>\n",
       "      <td>0</td>\n",
       "      <td>0</td>\n",
       "      <td>0</td>\n",
       "      <td>0</td>\n",
       "      <td>0</td>\n",
       "      <td>0</td>\n",
       "      <td>0</td>\n",
       "      <td>0</td>\n",
       "      <td>0</td>\n",
       "      <td>0</td>\n",
       "      <td>1</td>\n",
       "      <td>0</td>\n",
       "      <td>0</td>\n",
       "      <td>0</td>\n",
       "      <td>0</td>\n",
       "      <td>0</td>\n",
       "      <td>0</td>\n",
       "      <td>0</td>\n",
       "      <td>0</td>\n",
       "      <td>0</td>\n",
       "      <td>0</td>\n",
       "      <td>0</td>\n",
       "      <td>0</td>\n",
       "      <td>0</td>\n",
       "      <td>0</td>\n",
       "      <td>0</td>\n",
       "      <td>0</td>\n",
       "      <td>...</td>\n",
       "      <td>0.0</td>\n",
       "      <td>0.0</td>\n",
       "      <td>0.0</td>\n",
       "      <td>0.0</td>\n",
       "      <td>0.0</td>\n",
       "      <td>0.0</td>\n",
       "      <td>0.0</td>\n",
       "      <td>0.0</td>\n",
       "      <td>0.0</td>\n",
       "      <td>0.333333</td>\n",
       "      <td>0.000000</td>\n",
       "      <td>0.0</td>\n",
       "      <td>0.333333</td>\n",
       "      <td>0.666667</td>\n",
       "      <td>0.000000</td>\n",
       "      <td>0.666667</td>\n",
       "      <td>0.000000</td>\n",
       "      <td>0.333333</td>\n",
       "      <td>0.000000</td>\n",
       "      <td>0.0</td>\n",
       "      <td>0.0</td>\n",
       "      <td>0.0</td>\n",
       "      <td>0.333333</td>\n",
       "      <td>0.333333</td>\n",
       "      <td>0.000000</td>\n",
       "      <td>0.333333</td>\n",
       "      <td>0.0</td>\n",
       "      <td>0.0</td>\n",
       "      <td>0.000000</td>\n",
       "      <td>0.000000</td>\n",
       "      <td>0.333333</td>\n",
       "      <td>0.333333</td>\n",
       "      <td>0.0</td>\n",
       "      <td>0.0</td>\n",
       "      <td>0.0</td>\n",
       "      <td>0.0</td>\n",
       "      <td>0.333333</td>\n",
       "      <td>0.000000</td>\n",
       "      <td>0.000000</td>\n",
       "      <td>0.0</td>\n",
       "      <td>0.333333</td>\n",
       "      <td>0.666667</td>\n",
       "      <td>0.000000</td>\n",
       "      <td>0.000000</td>\n",
       "      <td>0.000000</td>\n",
       "      <td>0.000000</td>\n",
       "      <td>0.0</td>\n",
       "      <td>0.0</td>\n",
       "      <td>0.000000</td>\n",
       "      <td>0.333333</td>\n",
       "      <td>0.0</td>\n",
       "      <td>0.333333</td>\n",
       "      <td>0.0</td>\n",
       "      <td>0.333333</td>\n",
       "      <td>0.0</td>\n",
       "      <td>0.000000</td>\n",
       "      <td>0.0</td>\n",
       "      <td>0.0</td>\n",
       "      <td>0.0</td>\n",
       "      <td>6737.310</td>\n",
       "      <td>98356.995</td>\n",
       "      <td>56553.990</td>\n",
       "      <td>68809.50</td>\n",
       "      <td>900000.0</td>\n",
       "      <td>435436.500</td>\n",
       "      <td>68053.5</td>\n",
       "      <td>1035882.0</td>\n",
       "      <td>484191.00</td>\n",
       "      <td>0.868825</td>\n",
       "      <td>1.011109</td>\n",
       "      <td>0.949329</td>\n",
       "      <td>68809.50</td>\n",
       "      <td>900000.0</td>\n",
       "      <td>435436.500</td>\n",
       "      <td>12.0</td>\n",
       "      <td>17.0</td>\n",
       "      <td>14.666667</td>\n",
       "      <td>-2341.0</td>\n",
       "      <td>-746.0</td>\n",
       "      <td>-1305.000000</td>\n",
       "      <td>10.000000</td>\n",
       "      <td>30.0</td>\n",
       "      <td>-18.0</td>\n",
       "      <td>-43.785714</td>\n",
       "      <td>28.0</td>\n",
       "      <td>0.0</td>\n",
       "      <td>0.0</td>\n",
       "      <td>0.0</td>\n",
       "      <td>0.0</td>\n",
       "      <td>0.928571</td>\n",
       "      <td>0.0</td>\n",
       "      <td>0.0</td>\n",
       "      <td>0.0</td>\n",
       "      <td>0.071429</td>\n",
       "      <td>0.0</td>\n",
       "      <td>0.000000</td>\n",
       "      <td>0.000000</td>\n",
       "      <td>0.0</td>\n",
       "      <td>28.0</td>\n",
       "      <td>2.0</td>\n",
       "      <td>0.0</td>\n",
       "      <td>0.000000</td>\n",
       "      <td>0.0</td>\n",
       "      <td>14.0</td>\n",
       "      <td>7.160000</td>\n",
       "      <td>179.0</td>\n",
       "      <td>1.0</td>\n",
       "      <td>1.000000</td>\n",
       "      <td>25.0</td>\n",
       "      <td>0.000000</td>\n",
       "      <td>0.000</td>\n",
       "      <td>0.000000</td>\n",
       "      <td>0.000</td>\n",
       "      <td>0.000000e+00</td>\n",
       "      <td>560835.360</td>\n",
       "      <td>64754.586000</td>\n",
       "      <td>1618864.650</td>\n",
       "      <td>6662.970</td>\n",
       "      <td>560835.360</td>\n",
       "      <td>64754.586000</td>\n",
       "      <td>1618864.650</td>\n",
       "      <td>-544.0</td>\n",
       "      <td>-1385.320000</td>\n",
       "      <td>-34633.0</td>\n",
       "      <td>25.0</td>\n",
       "    </tr>\n",
       "    <tr>\n",
       "      <th>100004</th>\n",
       "      <td>0.0</td>\n",
       "      <td>0</td>\n",
       "      <td>1</td>\n",
       "      <td>0</td>\n",
       "      <td>0</td>\n",
       "      <td>67500.0</td>\n",
       "      <td>135000.0</td>\n",
       "      <td>6750.0</td>\n",
       "      <td>135000.0</td>\n",
       "      <td>0.010032</td>\n",
       "      <td>-19046</td>\n",
       "      <td>-4260.0</td>\n",
       "      <td>-2531</td>\n",
       "      <td>1</td>\n",
       "      <td>1</td>\n",
       "      <td>1</td>\n",
       "      <td>1</td>\n",
       "      <td>1</td>\n",
       "      <td>0</td>\n",
       "      <td>1.0</td>\n",
       "      <td>2</td>\n",
       "      <td>2</td>\n",
       "      <td>9</td>\n",
       "      <td>0</td>\n",
       "      <td>0</td>\n",
       "      <td>0</td>\n",
       "      <td>0</td>\n",
       "      <td>0</td>\n",
       "      <td>0</td>\n",
       "      <td>0.555912</td>\n",
       "      <td>0.0</td>\n",
       "      <td>0.0</td>\n",
       "      <td>0.0</td>\n",
       "      <td>0.0</td>\n",
       "      <td>-815.0</td>\n",
       "      <td>0</td>\n",
       "      <td>0</td>\n",
       "      <td>0</td>\n",
       "      <td>0</td>\n",
       "      <td>0</td>\n",
       "      <td>0</td>\n",
       "      <td>0</td>\n",
       "      <td>0</td>\n",
       "      <td>0</td>\n",
       "      <td>0</td>\n",
       "      <td>0</td>\n",
       "      <td>0</td>\n",
       "      <td>0</td>\n",
       "      <td>0</td>\n",
       "      <td>0</td>\n",
       "      <td>0</td>\n",
       "      <td>0</td>\n",
       "      <td>0</td>\n",
       "      <td>0</td>\n",
       "      <td>0</td>\n",
       "      <td>0</td>\n",
       "      <td>1</td>\n",
       "      <td>0</td>\n",
       "      <td>0</td>\n",
       "      <td>0</td>\n",
       "      <td>0</td>\n",
       "      <td>0</td>\n",
       "      <td>0</td>\n",
       "      <td>1</td>\n",
       "      <td>0</td>\n",
       "      <td>0</td>\n",
       "      <td>0</td>\n",
       "      <td>0</td>\n",
       "      <td>0</td>\n",
       "      <td>0</td>\n",
       "      <td>0</td>\n",
       "      <td>1</td>\n",
       "      <td>0</td>\n",
       "      <td>0</td>\n",
       "      <td>0</td>\n",
       "      <td>0</td>\n",
       "      <td>1</td>\n",
       "      <td>0</td>\n",
       "      <td>0</td>\n",
       "      <td>0</td>\n",
       "      <td>1</td>\n",
       "      <td>0</td>\n",
       "      <td>0</td>\n",
       "      <td>0</td>\n",
       "      <td>1</td>\n",
       "      <td>0</td>\n",
       "      <td>0</td>\n",
       "      <td>0</td>\n",
       "      <td>0</td>\n",
       "      <td>0</td>\n",
       "      <td>0</td>\n",
       "      <td>0</td>\n",
       "      <td>0</td>\n",
       "      <td>0</td>\n",
       "      <td>0</td>\n",
       "      <td>0</td>\n",
       "      <td>0</td>\n",
       "      <td>1</td>\n",
       "      <td>0</td>\n",
       "      <td>0</td>\n",
       "      <td>0</td>\n",
       "      <td>0</td>\n",
       "      <td>0</td>\n",
       "      <td>0</td>\n",
       "      <td>0</td>\n",
       "      <td>0</td>\n",
       "      <td>0</td>\n",
       "      <td>0</td>\n",
       "      <td>1</td>\n",
       "      <td>0</td>\n",
       "      <td>0</td>\n",
       "      <td>0</td>\n",
       "      <td>0</td>\n",
       "      <td>0</td>\n",
       "      <td>0</td>\n",
       "      <td>0</td>\n",
       "      <td>0</td>\n",
       "      <td>0</td>\n",
       "      <td>0</td>\n",
       "      <td>0</td>\n",
       "      <td>0</td>\n",
       "      <td>0</td>\n",
       "      <td>0</td>\n",
       "      <td>0</td>\n",
       "      <td>0</td>\n",
       "      <td>...</td>\n",
       "      <td>0.0</td>\n",
       "      <td>1.0</td>\n",
       "      <td>0.0</td>\n",
       "      <td>0.0</td>\n",
       "      <td>0.0</td>\n",
       "      <td>0.0</td>\n",
       "      <td>0.0</td>\n",
       "      <td>0.0</td>\n",
       "      <td>0.0</td>\n",
       "      <td>0.000000</td>\n",
       "      <td>0.000000</td>\n",
       "      <td>0.0</td>\n",
       "      <td>0.000000</td>\n",
       "      <td>1.000000</td>\n",
       "      <td>0.000000</td>\n",
       "      <td>1.000000</td>\n",
       "      <td>0.000000</td>\n",
       "      <td>0.000000</td>\n",
       "      <td>0.000000</td>\n",
       "      <td>0.0</td>\n",
       "      <td>0.0</td>\n",
       "      <td>0.0</td>\n",
       "      <td>0.000000</td>\n",
       "      <td>0.000000</td>\n",
       "      <td>1.000000</td>\n",
       "      <td>0.000000</td>\n",
       "      <td>0.0</td>\n",
       "      <td>0.0</td>\n",
       "      <td>1.000000</td>\n",
       "      <td>0.000000</td>\n",
       "      <td>0.000000</td>\n",
       "      <td>0.000000</td>\n",
       "      <td>0.0</td>\n",
       "      <td>0.0</td>\n",
       "      <td>0.0</td>\n",
       "      <td>0.0</td>\n",
       "      <td>0.000000</td>\n",
       "      <td>0.000000</td>\n",
       "      <td>0.000000</td>\n",
       "      <td>0.0</td>\n",
       "      <td>0.000000</td>\n",
       "      <td>1.000000</td>\n",
       "      <td>0.000000</td>\n",
       "      <td>0.000000</td>\n",
       "      <td>0.000000</td>\n",
       "      <td>0.000000</td>\n",
       "      <td>0.0</td>\n",
       "      <td>0.0</td>\n",
       "      <td>0.000000</td>\n",
       "      <td>0.000000</td>\n",
       "      <td>0.0</td>\n",
       "      <td>0.000000</td>\n",
       "      <td>0.0</td>\n",
       "      <td>0.000000</td>\n",
       "      <td>0.0</td>\n",
       "      <td>0.000000</td>\n",
       "      <td>1.0</td>\n",
       "      <td>0.0</td>\n",
       "      <td>0.0</td>\n",
       "      <td>5357.250</td>\n",
       "      <td>5357.250</td>\n",
       "      <td>5357.250</td>\n",
       "      <td>24282.00</td>\n",
       "      <td>24282.0</td>\n",
       "      <td>24282.000</td>\n",
       "      <td>20106.0</td>\n",
       "      <td>20106.0</td>\n",
       "      <td>20106.00</td>\n",
       "      <td>1.207699</td>\n",
       "      <td>1.207699</td>\n",
       "      <td>1.207699</td>\n",
       "      <td>24282.00</td>\n",
       "      <td>24282.0</td>\n",
       "      <td>24282.000</td>\n",
       "      <td>5.0</td>\n",
       "      <td>5.0</td>\n",
       "      <td>5.000000</td>\n",
       "      <td>-815.0</td>\n",
       "      <td>-815.0</td>\n",
       "      <td>-815.000000</td>\n",
       "      <td>4.000000</td>\n",
       "      <td>4.0</td>\n",
       "      <td>-24.0</td>\n",
       "      <td>-25.500000</td>\n",
       "      <td>4.0</td>\n",
       "      <td>0.0</td>\n",
       "      <td>0.0</td>\n",
       "      <td>0.0</td>\n",
       "      <td>0.0</td>\n",
       "      <td>0.750000</td>\n",
       "      <td>0.0</td>\n",
       "      <td>0.0</td>\n",
       "      <td>0.0</td>\n",
       "      <td>0.250000</td>\n",
       "      <td>0.0</td>\n",
       "      <td>0.000000</td>\n",
       "      <td>0.000000</td>\n",
       "      <td>0.0</td>\n",
       "      <td>4.0</td>\n",
       "      <td>2.0</td>\n",
       "      <td>0.0</td>\n",
       "      <td>0.000000</td>\n",
       "      <td>0.0</td>\n",
       "      <td>11.0</td>\n",
       "      <td>7.666667</td>\n",
       "      <td>23.0</td>\n",
       "      <td>1.0</td>\n",
       "      <td>1.000000</td>\n",
       "      <td>3.0</td>\n",
       "      <td>0.000000</td>\n",
       "      <td>0.000</td>\n",
       "      <td>0.000000</td>\n",
       "      <td>0.000</td>\n",
       "      <td>0.000000e+00</td>\n",
       "      <td>10573.965</td>\n",
       "      <td>7096.155000</td>\n",
       "      <td>21288.465</td>\n",
       "      <td>5357.250</td>\n",
       "      <td>10573.965</td>\n",
       "      <td>7096.155000</td>\n",
       "      <td>21288.465</td>\n",
       "      <td>-727.0</td>\n",
       "      <td>-761.666667</td>\n",
       "      <td>-2285.0</td>\n",
       "      <td>3.0</td>\n",
       "    </tr>\n",
       "    <tr>\n",
       "      <th>100006</th>\n",
       "      <td>0.0</td>\n",
       "      <td>1</td>\n",
       "      <td>0</td>\n",
       "      <td>0</td>\n",
       "      <td>0</td>\n",
       "      <td>135000.0</td>\n",
       "      <td>312682.5</td>\n",
       "      <td>29686.5</td>\n",
       "      <td>297000.0</td>\n",
       "      <td>0.008019</td>\n",
       "      <td>-19005</td>\n",
       "      <td>-9833.0</td>\n",
       "      <td>-2437</td>\n",
       "      <td>1</td>\n",
       "      <td>1</td>\n",
       "      <td>0</td>\n",
       "      <td>1</td>\n",
       "      <td>0</td>\n",
       "      <td>0</td>\n",
       "      <td>2.0</td>\n",
       "      <td>2</td>\n",
       "      <td>2</td>\n",
       "      <td>17</td>\n",
       "      <td>0</td>\n",
       "      <td>0</td>\n",
       "      <td>0</td>\n",
       "      <td>0</td>\n",
       "      <td>0</td>\n",
       "      <td>0</td>\n",
       "      <td>0.650442</td>\n",
       "      <td>2.0</td>\n",
       "      <td>0.0</td>\n",
       "      <td>2.0</td>\n",
       "      <td>0.0</td>\n",
       "      <td>-617.0</td>\n",
       "      <td>0</td>\n",
       "      <td>1</td>\n",
       "      <td>0</td>\n",
       "      <td>0</td>\n",
       "      <td>0</td>\n",
       "      <td>0</td>\n",
       "      <td>0</td>\n",
       "      <td>0</td>\n",
       "      <td>0</td>\n",
       "      <td>0</td>\n",
       "      <td>0</td>\n",
       "      <td>0</td>\n",
       "      <td>0</td>\n",
       "      <td>0</td>\n",
       "      <td>0</td>\n",
       "      <td>0</td>\n",
       "      <td>0</td>\n",
       "      <td>0</td>\n",
       "      <td>0</td>\n",
       "      <td>0</td>\n",
       "      <td>1</td>\n",
       "      <td>0</td>\n",
       "      <td>0</td>\n",
       "      <td>0</td>\n",
       "      <td>0</td>\n",
       "      <td>0</td>\n",
       "      <td>0</td>\n",
       "      <td>0</td>\n",
       "      <td>1</td>\n",
       "      <td>0</td>\n",
       "      <td>0</td>\n",
       "      <td>0</td>\n",
       "      <td>0</td>\n",
       "      <td>0</td>\n",
       "      <td>0</td>\n",
       "      <td>0</td>\n",
       "      <td>1</td>\n",
       "      <td>0</td>\n",
       "      <td>0</td>\n",
       "      <td>0</td>\n",
       "      <td>0</td>\n",
       "      <td>1</td>\n",
       "      <td>1</td>\n",
       "      <td>0</td>\n",
       "      <td>0</td>\n",
       "      <td>0</td>\n",
       "      <td>0</td>\n",
       "      <td>0</td>\n",
       "      <td>0</td>\n",
       "      <td>1</td>\n",
       "      <td>0</td>\n",
       "      <td>0</td>\n",
       "      <td>0</td>\n",
       "      <td>0</td>\n",
       "      <td>0</td>\n",
       "      <td>0</td>\n",
       "      <td>0</td>\n",
       "      <td>0</td>\n",
       "      <td>0</td>\n",
       "      <td>0</td>\n",
       "      <td>0</td>\n",
       "      <td>0</td>\n",
       "      <td>1</td>\n",
       "      <td>0</td>\n",
       "      <td>0</td>\n",
       "      <td>0</td>\n",
       "      <td>0</td>\n",
       "      <td>0</td>\n",
       "      <td>0</td>\n",
       "      <td>0</td>\n",
       "      <td>0</td>\n",
       "      <td>0</td>\n",
       "      <td>0</td>\n",
       "      <td>0</td>\n",
       "      <td>0</td>\n",
       "      <td>0</td>\n",
       "      <td>0</td>\n",
       "      <td>0</td>\n",
       "      <td>1</td>\n",
       "      <td>0</td>\n",
       "      <td>0</td>\n",
       "      <td>0</td>\n",
       "      <td>0</td>\n",
       "      <td>0</td>\n",
       "      <td>1</td>\n",
       "      <td>0</td>\n",
       "      <td>0</td>\n",
       "      <td>0</td>\n",
       "      <td>0</td>\n",
       "      <td>0</td>\n",
       "      <td>...</td>\n",
       "      <td>0.0</td>\n",
       "      <td>0.0</td>\n",
       "      <td>0.0</td>\n",
       "      <td>0.0</td>\n",
       "      <td>0.0</td>\n",
       "      <td>0.0</td>\n",
       "      <td>0.0</td>\n",
       "      <td>0.0</td>\n",
       "      <td>0.0</td>\n",
       "      <td>0.777778</td>\n",
       "      <td>0.111111</td>\n",
       "      <td>0.0</td>\n",
       "      <td>0.333333</td>\n",
       "      <td>0.222222</td>\n",
       "      <td>0.333333</td>\n",
       "      <td>0.555556</td>\n",
       "      <td>0.000000</td>\n",
       "      <td>0.444444</td>\n",
       "      <td>0.000000</td>\n",
       "      <td>0.0</td>\n",
       "      <td>0.0</td>\n",
       "      <td>0.0</td>\n",
       "      <td>0.111111</td>\n",
       "      <td>0.777778</td>\n",
       "      <td>0.000000</td>\n",
       "      <td>0.111111</td>\n",
       "      <td>0.0</td>\n",
       "      <td>0.0</td>\n",
       "      <td>0.000000</td>\n",
       "      <td>0.111111</td>\n",
       "      <td>0.111111</td>\n",
       "      <td>0.000000</td>\n",
       "      <td>0.0</td>\n",
       "      <td>0.0</td>\n",
       "      <td>0.0</td>\n",
       "      <td>0.0</td>\n",
       "      <td>0.777778</td>\n",
       "      <td>0.444444</td>\n",
       "      <td>0.222222</td>\n",
       "      <td>0.0</td>\n",
       "      <td>0.222222</td>\n",
       "      <td>0.111111</td>\n",
       "      <td>0.111111</td>\n",
       "      <td>0.111111</td>\n",
       "      <td>0.222222</td>\n",
       "      <td>0.000000</td>\n",
       "      <td>0.0</td>\n",
       "      <td>0.0</td>\n",
       "      <td>0.111111</td>\n",
       "      <td>0.222222</td>\n",
       "      <td>0.0</td>\n",
       "      <td>0.111111</td>\n",
       "      <td>0.0</td>\n",
       "      <td>0.111111</td>\n",
       "      <td>0.0</td>\n",
       "      <td>0.000000</td>\n",
       "      <td>0.0</td>\n",
       "      <td>0.0</td>\n",
       "      <td>0.0</td>\n",
       "      <td>2482.920</td>\n",
       "      <td>39954.510</td>\n",
       "      <td>21842.190</td>\n",
       "      <td>26912.34</td>\n",
       "      <td>675000.0</td>\n",
       "      <td>352265.868</td>\n",
       "      <td>24219.0</td>\n",
       "      <td>675000.0</td>\n",
       "      <td>343728.90</td>\n",
       "      <td>0.943934</td>\n",
       "      <td>1.250017</td>\n",
       "      <td>1.061032</td>\n",
       "      <td>26912.34</td>\n",
       "      <td>675000.0</td>\n",
       "      <td>352265.868</td>\n",
       "      <td>12.0</td>\n",
       "      <td>15.0</td>\n",
       "      <td>14.400000</td>\n",
       "      <td>-617.0</td>\n",
       "      <td>-181.0</td>\n",
       "      <td>-345.600000</td>\n",
       "      <td>18.000000</td>\n",
       "      <td>90.0</td>\n",
       "      <td>-1.0</td>\n",
       "      <td>-9.619048</td>\n",
       "      <td>21.0</td>\n",
       "      <td>0.0</td>\n",
       "      <td>0.0</td>\n",
       "      <td>0.0</td>\n",
       "      <td>0.0</td>\n",
       "      <td>0.857143</td>\n",
       "      <td>0.0</td>\n",
       "      <td>0.0</td>\n",
       "      <td>0.0</td>\n",
       "      <td>0.095238</td>\n",
       "      <td>0.0</td>\n",
       "      <td>0.047619</td>\n",
       "      <td>0.000000</td>\n",
       "      <td>0.0</td>\n",
       "      <td>21.0</td>\n",
       "      <td>2.0</td>\n",
       "      <td>0.0</td>\n",
       "      <td>0.000000</td>\n",
       "      <td>0.0</td>\n",
       "      <td>77.0</td>\n",
       "      <td>19.375000</td>\n",
       "      <td>310.0</td>\n",
       "      <td>1.0</td>\n",
       "      <td>1.000000</td>\n",
       "      <td>16.0</td>\n",
       "      <td>0.000000</td>\n",
       "      <td>0.000</td>\n",
       "      <td>0.000000</td>\n",
       "      <td>0.000</td>\n",
       "      <td>0.000000e+00</td>\n",
       "      <td>691786.890</td>\n",
       "      <td>62947.088438</td>\n",
       "      <td>1007153.415</td>\n",
       "      <td>2482.920</td>\n",
       "      <td>691786.890</td>\n",
       "      <td>62947.088438</td>\n",
       "      <td>1007153.415</td>\n",
       "      <td>-12.0</td>\n",
       "      <td>-271.625000</td>\n",
       "      <td>-4346.0</td>\n",
       "      <td>16.0</td>\n",
       "    </tr>\n",
       "    <tr>\n",
       "      <th>100007</th>\n",
       "      <td>0.0</td>\n",
       "      <td>0</td>\n",
       "      <td>0</td>\n",
       "      <td>0</td>\n",
       "      <td>0</td>\n",
       "      <td>121500.0</td>\n",
       "      <td>513000.0</td>\n",
       "      <td>21865.5</td>\n",
       "      <td>513000.0</td>\n",
       "      <td>0.028663</td>\n",
       "      <td>-19932</td>\n",
       "      <td>-4311.0</td>\n",
       "      <td>-3458</td>\n",
       "      <td>1</td>\n",
       "      <td>1</td>\n",
       "      <td>0</td>\n",
       "      <td>1</td>\n",
       "      <td>0</td>\n",
       "      <td>0</td>\n",
       "      <td>1.0</td>\n",
       "      <td>2</td>\n",
       "      <td>2</td>\n",
       "      <td>11</td>\n",
       "      <td>0</td>\n",
       "      <td>0</td>\n",
       "      <td>0</td>\n",
       "      <td>0</td>\n",
       "      <td>1</td>\n",
       "      <td>1</td>\n",
       "      <td>0.322738</td>\n",
       "      <td>0.0</td>\n",
       "      <td>0.0</td>\n",
       "      <td>0.0</td>\n",
       "      <td>0.0</td>\n",
       "      <td>-1106.0</td>\n",
       "      <td>0</td>\n",
       "      <td>0</td>\n",
       "      <td>0</td>\n",
       "      <td>0</td>\n",
       "      <td>0</td>\n",
       "      <td>0</td>\n",
       "      <td>1</td>\n",
       "      <td>0</td>\n",
       "      <td>0</td>\n",
       "      <td>0</td>\n",
       "      <td>0</td>\n",
       "      <td>0</td>\n",
       "      <td>0</td>\n",
       "      <td>0</td>\n",
       "      <td>0</td>\n",
       "      <td>0</td>\n",
       "      <td>0</td>\n",
       "      <td>0</td>\n",
       "      <td>0</td>\n",
       "      <td>0</td>\n",
       "      <td>1</td>\n",
       "      <td>0</td>\n",
       "      <td>0</td>\n",
       "      <td>0</td>\n",
       "      <td>0</td>\n",
       "      <td>0</td>\n",
       "      <td>0</td>\n",
       "      <td>0</td>\n",
       "      <td>1</td>\n",
       "      <td>0</td>\n",
       "      <td>0</td>\n",
       "      <td>0</td>\n",
       "      <td>0</td>\n",
       "      <td>0</td>\n",
       "      <td>0</td>\n",
       "      <td>0</td>\n",
       "      <td>1</td>\n",
       "      <td>0</td>\n",
       "      <td>0</td>\n",
       "      <td>0</td>\n",
       "      <td>0</td>\n",
       "      <td>1</td>\n",
       "      <td>0</td>\n",
       "      <td>0</td>\n",
       "      <td>0</td>\n",
       "      <td>1</td>\n",
       "      <td>0</td>\n",
       "      <td>0</td>\n",
       "      <td>0</td>\n",
       "      <td>1</td>\n",
       "      <td>0</td>\n",
       "      <td>0</td>\n",
       "      <td>0</td>\n",
       "      <td>0</td>\n",
       "      <td>0</td>\n",
       "      <td>0</td>\n",
       "      <td>0</td>\n",
       "      <td>1</td>\n",
       "      <td>0</td>\n",
       "      <td>0</td>\n",
       "      <td>0</td>\n",
       "      <td>0</td>\n",
       "      <td>0</td>\n",
       "      <td>0</td>\n",
       "      <td>0</td>\n",
       "      <td>0</td>\n",
       "      <td>0</td>\n",
       "      <td>0</td>\n",
       "      <td>0</td>\n",
       "      <td>0</td>\n",
       "      <td>0</td>\n",
       "      <td>0</td>\n",
       "      <td>0</td>\n",
       "      <td>0</td>\n",
       "      <td>0</td>\n",
       "      <td>0</td>\n",
       "      <td>1</td>\n",
       "      <td>0</td>\n",
       "      <td>0</td>\n",
       "      <td>0</td>\n",
       "      <td>0</td>\n",
       "      <td>0</td>\n",
       "      <td>0</td>\n",
       "      <td>0</td>\n",
       "      <td>0</td>\n",
       "      <td>0</td>\n",
       "      <td>0</td>\n",
       "      <td>0</td>\n",
       "      <td>0</td>\n",
       "      <td>0</td>\n",
       "      <td>...</td>\n",
       "      <td>0.0</td>\n",
       "      <td>0.0</td>\n",
       "      <td>0.0</td>\n",
       "      <td>0.0</td>\n",
       "      <td>0.0</td>\n",
       "      <td>0.0</td>\n",
       "      <td>0.0</td>\n",
       "      <td>0.0</td>\n",
       "      <td>0.0</td>\n",
       "      <td>0.666667</td>\n",
       "      <td>0.000000</td>\n",
       "      <td>0.0</td>\n",
       "      <td>0.666667</td>\n",
       "      <td>0.333333</td>\n",
       "      <td>0.000000</td>\n",
       "      <td>0.333333</td>\n",
       "      <td>0.166667</td>\n",
       "      <td>0.500000</td>\n",
       "      <td>0.166667</td>\n",
       "      <td>0.0</td>\n",
       "      <td>0.0</td>\n",
       "      <td>0.0</td>\n",
       "      <td>0.500000</td>\n",
       "      <td>0.166667</td>\n",
       "      <td>0.166667</td>\n",
       "      <td>0.000000</td>\n",
       "      <td>0.0</td>\n",
       "      <td>0.0</td>\n",
       "      <td>0.166667</td>\n",
       "      <td>0.000000</td>\n",
       "      <td>0.500000</td>\n",
       "      <td>0.000000</td>\n",
       "      <td>0.0</td>\n",
       "      <td>0.0</td>\n",
       "      <td>0.0</td>\n",
       "      <td>0.0</td>\n",
       "      <td>0.333333</td>\n",
       "      <td>0.000000</td>\n",
       "      <td>0.500000</td>\n",
       "      <td>0.0</td>\n",
       "      <td>0.000000</td>\n",
       "      <td>0.500000</td>\n",
       "      <td>0.000000</td>\n",
       "      <td>0.000000</td>\n",
       "      <td>0.000000</td>\n",
       "      <td>0.166667</td>\n",
       "      <td>0.0</td>\n",
       "      <td>0.0</td>\n",
       "      <td>0.000000</td>\n",
       "      <td>0.000000</td>\n",
       "      <td>0.5</td>\n",
       "      <td>0.166667</td>\n",
       "      <td>0.0</td>\n",
       "      <td>0.000000</td>\n",
       "      <td>0.0</td>\n",
       "      <td>0.166667</td>\n",
       "      <td>0.0</td>\n",
       "      <td>0.0</td>\n",
       "      <td>0.0</td>\n",
       "      <td>1834.290</td>\n",
       "      <td>22678.785</td>\n",
       "      <td>12278.805</td>\n",
       "      <td>17176.50</td>\n",
       "      <td>247500.0</td>\n",
       "      <td>150530.250</td>\n",
       "      <td>14616.0</td>\n",
       "      <td>284400.0</td>\n",
       "      <td>166638.75</td>\n",
       "      <td>0.791139</td>\n",
       "      <td>1.175185</td>\n",
       "      <td>0.969650</td>\n",
       "      <td>17176.50</td>\n",
       "      <td>247500.0</td>\n",
       "      <td>150530.250</td>\n",
       "      <td>8.0</td>\n",
       "      <td>15.0</td>\n",
       "      <td>12.333333</td>\n",
       "      <td>-2357.0</td>\n",
       "      <td>-374.0</td>\n",
       "      <td>-1222.833333</td>\n",
       "      <td>20.666667</td>\n",
       "      <td>124.0</td>\n",
       "      <td>-1.0</td>\n",
       "      <td>-33.636364</td>\n",
       "      <td>66.0</td>\n",
       "      <td>0.0</td>\n",
       "      <td>0.0</td>\n",
       "      <td>0.0</td>\n",
       "      <td>0.0</td>\n",
       "      <td>0.939394</td>\n",
       "      <td>0.0</td>\n",
       "      <td>0.0</td>\n",
       "      <td>0.0</td>\n",
       "      <td>0.045455</td>\n",
       "      <td>0.0</td>\n",
       "      <td>0.000000</td>\n",
       "      <td>0.015152</td>\n",
       "      <td>0.0</td>\n",
       "      <td>66.0</td>\n",
       "      <td>2.0</td>\n",
       "      <td>12.0</td>\n",
       "      <td>0.954545</td>\n",
       "      <td>63.0</td>\n",
       "      <td>31.0</td>\n",
       "      <td>4.590909</td>\n",
       "      <td>303.0</td>\n",
       "      <td>1.0</td>\n",
       "      <td>0.954545</td>\n",
       "      <td>63.0</td>\n",
       "      <td>0.043995</td>\n",
       "      <td>22655.655</td>\n",
       "      <td>452.384318</td>\n",
       "      <td>29857.365</td>\n",
       "      <td>8.084830e+06</td>\n",
       "      <td>22678.785</td>\n",
       "      <td>12666.444545</td>\n",
       "      <td>835985.340</td>\n",
       "      <td>0.180</td>\n",
       "      <td>22678.785</td>\n",
       "      <td>12214.060227</td>\n",
       "      <td>806127.975</td>\n",
       "      <td>-14.0</td>\n",
       "      <td>-1032.242424</td>\n",
       "      <td>-68128.0</td>\n",
       "      <td>66.0</td>\n",
       "    </tr>\n",
       "  </tbody>\n",
       "</table>\n",
       "<p>5 rows × 424 columns</p>\n",
       "</div>"
      ],
      "text/plain": [
       "            TARGET  CODE_GENDER  FLAG_OWN_CAR  FLAG_OWN_REALTY  CNT_CHILDREN  \\\n",
       "SK_ID_CURR                                                                     \n",
       "100002         1.0            0             0                0             0   \n",
       "100003         0.0            1             0                1             0   \n",
       "100004         0.0            0             1                0             0   \n",
       "100006         0.0            1             0                0             0   \n",
       "100007         0.0            0             0                0             0   \n",
       "\n",
       "            AMT_INCOME_TOTAL  AMT_CREDIT  AMT_ANNUITY  AMT_GOODS_PRICE  \\\n",
       "SK_ID_CURR                                                               \n",
       "100002              202500.0    406597.5      24700.5         351000.0   \n",
       "100003              270000.0   1293502.5      35698.5        1129500.0   \n",
       "100004               67500.0    135000.0       6750.0         135000.0   \n",
       "100006              135000.0    312682.5      29686.5         297000.0   \n",
       "100007              121500.0    513000.0      21865.5         513000.0   \n",
       "\n",
       "            REGION_POPULATION_RELATIVE  DAYS_BIRTH  DAYS_REGISTRATION  \\\n",
       "SK_ID_CURR                                                              \n",
       "100002                        0.018801       -9461            -3648.0   \n",
       "100003                        0.003541      -16765            -1186.0   \n",
       "100004                        0.010032      -19046            -4260.0   \n",
       "100006                        0.008019      -19005            -9833.0   \n",
       "100007                        0.028663      -19932            -4311.0   \n",
       "\n",
       "            DAYS_ID_PUBLISH  FLAG_MOBIL  FLAG_EMP_PHONE  FLAG_WORK_PHONE  \\\n",
       "SK_ID_CURR                                                                 \n",
       "100002                -2120           1               1                0   \n",
       "100003                 -291           1               1                0   \n",
       "100004                -2531           1               1                1   \n",
       "100006                -2437           1               1                0   \n",
       "100007                -3458           1               1                0   \n",
       "\n",
       "            FLAG_CONT_MOBILE  FLAG_PHONE  FLAG_EMAIL  CNT_FAM_MEMBERS  \\\n",
       "SK_ID_CURR                                                              \n",
       "100002                     1           1           0              1.0   \n",
       "100003                     1           1           0              2.0   \n",
       "100004                     1           1           0              1.0   \n",
       "100006                     1           0           0              2.0   \n",
       "100007                     1           0           0              1.0   \n",
       "\n",
       "            REGION_RATING_CLIENT  REGION_RATING_CLIENT_W_CITY  \\\n",
       "SK_ID_CURR                                                      \n",
       "100002                         2                            2   \n",
       "100003                         1                            1   \n",
       "100004                         2                            2   \n",
       "100006                         2                            2   \n",
       "100007                         2                            2   \n",
       "\n",
       "            HOUR_APPR_PROCESS_START  REG_REGION_NOT_LIVE_REGION  \\\n",
       "SK_ID_CURR                                                        \n",
       "100002                           10                           0   \n",
       "100003                           11                           0   \n",
       "100004                            9                           0   \n",
       "100006                           17                           0   \n",
       "100007                           11                           0   \n",
       "\n",
       "            REG_REGION_NOT_WORK_REGION  LIVE_REGION_NOT_WORK_REGION  \\\n",
       "SK_ID_CURR                                                            \n",
       "100002                               0                            0   \n",
       "100003                               0                            0   \n",
       "100004                               0                            0   \n",
       "100006                               0                            0   \n",
       "100007                               0                            0   \n",
       "\n",
       "            REG_CITY_NOT_LIVE_CITY  REG_CITY_NOT_WORK_CITY  \\\n",
       "SK_ID_CURR                                                   \n",
       "100002                           0                       0   \n",
       "100003                           0                       0   \n",
       "100004                           0                       0   \n",
       "100006                           0                       0   \n",
       "100007                           0                       1   \n",
       "\n",
       "            LIVE_CITY_NOT_WORK_CITY  EXT_SOURCE_2  OBS_30_CNT_SOCIAL_CIRCLE  \\\n",
       "SK_ID_CURR                                                                    \n",
       "100002                            0      0.262949                       2.0   \n",
       "100003                            0      0.622246                       1.0   \n",
       "100004                            0      0.555912                       0.0   \n",
       "100006                            0      0.650442                       2.0   \n",
       "100007                            1      0.322738                       0.0   \n",
       "\n",
       "            DEF_30_CNT_SOCIAL_CIRCLE  OBS_60_CNT_SOCIAL_CIRCLE  \\\n",
       "SK_ID_CURR                                                       \n",
       "100002                           2.0                       2.0   \n",
       "100003                           0.0                       1.0   \n",
       "100004                           0.0                       0.0   \n",
       "100006                           0.0                       2.0   \n",
       "100007                           0.0                       0.0   \n",
       "\n",
       "            DEF_60_CNT_SOCIAL_CIRCLE  DAYS_LAST_PHONE_CHANGE  FLAG_DOCUMENT_2  \\\n",
       "SK_ID_CURR                                                                      \n",
       "100002                           2.0                 -1134.0                0   \n",
       "100003                           0.0                  -828.0                0   \n",
       "100004                           0.0                  -815.0                0   \n",
       "100006                           0.0                  -617.0                0   \n",
       "100007                           0.0                 -1106.0                0   \n",
       "\n",
       "            FLAG_DOCUMENT_3  FLAG_DOCUMENT_4  FLAG_DOCUMENT_5  \\\n",
       "SK_ID_CURR                                                      \n",
       "100002                    1                0                0   \n",
       "100003                    1                0                0   \n",
       "100004                    0                0                0   \n",
       "100006                    1                0                0   \n",
       "100007                    0                0                0   \n",
       "\n",
       "            FLAG_DOCUMENT_6  FLAG_DOCUMENT_7  FLAG_DOCUMENT_8  \\\n",
       "SK_ID_CURR                                                      \n",
       "100002                    0                0                0   \n",
       "100003                    0                0                0   \n",
       "100004                    0                0                0   \n",
       "100006                    0                0                0   \n",
       "100007                    0                0                1   \n",
       "\n",
       "            FLAG_DOCUMENT_9  FLAG_DOCUMENT_10  FLAG_DOCUMENT_11  \\\n",
       "SK_ID_CURR                                                        \n",
       "100002                    0                 0                 0   \n",
       "100003                    0                 0                 0   \n",
       "100004                    0                 0                 0   \n",
       "100006                    0                 0                 0   \n",
       "100007                    0                 0                 0   \n",
       "\n",
       "            FLAG_DOCUMENT_12  FLAG_DOCUMENT_13  FLAG_DOCUMENT_14  \\\n",
       "SK_ID_CURR                                                         \n",
       "100002                     0                 0                 0   \n",
       "100003                     0                 0                 0   \n",
       "100004                     0                 0                 0   \n",
       "100006                     0                 0                 0   \n",
       "100007                     0                 0                 0   \n",
       "\n",
       "            FLAG_DOCUMENT_15  FLAG_DOCUMENT_16  FLAG_DOCUMENT_17  \\\n",
       "SK_ID_CURR                                                         \n",
       "100002                     0                 0                 0   \n",
       "100003                     0                 0                 0   \n",
       "100004                     0                 0                 0   \n",
       "100006                     0                 0                 0   \n",
       "100007                     0                 0                 0   \n",
       "\n",
       "            FLAG_DOCUMENT_18  FLAG_DOCUMENT_19  FLAG_DOCUMENT_20  \\\n",
       "SK_ID_CURR                                                         \n",
       "100002                     0                 0                 0   \n",
       "100003                     0                 0                 0   \n",
       "100004                     0                 0                 0   \n",
       "100006                     0                 0                 0   \n",
       "100007                     0                 0                 0   \n",
       "\n",
       "            FLAG_DOCUMENT_21  NAME_CONTRACT_TYPE_Cash_loans  \\\n",
       "SK_ID_CURR                                                    \n",
       "100002                     0                              1   \n",
       "100003                     0                              1   \n",
       "100004                     0                              0   \n",
       "100006                     0                              1   \n",
       "100007                     0                              1   \n",
       "\n",
       "            NAME_CONTRACT_TYPE_Revolving_loans  NAME_TYPE_SUITE_Children  \\\n",
       "SK_ID_CURR                                                                 \n",
       "100002                                       0                         0   \n",
       "100003                                       0                         0   \n",
       "100004                                       1                         0   \n",
       "100006                                       0                         0   \n",
       "100007                                       0                         0   \n",
       "\n",
       "            NAME_TYPE_SUITE_Family  NAME_TYPE_SUITE_Group_of_people  \\\n",
       "SK_ID_CURR                                                            \n",
       "100002                           0                                0   \n",
       "100003                           1                                0   \n",
       "100004                           0                                0   \n",
       "100006                           0                                0   \n",
       "100007                           0                                0   \n",
       "\n",
       "            NAME_TYPE_SUITE_Other_A  NAME_TYPE_SUITE_Other_B  \\\n",
       "SK_ID_CURR                                                     \n",
       "100002                            0                        0   \n",
       "100003                            0                        0   \n",
       "100004                            0                        0   \n",
       "100006                            0                        0   \n",
       "100007                            0                        0   \n",
       "\n",
       "            NAME_TYPE_SUITE_Spouse_partner  NAME_TYPE_SUITE_Unaccompanied  \\\n",
       "SK_ID_CURR                                                                  \n",
       "100002                                   0                              1   \n",
       "100003                                   0                              0   \n",
       "100004                                   0                              1   \n",
       "100006                                   0                              1   \n",
       "100007                                   0                              1   \n",
       "\n",
       "            NAME_INCOME_TYPE_Businessman  \\\n",
       "SK_ID_CURR                                 \n",
       "100002                                 0   \n",
       "100003                                 0   \n",
       "100004                                 0   \n",
       "100006                                 0   \n",
       "100007                                 0   \n",
       "\n",
       "            NAME_INCOME_TYPE_Commercial_associate  \\\n",
       "SK_ID_CURR                                          \n",
       "100002                                          0   \n",
       "100003                                          0   \n",
       "100004                                          0   \n",
       "100006                                          0   \n",
       "100007                                          0   \n",
       "\n",
       "            NAME_INCOME_TYPE_Maternity_leave  NAME_INCOME_TYPE_Pensioner  \\\n",
       "SK_ID_CURR                                                                 \n",
       "100002                                     0                           0   \n",
       "100003                                     0                           0   \n",
       "100004                                     0                           0   \n",
       "100006                                     0                           0   \n",
       "100007                                     0                           0   \n",
       "\n",
       "            NAME_INCOME_TYPE_State_servant  NAME_INCOME_TYPE_Student  \\\n",
       "SK_ID_CURR                                                             \n",
       "100002                                   0                         0   \n",
       "100003                                   1                         0   \n",
       "100004                                   0                         0   \n",
       "100006                                   0                         0   \n",
       "100007                                   0                         0   \n",
       "\n",
       "            NAME_INCOME_TYPE_Unemployed  NAME_INCOME_TYPE_Working  \\\n",
       "SK_ID_CURR                                                          \n",
       "100002                                0                         1   \n",
       "100003                                0                         0   \n",
       "100004                                0                         1   \n",
       "100006                                0                         1   \n",
       "100007                                0                         1   \n",
       "\n",
       "            NAME_EDUCATION_TYPE_Academic_degree  \\\n",
       "SK_ID_CURR                                        \n",
       "100002                                        0   \n",
       "100003                                        0   \n",
       "100004                                        0   \n",
       "100006                                        0   \n",
       "100007                                        0   \n",
       "\n",
       "            NAME_EDUCATION_TYPE_Higher_education  \\\n",
       "SK_ID_CURR                                         \n",
       "100002                                         0   \n",
       "100003                                         1   \n",
       "100004                                         0   \n",
       "100006                                         0   \n",
       "100007                                         0   \n",
       "\n",
       "            NAME_EDUCATION_TYPE_Incomplete_higher  \\\n",
       "SK_ID_CURR                                          \n",
       "100002                                          0   \n",
       "100003                                          0   \n",
       "100004                                          0   \n",
       "100006                                          0   \n",
       "100007                                          0   \n",
       "\n",
       "            NAME_EDUCATION_TYPE_Lower_secondary  \\\n",
       "SK_ID_CURR                                        \n",
       "100002                                        0   \n",
       "100003                                        0   \n",
       "100004                                        0   \n",
       "100006                                        0   \n",
       "100007                                        0   \n",
       "\n",
       "            NAME_EDUCATION_TYPE_Secondary_secondary_special  \\\n",
       "SK_ID_CURR                                                    \n",
       "100002                                                    1   \n",
       "100003                                                    0   \n",
       "100004                                                    1   \n",
       "100006                                                    1   \n",
       "100007                                                    1   \n",
       "\n",
       "            NAME_FAMILY_STATUS_Civil_marriage  NAME_FAMILY_STATUS_Married  \\\n",
       "SK_ID_CURR                                                                  \n",
       "100002                                      0                           0   \n",
       "100003                                      0                           1   \n",
       "100004                                      0                           0   \n",
       "100006                                      1                           0   \n",
       "100007                                      0                           0   \n",
       "\n",
       "            NAME_FAMILY_STATUS_Separated  \\\n",
       "SK_ID_CURR                                 \n",
       "100002                                 0   \n",
       "100003                                 0   \n",
       "100004                                 0   \n",
       "100006                                 0   \n",
       "100007                                 0   \n",
       "\n",
       "            NAME_FAMILY_STATUS_Single_not_married  NAME_FAMILY_STATUS_Unknown  \\\n",
       "SK_ID_CURR                                                                      \n",
       "100002                                          1                           0   \n",
       "100003                                          0                           0   \n",
       "100004                                          1                           0   \n",
       "100006                                          0                           0   \n",
       "100007                                          1                           0   \n",
       "\n",
       "            NAME_FAMILY_STATUS_Widow  NAME_HOUSING_TYPE_Co_op_apartment  \\\n",
       "SK_ID_CURR                                                                \n",
       "100002                             0                                  0   \n",
       "100003                             0                                  0   \n",
       "100004                             0                                  0   \n",
       "100006                             0                                  0   \n",
       "100007                             0                                  0   \n",
       "\n",
       "            NAME_HOUSING_TYPE_House_apartment  \\\n",
       "SK_ID_CURR                                      \n",
       "100002                                      1   \n",
       "100003                                      1   \n",
       "100004                                      1   \n",
       "100006                                      1   \n",
       "100007                                      1   \n",
       "\n",
       "            NAME_HOUSING_TYPE_Municipal_apartment  \\\n",
       "SK_ID_CURR                                          \n",
       "100002                                          0   \n",
       "100003                                          0   \n",
       "100004                                          0   \n",
       "100006                                          0   \n",
       "100007                                          0   \n",
       "\n",
       "            NAME_HOUSING_TYPE_Office_apartment  \\\n",
       "SK_ID_CURR                                       \n",
       "100002                                       0   \n",
       "100003                                       0   \n",
       "100004                                       0   \n",
       "100006                                       0   \n",
       "100007                                       0   \n",
       "\n",
       "            NAME_HOUSING_TYPE_Rented_apartment  \\\n",
       "SK_ID_CURR                                       \n",
       "100002                                       0   \n",
       "100003                                       0   \n",
       "100004                                       0   \n",
       "100006                                       0   \n",
       "100007                                       0   \n",
       "\n",
       "            NAME_HOUSING_TYPE_With_parents  OCCUPATION_TYPE_Accountants  \\\n",
       "SK_ID_CURR                                                                \n",
       "100002                                   0                            0   \n",
       "100003                                   0                            0   \n",
       "100004                                   0                            0   \n",
       "100006                                   0                            0   \n",
       "100007                                   0                            0   \n",
       "\n",
       "            OCCUPATION_TYPE_Cleaning_staff  OCCUPATION_TYPE_Cooking_staff  \\\n",
       "SK_ID_CURR                                                                  \n",
       "100002                                   0                              0   \n",
       "100003                                   0                              0   \n",
       "100004                                   0                              0   \n",
       "100006                                   0                              0   \n",
       "100007                                   0                              0   \n",
       "\n",
       "            OCCUPATION_TYPE_Core_staff  OCCUPATION_TYPE_Drivers  \\\n",
       "SK_ID_CURR                                                        \n",
       "100002                               0                        0   \n",
       "100003                               1                        0   \n",
       "100004                               0                        0   \n",
       "100006                               0                        0   \n",
       "100007                               1                        0   \n",
       "\n",
       "            OCCUPATION_TYPE_HR_staff  OCCUPATION_TYPE_High_skill_tech_staff  \\\n",
       "SK_ID_CURR                                                                    \n",
       "100002                             0                                      0   \n",
       "100003                             0                                      0   \n",
       "100004                             0                                      0   \n",
       "100006                             0                                      0   \n",
       "100007                             0                                      0   \n",
       "\n",
       "            OCCUPATION_TYPE_IT_staff  OCCUPATION_TYPE_Laborers  \\\n",
       "SK_ID_CURR                                                       \n",
       "100002                             0                         1   \n",
       "100003                             0                         0   \n",
       "100004                             0                         1   \n",
       "100006                             0                         1   \n",
       "100007                             0                         0   \n",
       "\n",
       "            OCCUPATION_TYPE_Low_skill_Laborers  OCCUPATION_TYPE_Managers  \\\n",
       "SK_ID_CURR                                                                 \n",
       "100002                                       0                         0   \n",
       "100003                                       0                         0   \n",
       "100004                                       0                         0   \n",
       "100006                                       0                         0   \n",
       "100007                                       0                         0   \n",
       "\n",
       "            OCCUPATION_TYPE_Medicine_staff  \\\n",
       "SK_ID_CURR                                   \n",
       "100002                                   0   \n",
       "100003                                   0   \n",
       "100004                                   0   \n",
       "100006                                   0   \n",
       "100007                                   0   \n",
       "\n",
       "            OCCUPATION_TYPE_Private_service_staff  \\\n",
       "SK_ID_CURR                                          \n",
       "100002                                          0   \n",
       "100003                                          0   \n",
       "100004                                          0   \n",
       "100006                                          0   \n",
       "100007                                          0   \n",
       "\n",
       "            OCCUPATION_TYPE_Realty_agents  OCCUPATION_TYPE_Sales_staff  \\\n",
       "SK_ID_CURR                                                               \n",
       "100002                                  0                            0   \n",
       "100003                                  0                            0   \n",
       "100004                                  0                            0   \n",
       "100006                                  0                            0   \n",
       "100007                                  0                            0   \n",
       "\n",
       "            OCCUPATION_TYPE_Secretaries  OCCUPATION_TYPE_Security_staff  \\\n",
       "SK_ID_CURR                                                                \n",
       "100002                                0                               0   \n",
       "100003                                0                               0   \n",
       "100004                                0                               0   \n",
       "100006                                0                               0   \n",
       "100007                                0                               0   \n",
       "\n",
       "            OCCUPATION_TYPE_Waiters_barmen_staff  \\\n",
       "SK_ID_CURR                                         \n",
       "100002                                         0   \n",
       "100003                                         0   \n",
       "100004                                         0   \n",
       "100006                                         0   \n",
       "100007                                         0   \n",
       "\n",
       "            WEEKDAY_APPR_PROCESS_START_FRIDAY  \\\n",
       "SK_ID_CURR                                      \n",
       "100002                                      0   \n",
       "100003                                      0   \n",
       "100004                                      0   \n",
       "100006                                      0   \n",
       "100007                                      0   \n",
       "\n",
       "            WEEKDAY_APPR_PROCESS_START_MONDAY  \\\n",
       "SK_ID_CURR                                      \n",
       "100002                                      0   \n",
       "100003                                      1   \n",
       "100004                                      1   \n",
       "100006                                      0   \n",
       "100007                                      0   \n",
       "\n",
       "            WEEKDAY_APPR_PROCESS_START_SATURDAY  \\\n",
       "SK_ID_CURR                                        \n",
       "100002                                        0   \n",
       "100003                                        0   \n",
       "100004                                        0   \n",
       "100006                                        0   \n",
       "100007                                        0   \n",
       "\n",
       "            WEEKDAY_APPR_PROCESS_START_SUNDAY  \\\n",
       "SK_ID_CURR                                      \n",
       "100002                                      0   \n",
       "100003                                      0   \n",
       "100004                                      0   \n",
       "100006                                      0   \n",
       "100007                                      0   \n",
       "\n",
       "            WEEKDAY_APPR_PROCESS_START_THURSDAY  \\\n",
       "SK_ID_CURR                                        \n",
       "100002                                        0   \n",
       "100003                                        0   \n",
       "100004                                        0   \n",
       "100006                                        0   \n",
       "100007                                        1   \n",
       "\n",
       "            WEEKDAY_APPR_PROCESS_START_TUESDAY  \\\n",
       "SK_ID_CURR                                       \n",
       "100002                                       0   \n",
       "100003                                       0   \n",
       "100004                                       0   \n",
       "100006                                       0   \n",
       "100007                                       0   \n",
       "\n",
       "            WEEKDAY_APPR_PROCESS_START_WEDNESDAY  \\\n",
       "SK_ID_CURR                                         \n",
       "100002                                         1   \n",
       "100003                                         0   \n",
       "100004                                         0   \n",
       "100006                                         1   \n",
       "100007                                         0   \n",
       "\n",
       "            ORGANIZATION_TYPE_Advertising  ORGANIZATION_TYPE_Agriculture  \\\n",
       "SK_ID_CURR                                                                 \n",
       "100002                                  0                              0   \n",
       "100003                                  0                              0   \n",
       "100004                                  0                              0   \n",
       "100006                                  0                              0   \n",
       "100007                                  0                              0   \n",
       "\n",
       "            ORGANIZATION_TYPE_Bank  ORGANIZATION_TYPE_Business_Entity_Type_1  \\\n",
       "SK_ID_CURR                                                                     \n",
       "100002                           0                                         0   \n",
       "100003                           0                                         0   \n",
       "100004                           0                                         0   \n",
       "100006                           0                                         0   \n",
       "100007                           0                                         0   \n",
       "\n",
       "            ORGANIZATION_TYPE_Business_Entity_Type_2  \\\n",
       "SK_ID_CURR                                             \n",
       "100002                                             0   \n",
       "100003                                             0   \n",
       "100004                                             0   \n",
       "100006                                             0   \n",
       "100007                                             0   \n",
       "\n",
       "            ORGANIZATION_TYPE_Business_Entity_Type_3  \\\n",
       "SK_ID_CURR                                             \n",
       "100002                                             1   \n",
       "100003                                             0   \n",
       "100004                                             0   \n",
       "100006                                             1   \n",
       "100007                                             0   \n",
       "\n",
       "            ORGANIZATION_TYPE_Cleaning  ORGANIZATION_TYPE_Construction  \\\n",
       "SK_ID_CURR                                                               \n",
       "100002                               0                               0   \n",
       "100003                               0                               0   \n",
       "100004                               0                               0   \n",
       "100006                               0                               0   \n",
       "100007                               0                               0   \n",
       "\n",
       "            ORGANIZATION_TYPE_Culture  ORGANIZATION_TYPE_Electricity  \\\n",
       "SK_ID_CURR                                                             \n",
       "100002                              0                              0   \n",
       "100003                              0                              0   \n",
       "100004                              0                              0   \n",
       "100006                              0                              0   \n",
       "100007                              0                              0   \n",
       "\n",
       "            ORGANIZATION_TYPE_Emergency  ...  \\\n",
       "SK_ID_CURR                               ...   \n",
       "100002                                0  ...   \n",
       "100003                                0  ...   \n",
       "100004                                0  ...   \n",
       "100006                                0  ...   \n",
       "100007                                0  ...   \n",
       "\n",
       "            PREV_NAME_GOODS_CATEGORY_Medicine_MEAN  \\\n",
       "SK_ID_CURR                                           \n",
       "100002                                         0.0   \n",
       "100003                                         0.0   \n",
       "100004                                         0.0   \n",
       "100006                                         0.0   \n",
       "100007                                         0.0   \n",
       "\n",
       "            PREV_NAME_GOODS_CATEGORY_Mobile_MEAN  \\\n",
       "SK_ID_CURR                                         \n",
       "100002                                       0.0   \n",
       "100003                                       0.0   \n",
       "100004                                       1.0   \n",
       "100006                                       0.0   \n",
       "100007                                       0.0   \n",
       "\n",
       "            PREV_NAME_GOODS_CATEGORY_Office_Appliances_MEAN  \\\n",
       "SK_ID_CURR                                                    \n",
       "100002                                                  0.0   \n",
       "100003                                                  0.0   \n",
       "100004                                                  0.0   \n",
       "100006                                                  0.0   \n",
       "100007                                                  0.0   \n",
       "\n",
       "            PREV_NAME_GOODS_CATEGORY_Other_MEAN  \\\n",
       "SK_ID_CURR                                        \n",
       "100002                                      0.0   \n",
       "100003                                      0.0   \n",
       "100004                                      0.0   \n",
       "100006                                      0.0   \n",
       "100007                                      0.0   \n",
       "\n",
       "            PREV_NAME_GOODS_CATEGORY_Photo_Cinema_Equipment_MEAN  \\\n",
       "SK_ID_CURR                                                         \n",
       "100002                                                    0.0      \n",
       "100003                                                    0.0      \n",
       "100004                                                    0.0      \n",
       "100006                                                    0.0      \n",
       "100007                                                    0.0      \n",
       "\n",
       "            PREV_NAME_GOODS_CATEGORY_Sport_and_Leisure_MEAN  \\\n",
       "SK_ID_CURR                                                    \n",
       "100002                                                  0.0   \n",
       "100003                                                  0.0   \n",
       "100004                                                  0.0   \n",
       "100006                                                  0.0   \n",
       "100007                                                  0.0   \n",
       "\n",
       "            PREV_NAME_GOODS_CATEGORY_Tourism_MEAN  \\\n",
       "SK_ID_CURR                                          \n",
       "100002                                        0.0   \n",
       "100003                                        0.0   \n",
       "100004                                        0.0   \n",
       "100006                                        0.0   \n",
       "100007                                        0.0   \n",
       "\n",
       "            PREV_NAME_GOODS_CATEGORY_Vehicles_MEAN  \\\n",
       "SK_ID_CURR                                           \n",
       "100002                                         1.0   \n",
       "100003                                         0.0   \n",
       "100004                                         0.0   \n",
       "100006                                         0.0   \n",
       "100007                                         0.0   \n",
       "\n",
       "            PREV_NAME_GOODS_CATEGORY_Weapon_MEAN  \\\n",
       "SK_ID_CURR                                         \n",
       "100002                                       0.0   \n",
       "100003                                       0.0   \n",
       "100004                                       0.0   \n",
       "100006                                       0.0   \n",
       "100007                                       0.0   \n",
       "\n",
       "            PREV_NAME_GOODS_CATEGORY_XNA_MEAN  PREV_NAME_PORTFOLIO_Cards_MEAN  \\\n",
       "SK_ID_CURR                                                                      \n",
       "100002                               0.000000                        0.000000   \n",
       "100003                               0.333333                        0.000000   \n",
       "100004                               0.000000                        0.000000   \n",
       "100006                               0.777778                        0.111111   \n",
       "100007                               0.666667                        0.000000   \n",
       "\n",
       "            PREV_NAME_PORTFOLIO_Cars_MEAN  PREV_NAME_PORTFOLIO_Cash_MEAN  \\\n",
       "SK_ID_CURR                                                                 \n",
       "100002                                0.0                       0.000000   \n",
       "100003                                0.0                       0.333333   \n",
       "100004                                0.0                       0.000000   \n",
       "100006                                0.0                       0.333333   \n",
       "100007                                0.0                       0.666667   \n",
       "\n",
       "            PREV_NAME_PORTFOLIO_POS_MEAN  PREV_NAME_PORTFOLIO_XNA_MEAN  \\\n",
       "SK_ID_CURR                                                               \n",
       "100002                          1.000000                      0.000000   \n",
       "100003                          0.666667                      0.000000   \n",
       "100004                          1.000000                      0.000000   \n",
       "100006                          0.222222                      0.333333   \n",
       "100007                          0.333333                      0.000000   \n",
       "\n",
       "            PREV_NAME_PRODUCT_TYPE_XNA_MEAN  \\\n",
       "SK_ID_CURR                                    \n",
       "100002                             1.000000   \n",
       "100003                             0.666667   \n",
       "100004                             1.000000   \n",
       "100006                             0.555556   \n",
       "100007                             0.333333   \n",
       "\n",
       "            PREV_NAME_PRODUCT_TYPE_walk_in_MEAN  \\\n",
       "SK_ID_CURR                                        \n",
       "100002                                 0.000000   \n",
       "100003                                 0.000000   \n",
       "100004                                 0.000000   \n",
       "100006                                 0.000000   \n",
       "100007                                 0.166667   \n",
       "\n",
       "            PREV_NAME_PRODUCT_TYPE_x_sell_MEAN  \\\n",
       "SK_ID_CURR                                       \n",
       "100002                                0.000000   \n",
       "100003                                0.333333   \n",
       "100004                                0.000000   \n",
       "100006                                0.444444   \n",
       "100007                                0.500000   \n",
       "\n",
       "            PREV_CHANNEL_TYPE_AP_Cash_loan__MEAN  \\\n",
       "SK_ID_CURR                                         \n",
       "100002                                  0.000000   \n",
       "100003                                  0.000000   \n",
       "100004                                  0.000000   \n",
       "100006                                  0.000000   \n",
       "100007                                  0.166667   \n",
       "\n",
       "            PREV_CHANNEL_TYPE_Car_dealer_MEAN  \\\n",
       "SK_ID_CURR                                      \n",
       "100002                                    0.0   \n",
       "100003                                    0.0   \n",
       "100004                                    0.0   \n",
       "100006                                    0.0   \n",
       "100007                                    0.0   \n",
       "\n",
       "            PREV_CHANNEL_TYPE_Channel_of_corporate_sales_MEAN  \\\n",
       "SK_ID_CURR                                                      \n",
       "100002                                                    0.0   \n",
       "100003                                                    0.0   \n",
       "100004                                                    0.0   \n",
       "100006                                                    0.0   \n",
       "100007                                                    0.0   \n",
       "\n",
       "            PREV_CHANNEL_TYPE_Contact_center_MEAN  \\\n",
       "SK_ID_CURR                                          \n",
       "100002                                        0.0   \n",
       "100003                                        0.0   \n",
       "100004                                        0.0   \n",
       "100006                                        0.0   \n",
       "100007                                        0.0   \n",
       "\n",
       "            PREV_CHANNEL_TYPE_Country_wide_MEAN  \\\n",
       "SK_ID_CURR                                        \n",
       "100002                                 0.000000   \n",
       "100003                                 0.333333   \n",
       "100004                                 0.000000   \n",
       "100006                                 0.111111   \n",
       "100007                                 0.500000   \n",
       "\n",
       "            PREV_CHANNEL_TYPE_Credit_and_cash_offices_MEAN  \\\n",
       "SK_ID_CURR                                                   \n",
       "100002                                            0.000000   \n",
       "100003                                            0.333333   \n",
       "100004                                            0.000000   \n",
       "100006                                            0.777778   \n",
       "100007                                            0.166667   \n",
       "\n",
       "            PREV_CHANNEL_TYPE_Regional_Local_MEAN  \\\n",
       "SK_ID_CURR                                          \n",
       "100002                                   0.000000   \n",
       "100003                                   0.000000   \n",
       "100004                                   1.000000   \n",
       "100006                                   0.000000   \n",
       "100007                                   0.166667   \n",
       "\n",
       "            PREV_CHANNEL_TYPE_Stone_MEAN  \\\n",
       "SK_ID_CURR                                 \n",
       "100002                          1.000000   \n",
       "100003                          0.333333   \n",
       "100004                          0.000000   \n",
       "100006                          0.111111   \n",
       "100007                          0.000000   \n",
       "\n",
       "            PREV_NAME_SELLER_INDUSTRY_Auto_technology_MEAN  \\\n",
       "SK_ID_CURR                                                   \n",
       "100002                                                 1.0   \n",
       "100003                                                 0.0   \n",
       "100004                                                 0.0   \n",
       "100006                                                 0.0   \n",
       "100007                                                 0.0   \n",
       "\n",
       "            PREV_NAME_SELLER_INDUSTRY_Clothing_MEAN  \\\n",
       "SK_ID_CURR                                            \n",
       "100002                                          0.0   \n",
       "100003                                          0.0   \n",
       "100004                                          0.0   \n",
       "100006                                          0.0   \n",
       "100007                                          0.0   \n",
       "\n",
       "            PREV_NAME_SELLER_INDUSTRY_Connectivity_MEAN  \\\n",
       "SK_ID_CURR                                                \n",
       "100002                                         0.000000   \n",
       "100003                                         0.000000   \n",
       "100004                                         1.000000   \n",
       "100006                                         0.000000   \n",
       "100007                                         0.166667   \n",
       "\n",
       "            PREV_NAME_SELLER_INDUSTRY_Construction_MEAN  \\\n",
       "SK_ID_CURR                                                \n",
       "100002                                         0.000000   \n",
       "100003                                         0.000000   \n",
       "100004                                         0.000000   \n",
       "100006                                         0.111111   \n",
       "100007                                         0.000000   \n",
       "\n",
       "            PREV_NAME_SELLER_INDUSTRY_Consumer_electronics_MEAN  \\\n",
       "SK_ID_CURR                                                        \n",
       "100002                                               0.000000     \n",
       "100003                                               0.333333     \n",
       "100004                                               0.000000     \n",
       "100006                                               0.111111     \n",
       "100007                                               0.500000     \n",
       "\n",
       "            PREV_NAME_SELLER_INDUSTRY_Furniture_MEAN  \\\n",
       "SK_ID_CURR                                             \n",
       "100002                                      0.000000   \n",
       "100003                                      0.333333   \n",
       "100004                                      0.000000   \n",
       "100006                                      0.000000   \n",
       "100007                                      0.000000   \n",
       "\n",
       "            PREV_NAME_SELLER_INDUSTRY_Industry_MEAN  \\\n",
       "SK_ID_CURR                                            \n",
       "100002                                          0.0   \n",
       "100003                                          0.0   \n",
       "100004                                          0.0   \n",
       "100006                                          0.0   \n",
       "100007                                          0.0   \n",
       "\n",
       "            PREV_NAME_SELLER_INDUSTRY_Jewelry_MEAN  \\\n",
       "SK_ID_CURR                                           \n",
       "100002                                         0.0   \n",
       "100003                                         0.0   \n",
       "100004                                         0.0   \n",
       "100006                                         0.0   \n",
       "100007                                         0.0   \n",
       "\n",
       "            PREV_NAME_SELLER_INDUSTRY_MLM_partners_MEAN  \\\n",
       "SK_ID_CURR                                                \n",
       "100002                                              0.0   \n",
       "100003                                              0.0   \n",
       "100004                                              0.0   \n",
       "100006                                              0.0   \n",
       "100007                                              0.0   \n",
       "\n",
       "            PREV_NAME_SELLER_INDUSTRY_Tourism_MEAN  \\\n",
       "SK_ID_CURR                                           \n",
       "100002                                         0.0   \n",
       "100003                                         0.0   \n",
       "100004                                         0.0   \n",
       "100006                                         0.0   \n",
       "100007                                         0.0   \n",
       "\n",
       "            PREV_NAME_SELLER_INDUSTRY_XNA_MEAN  \\\n",
       "SK_ID_CURR                                       \n",
       "100002                                0.000000   \n",
       "100003                                0.333333   \n",
       "100004                                0.000000   \n",
       "100006                                0.777778   \n",
       "100007                                0.333333   \n",
       "\n",
       "            PREV_NAME_YIELD_GROUP_XNA_MEAN  PREV_NAME_YIELD_GROUP_high_MEAN  \\\n",
       "SK_ID_CURR                                                                    \n",
       "100002                            0.000000                         0.000000   \n",
       "100003                            0.000000                         0.000000   \n",
       "100004                            0.000000                         0.000000   \n",
       "100006                            0.444444                         0.222222   \n",
       "100007                            0.000000                         0.500000   \n",
       "\n",
       "            PREV_NAME_YIELD_GROUP_low_action_MEAN  \\\n",
       "SK_ID_CURR                                          \n",
       "100002                                        0.0   \n",
       "100003                                        0.0   \n",
       "100004                                        0.0   \n",
       "100006                                        0.0   \n",
       "100007                                        0.0   \n",
       "\n",
       "            PREV_NAME_YIELD_GROUP_low_normal_MEAN  \\\n",
       "SK_ID_CURR                                          \n",
       "100002                                   1.000000   \n",
       "100003                                   0.333333   \n",
       "100004                                   0.000000   \n",
       "100006                                   0.222222   \n",
       "100007                                   0.000000   \n",
       "\n",
       "            PREV_NAME_YIELD_GROUP_middle_MEAN  \\\n",
       "SK_ID_CURR                                      \n",
       "100002                               0.000000   \n",
       "100003                               0.666667   \n",
       "100004                               1.000000   \n",
       "100006                               0.111111   \n",
       "100007                               0.500000   \n",
       "\n",
       "            PREV_PRODUCT_COMBINATION_Card_Street_MEAN  \\\n",
       "SK_ID_CURR                                              \n",
       "100002                                       0.000000   \n",
       "100003                                       0.000000   \n",
       "100004                                       0.000000   \n",
       "100006                                       0.111111   \n",
       "100007                                       0.000000   \n",
       "\n",
       "            PREV_PRODUCT_COMBINATION_Card_X_Sell_MEAN  \\\n",
       "SK_ID_CURR                                              \n",
       "100002                                       0.000000   \n",
       "100003                                       0.000000   \n",
       "100004                                       0.000000   \n",
       "100006                                       0.111111   \n",
       "100007                                       0.000000   \n",
       "\n",
       "            PREV_PRODUCT_COMBINATION_Cash_MEAN  \\\n",
       "SK_ID_CURR                                       \n",
       "100002                                0.000000   \n",
       "100003                                0.000000   \n",
       "100004                                0.000000   \n",
       "100006                                0.222222   \n",
       "100007                                0.000000   \n",
       "\n",
       "            PREV_PRODUCT_COMBINATION_Cash_Street_high_MEAN  \\\n",
       "SK_ID_CURR                                                   \n",
       "100002                                            0.000000   \n",
       "100003                                            0.000000   \n",
       "100004                                            0.000000   \n",
       "100006                                            0.000000   \n",
       "100007                                            0.166667   \n",
       "\n",
       "            PREV_PRODUCT_COMBINATION_Cash_Street_low_MEAN  \\\n",
       "SK_ID_CURR                                                  \n",
       "100002                                                0.0   \n",
       "100003                                                0.0   \n",
       "100004                                                0.0   \n",
       "100006                                                0.0   \n",
       "100007                                                0.0   \n",
       "\n",
       "            PREV_PRODUCT_COMBINATION_Cash_Street_middle_MEAN  \\\n",
       "SK_ID_CURR                                                     \n",
       "100002                                                   0.0   \n",
       "100003                                                   0.0   \n",
       "100004                                                   0.0   \n",
       "100006                                                   0.0   \n",
       "100007                                                   0.0   \n",
       "\n",
       "            PREV_PRODUCT_COMBINATION_Cash_X_Sell_high_MEAN  \\\n",
       "SK_ID_CURR                                                   \n",
       "100002                                            0.000000   \n",
       "100003                                            0.000000   \n",
       "100004                                            0.000000   \n",
       "100006                                            0.111111   \n",
       "100007                                            0.000000   \n",
       "\n",
       "            PREV_PRODUCT_COMBINATION_Cash_X_Sell_low_MEAN  \\\n",
       "SK_ID_CURR                                                  \n",
       "100002                                           0.000000   \n",
       "100003                                           0.333333   \n",
       "100004                                           0.000000   \n",
       "100006                                           0.222222   \n",
       "100007                                           0.000000   \n",
       "\n",
       "            PREV_PRODUCT_COMBINATION_Cash_X_Sell_middle_MEAN  \\\n",
       "SK_ID_CURR                                                     \n",
       "100002                                                   0.0   \n",
       "100003                                                   0.0   \n",
       "100004                                                   0.0   \n",
       "100006                                                   0.0   \n",
       "100007                                                   0.5   \n",
       "\n",
       "            PREV_PRODUCT_COMBINATION_POS_household_with_interest_MEAN  \\\n",
       "SK_ID_CURR                                                              \n",
       "100002                                               0.000000           \n",
       "100003                                               0.333333           \n",
       "100004                                               0.000000           \n",
       "100006                                               0.111111           \n",
       "100007                                               0.166667           \n",
       "\n",
       "            PREV_PRODUCT_COMBINATION_POS_household_without_interest_MEAN  \\\n",
       "SK_ID_CURR                                                                 \n",
       "100002                                                    0.0              \n",
       "100003                                                    0.0              \n",
       "100004                                                    0.0              \n",
       "100006                                                    0.0              \n",
       "100007                                                    0.0              \n",
       "\n",
       "            PREV_PRODUCT_COMBINATION_POS_industry_with_interest_MEAN  \\\n",
       "SK_ID_CURR                                                             \n",
       "100002                                               0.000000          \n",
       "100003                                               0.333333          \n",
       "100004                                               0.000000          \n",
       "100006                                               0.111111          \n",
       "100007                                               0.000000          \n",
       "\n",
       "            PREV_PRODUCT_COMBINATION_POS_industry_without_interest_MEAN  \\\n",
       "SK_ID_CURR                                                                \n",
       "100002                                                    0.0             \n",
       "100003                                                    0.0             \n",
       "100004                                                    0.0             \n",
       "100006                                                    0.0             \n",
       "100007                                                    0.0             \n",
       "\n",
       "            PREV_PRODUCT_COMBINATION_POS_mobile_with_interest_MEAN  \\\n",
       "SK_ID_CURR                                                           \n",
       "100002                                               0.000000        \n",
       "100003                                               0.000000        \n",
       "100004                                               0.000000        \n",
       "100006                                               0.000000        \n",
       "100007                                               0.166667        \n",
       "\n",
       "            PREV_PRODUCT_COMBINATION_POS_mobile_without_interest_MEAN  \\\n",
       "SK_ID_CURR                                                              \n",
       "100002                                                    0.0           \n",
       "100003                                                    0.0           \n",
       "100004                                                    1.0           \n",
       "100006                                                    0.0           \n",
       "100007                                                    0.0           \n",
       "\n",
       "            PREV_PRODUCT_COMBINATION_POS_other_with_interest_MEAN  \\\n",
       "SK_ID_CURR                                                          \n",
       "100002                                                    1.0       \n",
       "100003                                                    0.0       \n",
       "100004                                                    0.0       \n",
       "100006                                                    0.0       \n",
       "100007                                                    0.0       \n",
       "\n",
       "            PREV_PRODUCT_COMBINATION_POS_others_without_interest_MEAN  \\\n",
       "SK_ID_CURR                                                              \n",
       "100002                                                    0.0           \n",
       "100003                                                    0.0           \n",
       "100004                                                    0.0           \n",
       "100006                                                    0.0           \n",
       "100007                                                    0.0           \n",
       "\n",
       "            APPROVED_AMT_ANNUITY_MIN  APPROVED_AMT_ANNUITY_MAX  \\\n",
       "SK_ID_CURR                                                       \n",
       "100002                      9251.775                  9251.775   \n",
       "100003                      6737.310                 98356.995   \n",
       "100004                      5357.250                  5357.250   \n",
       "100006                      2482.920                 39954.510   \n",
       "100007                      1834.290                 22678.785   \n",
       "\n",
       "            APPROVED_AMT_ANNUITY_MEAN  APPROVED_AMT_APPLICATION_MIN  \\\n",
       "SK_ID_CURR                                                            \n",
       "100002                       9251.775                     179055.00   \n",
       "100003                      56553.990                      68809.50   \n",
       "100004                       5357.250                      24282.00   \n",
       "100006                      21842.190                      26912.34   \n",
       "100007                      12278.805                      17176.50   \n",
       "\n",
       "            APPROVED_AMT_APPLICATION_MAX  APPROVED_AMT_APPLICATION_MEAN  \\\n",
       "SK_ID_CURR                                                                \n",
       "100002                          179055.0                     179055.000   \n",
       "100003                          900000.0                     435436.500   \n",
       "100004                           24282.0                      24282.000   \n",
       "100006                          675000.0                     352265.868   \n",
       "100007                          247500.0                     150530.250   \n",
       "\n",
       "            APPROVED_AMT_CREDIT_MIN  APPROVED_AMT_CREDIT_MAX  \\\n",
       "SK_ID_CURR                                                     \n",
       "100002                     179055.0                 179055.0   \n",
       "100003                      68053.5                1035882.0   \n",
       "100004                      20106.0                  20106.0   \n",
       "100006                      24219.0                 675000.0   \n",
       "100007                      14616.0                 284400.0   \n",
       "\n",
       "            APPROVED_AMT_CREDIT_MEAN  APPROVED_APP_CREDIT_PERC_MIN  \\\n",
       "SK_ID_CURR                                                           \n",
       "100002                     179055.00                      1.000000   \n",
       "100003                     484191.00                      0.868825   \n",
       "100004                      20106.00                      1.207699   \n",
       "100006                     343728.90                      0.943934   \n",
       "100007                     166638.75                      0.791139   \n",
       "\n",
       "            APPROVED_APP_CREDIT_PERC_MAX  APPROVED_APP_CREDIT_PERC_MEAN  \\\n",
       "SK_ID_CURR                                                                \n",
       "100002                          1.000000                       1.000000   \n",
       "100003                          1.011109                       0.949329   \n",
       "100004                          1.207699                       1.207699   \n",
       "100006                          1.250017                       1.061032   \n",
       "100007                          1.175185                       0.969650   \n",
       "\n",
       "            APPROVED_AMT_GOODS_PRICE_MIN  APPROVED_AMT_GOODS_PRICE_MAX  \\\n",
       "SK_ID_CURR                                                               \n",
       "100002                         179055.00                      179055.0   \n",
       "100003                          68809.50                      900000.0   \n",
       "100004                          24282.00                       24282.0   \n",
       "100006                          26912.34                      675000.0   \n",
       "100007                          17176.50                      247500.0   \n",
       "\n",
       "            APPROVED_AMT_GOODS_PRICE_MEAN  \\\n",
       "SK_ID_CURR                                  \n",
       "100002                         179055.000   \n",
       "100003                         435436.500   \n",
       "100004                          24282.000   \n",
       "100006                         352265.868   \n",
       "100007                         150530.250   \n",
       "\n",
       "            APPROVED_HOUR_APPR_PROCESS_START_MIN  \\\n",
       "SK_ID_CURR                                         \n",
       "100002                                       9.0   \n",
       "100003                                      12.0   \n",
       "100004                                       5.0   \n",
       "100006                                      12.0   \n",
       "100007                                       8.0   \n",
       "\n",
       "            APPROVED_HOUR_APPR_PROCESS_START_MAX  \\\n",
       "SK_ID_CURR                                         \n",
       "100002                                       9.0   \n",
       "100003                                      17.0   \n",
       "100004                                       5.0   \n",
       "100006                                      15.0   \n",
       "100007                                      15.0   \n",
       "\n",
       "            APPROVED_HOUR_APPR_PROCESS_START_MEAN  APPROVED_DAYS_DECISION_MIN  \\\n",
       "SK_ID_CURR                                                                      \n",
       "100002                                   9.000000                      -606.0   \n",
       "100003                                  14.666667                     -2341.0   \n",
       "100004                                   5.000000                      -815.0   \n",
       "100006                                  14.400000                      -617.0   \n",
       "100007                                  12.333333                     -2357.0   \n",
       "\n",
       "            APPROVED_DAYS_DECISION_MAX  APPROVED_DAYS_DECISION_MEAN  \\\n",
       "SK_ID_CURR                                                            \n",
       "100002                          -606.0                  -606.000000   \n",
       "100003                          -746.0                 -1305.000000   \n",
       "100004                          -815.0                  -815.000000   \n",
       "100006                          -181.0                  -345.600000   \n",
       "100007                          -374.0                 -1222.833333   \n",
       "\n",
       "            APPROVED_CNT_PAYMENT_MEAN  APPROVED_CNT_PAYMENT_SUM  \\\n",
       "SK_ID_CURR                                                        \n",
       "100002                      24.000000                      24.0   \n",
       "100003                      10.000000                      30.0   \n",
       "100004                       4.000000                       4.0   \n",
       "100006                      18.000000                      90.0   \n",
       "100007                      20.666667                     124.0   \n",
       "\n",
       "            POS_MONTHS_BALANCE_MAX  POS_MONTHS_BALANCE_MEAN  \\\n",
       "SK_ID_CURR                                                    \n",
       "100002                        -1.0               -10.000000   \n",
       "100003                       -18.0               -43.785714   \n",
       "100004                       -24.0               -25.500000   \n",
       "100006                        -1.0                -9.619048   \n",
       "100007                        -1.0               -33.636364   \n",
       "\n",
       "            POS_MONTHS_BALANCE_SIZE  POS_SK_DPD_MAX  POS_SK_DPD_MEAN  \\\n",
       "SK_ID_CURR                                                             \n",
       "100002                         19.0             0.0              0.0   \n",
       "100003                         28.0             0.0              0.0   \n",
       "100004                          4.0             0.0              0.0   \n",
       "100006                         21.0             0.0              0.0   \n",
       "100007                         66.0             0.0              0.0   \n",
       "\n",
       "            POS_SK_DPD_DEF_MAX  POS_SK_DPD_DEF_MEAN  \\\n",
       "SK_ID_CURR                                            \n",
       "100002                     0.0                  0.0   \n",
       "100003                     0.0                  0.0   \n",
       "100004                     0.0                  0.0   \n",
       "100006                     0.0                  0.0   \n",
       "100007                     0.0                  0.0   \n",
       "\n",
       "            POS_NAME_CONTRACT_STATUS_Active_MEAN  \\\n",
       "SK_ID_CURR                                         \n",
       "100002                                  1.000000   \n",
       "100003                                  0.928571   \n",
       "100004                                  0.750000   \n",
       "100006                                  0.857143   \n",
       "100007                                  0.939394   \n",
       "\n",
       "            POS_NAME_CONTRACT_STATUS_Amortized_debt_MEAN  \\\n",
       "SK_ID_CURR                                                 \n",
       "100002                                               0.0   \n",
       "100003                                               0.0   \n",
       "100004                                               0.0   \n",
       "100006                                               0.0   \n",
       "100007                                               0.0   \n",
       "\n",
       "            POS_NAME_CONTRACT_STATUS_Approved_MEAN  \\\n",
       "SK_ID_CURR                                           \n",
       "100002                                         0.0   \n",
       "100003                                         0.0   \n",
       "100004                                         0.0   \n",
       "100006                                         0.0   \n",
       "100007                                         0.0   \n",
       "\n",
       "            POS_NAME_CONTRACT_STATUS_Canceled_MEAN  \\\n",
       "SK_ID_CURR                                           \n",
       "100002                                         0.0   \n",
       "100003                                         0.0   \n",
       "100004                                         0.0   \n",
       "100006                                         0.0   \n",
       "100007                                         0.0   \n",
       "\n",
       "            POS_NAME_CONTRACT_STATUS_Completed_MEAN  \\\n",
       "SK_ID_CURR                                            \n",
       "100002                                     0.000000   \n",
       "100003                                     0.071429   \n",
       "100004                                     0.250000   \n",
       "100006                                     0.095238   \n",
       "100007                                     0.045455   \n",
       "\n",
       "            POS_NAME_CONTRACT_STATUS_Demand_MEAN  \\\n",
       "SK_ID_CURR                                         \n",
       "100002                                       0.0   \n",
       "100003                                       0.0   \n",
       "100004                                       0.0   \n",
       "100006                                       0.0   \n",
       "100007                                       0.0   \n",
       "\n",
       "            POS_NAME_CONTRACT_STATUS_Returned_to_the_store_MEAN  \\\n",
       "SK_ID_CURR                                                        \n",
       "100002                                               0.000000     \n",
       "100003                                               0.000000     \n",
       "100004                                               0.000000     \n",
       "100006                                               0.047619     \n",
       "100007                                               0.000000     \n",
       "\n",
       "            POS_NAME_CONTRACT_STATUS_Signed_MEAN  \\\n",
       "SK_ID_CURR                                         \n",
       "100002                                  0.000000   \n",
       "100003                                  0.000000   \n",
       "100004                                  0.000000   \n",
       "100006                                  0.000000   \n",
       "100007                                  0.015152   \n",
       "\n",
       "            POS_NAME_CONTRACT_STATUS_XNA_MEAN  POS_COUNT  \\\n",
       "SK_ID_CURR                                                 \n",
       "100002                                    0.0       19.0   \n",
       "100003                                    0.0       28.0   \n",
       "100004                                    0.0        4.0   \n",
       "100006                                    0.0       21.0   \n",
       "100007                                    0.0       66.0   \n",
       "\n",
       "            INSTAL_NUM_INSTALMENT_VERSION_NUNIQUE  INSTAL_DPD_MAX  \\\n",
       "SK_ID_CURR                                                          \n",
       "100002                                        2.0             0.0   \n",
       "100003                                        2.0             0.0   \n",
       "100004                                        2.0             0.0   \n",
       "100006                                        2.0             0.0   \n",
       "100007                                        2.0            12.0   \n",
       "\n",
       "            INSTAL_DPD_MEAN  INSTAL_DPD_SUM  INSTAL_DBD_MAX  INSTAL_DBD_MEAN  \\\n",
       "SK_ID_CURR                                                                     \n",
       "100002             0.000000             0.0            31.0        20.421053   \n",
       "100003             0.000000             0.0            14.0         7.160000   \n",
       "100004             0.000000             0.0            11.0         7.666667   \n",
       "100006             0.000000             0.0            77.0        19.375000   \n",
       "100007             0.954545            63.0            31.0         4.590909   \n",
       "\n",
       "            INSTAL_DBD_SUM  INSTAL_PAYMENT_PERC_MAX  INSTAL_PAYMENT_PERC_MEAN  \\\n",
       "SK_ID_CURR                                                                      \n",
       "100002               388.0                      1.0                  1.000000   \n",
       "100003               179.0                      1.0                  1.000000   \n",
       "100004                23.0                      1.0                  1.000000   \n",
       "100006               310.0                      1.0                  1.000000   \n",
       "100007               303.0                      1.0                  0.954545   \n",
       "\n",
       "            INSTAL_PAYMENT_PERC_SUM  INSTAL_PAYMENT_PERC_VAR  \\\n",
       "SK_ID_CURR                                                     \n",
       "100002                         19.0                 0.000000   \n",
       "100003                         25.0                 0.000000   \n",
       "100004                          3.0                 0.000000   \n",
       "100006                         16.0                 0.000000   \n",
       "100007                         63.0                 0.043995   \n",
       "\n",
       "            INSTAL_PAYMENT_DIFF_MAX  INSTAL_PAYMENT_DIFF_MEAN  \\\n",
       "SK_ID_CURR                                                      \n",
       "100002                        0.000                  0.000000   \n",
       "100003                        0.000                  0.000000   \n",
       "100004                        0.000                  0.000000   \n",
       "100006                        0.000                  0.000000   \n",
       "100007                    22655.655                452.384318   \n",
       "\n",
       "            INSTAL_PAYMENT_DIFF_SUM  INSTAL_PAYMENT_DIFF_VAR  \\\n",
       "SK_ID_CURR                                                     \n",
       "100002                        0.000             0.000000e+00   \n",
       "100003                        0.000             0.000000e+00   \n",
       "100004                        0.000             0.000000e+00   \n",
       "100006                        0.000             0.000000e+00   \n",
       "100007                    29857.365             8.084830e+06   \n",
       "\n",
       "            INSTAL_AMT_INSTALMENT_MAX  INSTAL_AMT_INSTALMENT_MEAN  \\\n",
       "SK_ID_CURR                                                          \n",
       "100002                      53093.745                11559.247105   \n",
       "100003                     560835.360                64754.586000   \n",
       "100004                      10573.965                 7096.155000   \n",
       "100006                     691786.890                62947.088438   \n",
       "100007                      22678.785                12666.444545   \n",
       "\n",
       "            INSTAL_AMT_INSTALMENT_SUM  INSTAL_AMT_PAYMENT_MIN  \\\n",
       "SK_ID_CURR                                                      \n",
       "100002                     219625.695                9251.775   \n",
       "100003                    1618864.650                6662.970   \n",
       "100004                      21288.465                5357.250   \n",
       "100006                    1007153.415                2482.920   \n",
       "100007                     835985.340                   0.180   \n",
       "\n",
       "            INSTAL_AMT_PAYMENT_MAX  INSTAL_AMT_PAYMENT_MEAN  \\\n",
       "SK_ID_CURR                                                    \n",
       "100002                   53093.745             11559.247105   \n",
       "100003                  560835.360             64754.586000   \n",
       "100004                   10573.965              7096.155000   \n",
       "100006                  691786.890             62947.088438   \n",
       "100007                   22678.785             12214.060227   \n",
       "\n",
       "            INSTAL_AMT_PAYMENT_SUM  INSTAL_DAYS_ENTRY_PAYMENT_MAX  \\\n",
       "SK_ID_CURR                                                          \n",
       "100002                  219625.695                          -49.0   \n",
       "100003                 1618864.650                         -544.0   \n",
       "100004                   21288.465                         -727.0   \n",
       "100006                 1007153.415                          -12.0   \n",
       "100007                  806127.975                          -14.0   \n",
       "\n",
       "            INSTAL_DAYS_ENTRY_PAYMENT_MEAN  INSTAL_DAYS_ENTRY_PAYMENT_SUM  \\\n",
       "SK_ID_CURR                                                                  \n",
       "100002                         -315.421053                        -5993.0   \n",
       "100003                        -1385.320000                       -34633.0   \n",
       "100004                         -761.666667                        -2285.0   \n",
       "100006                         -271.625000                        -4346.0   \n",
       "100007                        -1032.242424                       -68128.0   \n",
       "\n",
       "            INSTAL_COUNT  \n",
       "SK_ID_CURR                \n",
       "100002              19.0  \n",
       "100003              25.0  \n",
       "100004               3.0  \n",
       "100006              16.0  \n",
       "100007              66.0  \n",
       "\n",
       "[5 rows x 424 columns]"
      ]
     },
     "execution_count": 95,
     "metadata": {},
     "output_type": "execute_result"
    }
   ],
   "source": [
    "data.head()"
   ]
  },
  {
   "cell_type": "code",
   "execution_count": 86,
   "metadata": {},
   "outputs": [],
   "source": [
    "reduced_df['SQRT_COUNT'] = np.sqrt(np.sqrt(reduced_df['COUNT']))"
   ]
  },
  {
   "cell_type": "code",
   "execution_count": 90,
   "metadata": {},
   "outputs": [
    {
     "data": {
      "text/plain": [
       "<AxesSubplot:xlabel='CENTROID_X', ylabel='CENTROID_Y'>"
      ]
     },
     "execution_count": 90,
     "metadata": {},
     "output_type": "execute_result"
    },
    {
     "data": {
      "image/png": "[encoded data removed]",
      "text/plain": [
       "<Figure size 432x288 with 1 Axes>"
      ]
     },
     "metadata": {
      "needs_background": "light"
     },
     "output_type": "display_data"
    }
   ],
   "source": [
    "sns.scatterplot(x='CENTROID_X', y='CENTROID_Y', data=reduced_df,  hue='SQRT_COUNT')"
   ]
  },
  {
   "cell_type": "code",
   "execution_count": 87,
   "metadata": {},
   "outputs": [
    {
     "data": {
      "text/plain": [
       "count    1000.000000\n",
       "mean        4.071633\n",
       "std         0.880822\n",
       "min         0.000000\n",
       "25%         3.534119\n",
       "50%         4.077779\n",
       "75%         4.575414\n",
       "max         8.965509\n",
       "Name: SQRT_COUNT, dtype: float64"
      ]
     },
     "execution_count": 87,
     "metadata": {},
     "output_type": "execute_result"
    }
   ],
   "source": [
    "reduced_df['SQRT_COUNT'].describe()"
   ]
  },
  {
   "cell_type": "markdown",
   "metadata": {},
   "source": [
    "### Entrainement du modèle et sauvegarde"
   ]
  },
  {
   "cell_type": "code",
   "execution_count": 140,
   "metadata": {},
   "outputs": [
    {
     "name": "stdout",
     "output_type": "stream",
     "text": [
      "[1]\tvalid_0's auc: 0.643478\tvalid_0's binary_logloss: 0.287705\n",
      "[2]\tvalid_0's auc: 0.66903\tvalid_0's binary_logloss: 0.305735\n",
      "[3]\tvalid_0's auc: 0.706016\tvalid_0's binary_logloss: 0.323293\n",
      "[4]\tvalid_0's auc: 0.717213\tvalid_0's binary_logloss: 0.341972\n",
      "[5]\tvalid_0's auc: 0.72078\tvalid_0's binary_logloss: 0.362297\n",
      "[6]\tvalid_0's auc: 0.724554\tvalid_0's binary_logloss: 0.38036\n",
      "[7]\tvalid_0's auc: 0.727873\tvalid_0's binary_logloss: 0.398921\n",
      "[8]\tvalid_0's auc: 0.729819\tvalid_0's binary_logloss: 0.416262\n",
      "[9]\tvalid_0's auc: 0.732085\tvalid_0's binary_logloss: 0.432475\n",
      "[10]\tvalid_0's auc: 0.733841\tvalid_0's binary_logloss: 0.44645\n",
      "[11]\tvalid_0's auc: 0.735278\tvalid_0's binary_logloss: 0.460648\n"
     ]
    },
    {
     "data": {
      "text/html": [
       "<style>#sk-container-id-5 {color: black;background-color: white;}#sk-container-id-5 pre{padding: 0;}#sk-container-id-5 div.sk-toggleable {background-color: white;}#sk-container-id-5 label.sk-toggleable__label {cursor: pointer;display: block;width: 100%;margin-bottom: 0;padding: 0.3em;box-sizing: border-box;text-align: center;}#sk-container-id-5 label.sk-toggleable__label-arrow:before {content: \"▸\";float: left;margin-right: 0.25em;color: #696969;}#sk-container-id-5 label.sk-toggleable__label-arrow:hover:before {color: black;}#sk-container-id-5 div.sk-estimator:hover label.sk-toggleable__label-arrow:before {color: black;}#sk-container-id-5 div.sk-toggleable__content {max-height: 0;max-width: 0;overflow: hidden;text-align: left;background-color: #f0f8ff;}#sk-container-id-5 div.sk-toggleable__content pre {margin: 0.2em;color: black;border-radius: 0.25em;background-color: #f0f8ff;}#sk-container-id-5 input.sk-toggleable__control:checked~div.sk-toggleable__content {max-height: 200px;max-width: 100%;overflow: auto;}#sk-container-id-5 input.sk-toggleable__control:checked~label.sk-toggleable__label-arrow:before {content: \"▾\";}#sk-container-id-5 div.sk-estimator input.sk-toggleable__control:checked~label.sk-toggleable__label {background-color: #d4ebff;}#sk-container-id-5 div.sk-label input.sk-toggleable__control:checked~label.sk-toggleable__label {background-color: #d4ebff;}#sk-container-id-5 input.sk-hidden--visually {border: 0;clip: rect(1px 1px 1px 1px);clip: rect(1px, 1px, 1px, 1px);height: 1px;margin: -1px;overflow: hidden;padding: 0;position: absolute;width: 1px;}#sk-container-id-5 div.sk-estimator {font-family: monospace;background-color: #f0f8ff;border: 1px dotted black;border-radius: 0.25em;box-sizing: border-box;margin-bottom: 0.5em;}#sk-container-id-5 div.sk-estimator:hover {background-color: #d4ebff;}#sk-container-id-5 div.sk-parallel-item::after {content: \"\";width: 100%;border-bottom: 1px solid gray;flex-grow: 1;}#sk-container-id-5 div.sk-label:hover label.sk-toggleable__label {background-color: #d4ebff;}#sk-container-id-5 div.sk-serial::before {content: \"\";position: absolute;border-left: 1px solid gray;box-sizing: border-box;top: 0;bottom: 0;left: 50%;z-index: 0;}#sk-container-id-5 div.sk-serial {display: flex;flex-direction: column;align-items: center;background-color: white;padding-right: 0.2em;padding-left: 0.2em;position: relative;}#sk-container-id-5 div.sk-item {position: relative;z-index: 1;}#sk-container-id-5 div.sk-parallel {display: flex;align-items: stretch;justify-content: center;background-color: white;position: relative;}#sk-container-id-5 div.sk-item::before, #sk-container-id-5 div.sk-parallel-item::before {content: \"\";position: absolute;border-left: 1px solid gray;box-sizing: border-box;top: 0;bottom: 0;left: 50%;z-index: -1;}#sk-container-id-5 div.sk-parallel-item {display: flex;flex-direction: column;z-index: 1;position: relative;background-color: white;}#sk-container-id-5 div.sk-parallel-item:first-child::after {align-self: flex-end;width: 50%;}#sk-container-id-5 div.sk-parallel-item:last-child::after {align-self: flex-start;width: 50%;}#sk-container-id-5 div.sk-parallel-item:only-child::after {width: 0;}#sk-container-id-5 div.sk-dashed-wrapped {border: 1px dashed gray;margin: 0 0.4em 0.5em 0.4em;box-sizing: border-box;padding-bottom: 0.4em;background-color: white;}#sk-container-id-5 div.sk-label label {font-family: monospace;font-weight: bold;display: inline-block;line-height: 1.2em;}#sk-container-id-5 div.sk-label-container {text-align: center;}#sk-container-id-5 div.sk-container {/* jupyter's `normalize.less` sets `[hidden] { display: none; }` but bootstrap.min.css set `[hidden] { display: none !important; }` so we also need the `!important` here to be able to override the default hidden behavior on the sphinx rendered scikit-learn.org. See: https://github.com/scikit-learn/scikit-learn/issues/21755 */display: inline-block !important;position: relative;}#sk-container-id-5 div.sk-text-repr-fallback {display: none;}</style><div id=\"sk-container-id-5\" class=\"sk-top-container\"><div class=\"sk-text-repr-fallback\"><pre>LGBMClassifier(colsample_bytree=0.5, force_row_wise=True, is_unbalance=True,\n",
       "               max_depth=8, min_child_samples=1000, n_jobs=8, num_leaves=16,\n",
       "               objective=&#x27;binary&#x27;, verbose=-1)</pre><b>In a Jupyter environment, please rerun this cell to show the HTML representation or trust the notebook. <br />On GitHub, the HTML representation is unable to render, please try loading this page with nbviewer.org.</b></div><div class=\"sk-container\" hidden><div class=\"sk-item\"><div class=\"sk-estimator sk-toggleable\"><input class=\"sk-toggleable__control sk-hidden--visually\" id=\"sk-estimator-id-5\" type=\"checkbox\" checked><label for=\"sk-estimator-id-5\" class=\"sk-toggleable__label sk-toggleable__label-arrow\">LGBMClassifier</label><div class=\"sk-toggleable__content\"><pre>LGBMClassifier(colsample_bytree=0.5, force_row_wise=True, is_unbalance=True,\n",
       "               max_depth=8, min_child_samples=1000, n_jobs=8, num_leaves=16,\n",
       "               objective=&#x27;binary&#x27;, verbose=-1)</pre></div></div></div></div></div>"
      ],
      "text/plain": [
       "LGBMClassifier(colsample_bytree=0.5, force_row_wise=True, is_unbalance=True,\n",
       "               max_depth=8, min_child_samples=1000, n_jobs=8, num_leaves=16,\n",
       "               objective='binary', verbose=-1)"
      ]
     },
     "execution_count": 140,
     "metadata": {},
     "output_type": "execute_result"
    }
   ],
   "source": [
    "from lightgbm import LGBMClassifier\n",
    "model = LGBMClassifier(\n",
    "    objective='binary',\n",
    "    n_jobs=8,\n",
    "    verbose=-1,\n",
    "    force_row_wise=True,\n",
    "    is_unbalance=True,  # try to Automatically balance the weight of the dominated labels\n",
    "    num_leaves=16,  # Shall be smaller than 2^(max_depth)\n",
    "    max_depth=8,\n",
    "    min_child_samples=1000,\n",
    "    learning_rate=0.1,\n",
    "    colsample_bytree=0.5,  # Alias for feature_fraction\n",
    ")\n",
    "train_data = data[data['TARGET'].notnull()]\n",
    "feats = [f for f in data.columns if f not in ['TARGET', 'SK_ID_CURR', 'SK_ID_BUREAU', 'SK_ID_PREV', 'index']]\n",
    "model.fit(\n",
    "    train_data[feats],\n",
    "    train_data['TARGET'],\n",
    "    eval_set=[(train_data[feats], train_data['TARGET'])],\n",
    "    eval_metric='auc',\n",
    "    early_stopping_rounds=10\n",
    ")"
   ]
  },
  {
   "cell_type": "code",
   "execution_count": 142,
   "metadata": {},
   "outputs": [],
   "source": [
    "from sklearn.metrics import fbeta_score, make_scorer\n",
    "ftwo_scorer = make_scorer(fbeta_score, beta=2)"
   ]
  },
  {
   "cell_type": "code",
   "execution_count": 151,
   "metadata": {},
   "outputs": [
    {
     "name": "stderr",
     "output_type": "stream",
     "text": [
      "[Parallel(n_jobs=4)]: Using backend LokyBackend with 4 concurrent workers.\n",
      "[Parallel(n_jobs=4)]: Done   5 out of   5 | elapsed:  1.1min finished\n"
     ]
    }
   ],
   "source": [
    "from sklearn.model_selection import cross_val_score, cross_validate\n",
    "res = cross_validate(model, train_data[feats], train_data['TARGET'], cv=5, scoring=ftwo_scorer, verbose=2, return_train_score=True, return_estimator=True, n_jobs=4)"
   ]
  },
  {
   "cell_type": "code",
   "execution_count": 171,
   "metadata": {},
   "outputs": [
    {
     "ename": "AttributeError",
     "evalue": "'numpy.ndarray' object has no attribute 'predict'",
     "output_type": "error",
     "traceback": [
      "\u001b[1;31m---------------------------------------------------------------------------\u001b[0m",
      "\u001b[1;31mAttributeError\u001b[0m                            Traceback (most recent call last)",
      "\u001b[1;32m~\\AppData\\Local\\Temp/ipykernel_34644/496256192.py\u001b[0m in \u001b[0;36m<module>\u001b[1;34m\u001b[0m\n\u001b[0;32m      1\u001b[0m \u001b[1;32mfrom\u001b[0m \u001b[0msklearn\u001b[0m\u001b[1;33m.\u001b[0m\u001b[0mmetrics\u001b[0m \u001b[1;32mimport\u001b[0m \u001b[0mroc_auc_score\u001b[0m\u001b[1;33m\u001b[0m\u001b[1;33m\u001b[0m\u001b[0m\n\u001b[1;32m----> 2\u001b[1;33m model.fit(\n\u001b[0m\u001b[0;32m      3\u001b[0m     \u001b[0mtrain_data\u001b[0m\u001b[1;33m[\u001b[0m\u001b[0mfeats\u001b[0m\u001b[1;33m]\u001b[0m\u001b[1;33m,\u001b[0m\u001b[1;33m\u001b[0m\u001b[1;33m\u001b[0m\u001b[0m\n\u001b[0;32m      4\u001b[0m     \u001b[0mtrain_data\u001b[0m\u001b[1;33m[\u001b[0m\u001b[1;34m'TARGET'\u001b[0m\u001b[1;33m]\u001b[0m\u001b[1;33m,\u001b[0m\u001b[1;33m\u001b[0m\u001b[1;33m\u001b[0m\u001b[0m\n\u001b[0;32m      5\u001b[0m     \u001b[0meval_set\u001b[0m\u001b[1;33m=\u001b[0m\u001b[1;33m[\u001b[0m\u001b[1;33m(\u001b[0m\u001b[0mtrain_data\u001b[0m\u001b[1;33m[\u001b[0m\u001b[0mfeats\u001b[0m\u001b[1;33m]\u001b[0m\u001b[1;33m,\u001b[0m \u001b[0mtrain_data\u001b[0m\u001b[1;33m[\u001b[0m\u001b[1;34m'TARGET'\u001b[0m\u001b[1;33m]\u001b[0m\u001b[1;33m)\u001b[0m\u001b[1;33m]\u001b[0m\u001b[1;33m,\u001b[0m\u001b[1;33m\u001b[0m\u001b[1;33m\u001b[0m\u001b[0m\n",
      "\u001b[1;32mc:\\Users\\flori\\miniconda3\\envs\\jupyter\\lib\\site-packages\\lightgbm\\sklearn.py\u001b[0m in \u001b[0;36mfit\u001b[1;34m(self, X, y, sample_weight, init_score, eval_set, eval_names, eval_sample_weight, eval_class_weight, eval_init_score, eval_metric, early_stopping_rounds, verbose, feature_name, categorical_feature, callbacks, init_model)\u001b[0m\n\u001b[0;32m    965\u001b[0m                     \u001b[0mvalid_sets\u001b[0m\u001b[1;33m[\u001b[0m\u001b[0mi\u001b[0m\u001b[1;33m]\u001b[0m \u001b[1;33m=\u001b[0m \u001b[1;33m(\u001b[0m\u001b[0mvalid_x\u001b[0m\u001b[1;33m,\u001b[0m \u001b[0mself\u001b[0m\u001b[1;33m.\u001b[0m\u001b[0m_le\u001b[0m\u001b[1;33m.\u001b[0m\u001b[0mtransform\u001b[0m\u001b[1;33m(\u001b[0m\u001b[0mvalid_y\u001b[0m\u001b[1;33m)\u001b[0m\u001b[1;33m)\u001b[0m\u001b[1;33m\u001b[0m\u001b[1;33m\u001b[0m\u001b[0m\n\u001b[0;32m    966\u001b[0m \u001b[1;33m\u001b[0m\u001b[0m\n\u001b[1;32m--> 967\u001b[1;33m         super().fit(X, _y, sample_weight=sample_weight, init_score=init_score, eval_set=valid_sets,\n\u001b[0m\u001b[0;32m    968\u001b[0m                     \u001b[0meval_names\u001b[0m\u001b[1;33m=\u001b[0m\u001b[0meval_names\u001b[0m\u001b[1;33m,\u001b[0m \u001b[0meval_sample_weight\u001b[0m\u001b[1;33m=\u001b[0m\u001b[0meval_sample_weight\u001b[0m\u001b[1;33m,\u001b[0m\u001b[1;33m\u001b[0m\u001b[1;33m\u001b[0m\u001b[0m\n\u001b[0;32m    969\u001b[0m                     \u001b[0meval_class_weight\u001b[0m\u001b[1;33m=\u001b[0m\u001b[0meval_class_weight\u001b[0m\u001b[1;33m,\u001b[0m \u001b[0meval_init_score\u001b[0m\u001b[1;33m=\u001b[0m\u001b[0meval_init_score\u001b[0m\u001b[1;33m,\u001b[0m\u001b[1;33m\u001b[0m\u001b[1;33m\u001b[0m\u001b[0m\n",
      "\u001b[1;32mc:\\Users\\flori\\miniconda3\\envs\\jupyter\\lib\\site-packages\\lightgbm\\sklearn.py\u001b[0m in \u001b[0;36mfit\u001b[1;34m(self, X, y, sample_weight, init_score, group, eval_set, eval_names, eval_sample_weight, eval_class_weight, eval_init_score, eval_group, eval_metric, early_stopping_rounds, verbose, feature_name, categorical_feature, callbacks, init_model)\u001b[0m\n\u001b[0;32m    746\u001b[0m         \u001b[0mcallbacks\u001b[0m\u001b[1;33m.\u001b[0m\u001b[0mappend\u001b[0m\u001b[1;33m(\u001b[0m\u001b[0mrecord_evaluation\u001b[0m\u001b[1;33m(\u001b[0m\u001b[0mevals_result\u001b[0m\u001b[1;33m)\u001b[0m\u001b[1;33m)\u001b[0m\u001b[1;33m\u001b[0m\u001b[1;33m\u001b[0m\u001b[0m\n\u001b[0;32m    747\u001b[0m \u001b[1;33m\u001b[0m\u001b[0m\n\u001b[1;32m--> 748\u001b[1;33m         self._Booster = train(\n\u001b[0m\u001b[0;32m    749\u001b[0m             \u001b[0mparams\u001b[0m\u001b[1;33m=\u001b[0m\u001b[0mparams\u001b[0m\u001b[1;33m,\u001b[0m\u001b[1;33m\u001b[0m\u001b[1;33m\u001b[0m\u001b[0m\n\u001b[0;32m    750\u001b[0m             \u001b[0mtrain_set\u001b[0m\u001b[1;33m=\u001b[0m\u001b[0mtrain_set\u001b[0m\u001b[1;33m,\u001b[0m\u001b[1;33m\u001b[0m\u001b[1;33m\u001b[0m\u001b[0m\n",
      "\u001b[1;32mc:\\Users\\flori\\miniconda3\\envs\\jupyter\\lib\\site-packages\\lightgbm\\engine.py\u001b[0m in \u001b[0;36mtrain\u001b[1;34m(params, train_set, num_boost_round, valid_sets, valid_names, fobj, feval, init_model, feature_name, categorical_feature, early_stopping_rounds, evals_result, verbose_eval, learning_rates, keep_training_booster, callbacks)\u001b[0m\n\u001b[0;32m    297\u001b[0m             \u001b[1;32mif\u001b[0m \u001b[0mis_valid_contain_train\u001b[0m\u001b[1;33m:\u001b[0m\u001b[1;33m\u001b[0m\u001b[1;33m\u001b[0m\u001b[0m\n\u001b[0;32m    298\u001b[0m                 \u001b[0mevaluation_result_list\u001b[0m\u001b[1;33m.\u001b[0m\u001b[0mextend\u001b[0m\u001b[1;33m(\u001b[0m\u001b[0mbooster\u001b[0m\u001b[1;33m.\u001b[0m\u001b[0meval_train\u001b[0m\u001b[1;33m(\u001b[0m\u001b[0mfeval\u001b[0m\u001b[1;33m)\u001b[0m\u001b[1;33m)\u001b[0m\u001b[1;33m\u001b[0m\u001b[1;33m\u001b[0m\u001b[0m\n\u001b[1;32m--> 299\u001b[1;33m             \u001b[0mevaluation_result_list\u001b[0m\u001b[1;33m.\u001b[0m\u001b[0mextend\u001b[0m\u001b[1;33m(\u001b[0m\u001b[0mbooster\u001b[0m\u001b[1;33m.\u001b[0m\u001b[0meval_valid\u001b[0m\u001b[1;33m(\u001b[0m\u001b[0mfeval\u001b[0m\u001b[1;33m)\u001b[0m\u001b[1;33m)\u001b[0m\u001b[1;33m\u001b[0m\u001b[1;33m\u001b[0m\u001b[0m\n\u001b[0m\u001b[0;32m    300\u001b[0m         \u001b[1;32mtry\u001b[0m\u001b[1;33m:\u001b[0m\u001b[1;33m\u001b[0m\u001b[1;33m\u001b[0m\u001b[0m\n\u001b[0;32m    301\u001b[0m             \u001b[1;32mfor\u001b[0m \u001b[0mcb\u001b[0m \u001b[1;32min\u001b[0m \u001b[0mcallbacks_after_iter\u001b[0m\u001b[1;33m:\u001b[0m\u001b[1;33m\u001b[0m\u001b[1;33m\u001b[0m\u001b[0m\n",
      "\u001b[1;32mc:\\Users\\flori\\miniconda3\\envs\\jupyter\\lib\\site-packages\\lightgbm\\basic.py\u001b[0m in \u001b[0;36meval_valid\u001b[1;34m(self, feval)\u001b[0m\n\u001b[0;32m   3269\u001b[0m             \u001b[0mList\u001b[0m \u001b[1;32mwith\u001b[0m \u001b[0mevaluation\u001b[0m \u001b[0mresults\u001b[0m\u001b[1;33m.\u001b[0m\u001b[1;33m\u001b[0m\u001b[1;33m\u001b[0m\u001b[0m\n\u001b[0;32m   3270\u001b[0m         \"\"\"\n\u001b[1;32m-> 3271\u001b[1;33m         return [item for i in range(1, self.__num_dataset)\n\u001b[0m\u001b[0;32m   3272\u001b[0m                 for item in self.__inner_eval(self.name_valid_sets[i - 1], i, feval)]\n\u001b[0;32m   3273\u001b[0m \u001b[1;33m\u001b[0m\u001b[0m\n",
      "\u001b[1;32mc:\\Users\\flori\\miniconda3\\envs\\jupyter\\lib\\site-packages\\lightgbm\\basic.py\u001b[0m in \u001b[0;36m<listcomp>\u001b[1;34m(.0)\u001b[0m\n\u001b[0;32m   3270\u001b[0m         \"\"\"\n\u001b[0;32m   3271\u001b[0m         return [item for i in range(1, self.__num_dataset)\n\u001b[1;32m-> 3272\u001b[1;33m                 for item in self.__inner_eval(self.name_valid_sets[i - 1], i, feval)]\n\u001b[0m\u001b[0;32m   3273\u001b[0m \u001b[1;33m\u001b[0m\u001b[0m\n\u001b[0;32m   3274\u001b[0m     \u001b[1;32mdef\u001b[0m \u001b[0msave_model\u001b[0m\u001b[1;33m(\u001b[0m\u001b[0mself\u001b[0m\u001b[1;33m,\u001b[0m \u001b[0mfilename\u001b[0m\u001b[1;33m,\u001b[0m \u001b[0mnum_iteration\u001b[0m\u001b[1;33m=\u001b[0m\u001b[1;32mNone\u001b[0m\u001b[1;33m,\u001b[0m \u001b[0mstart_iteration\u001b[0m\u001b[1;33m=\u001b[0m\u001b[1;36m0\u001b[0m\u001b[1;33m,\u001b[0m \u001b[0mimportance_type\u001b[0m\u001b[1;33m=\u001b[0m\u001b[1;34m'split'\u001b[0m\u001b[1;33m)\u001b[0m\u001b[1;33m:\u001b[0m\u001b[1;33m\u001b[0m\u001b[1;33m\u001b[0m\u001b[0m\n",
      "\u001b[1;32mc:\\Users\\flori\\miniconda3\\envs\\jupyter\\lib\\site-packages\\lightgbm\\basic.py\u001b[0m in \u001b[0;36m__inner_eval\u001b[1;34m(self, data_name, data_idx, feval)\u001b[0m\n\u001b[0;32m   3807\u001b[0m                 \u001b[1;32mif\u001b[0m \u001b[0meval_function\u001b[0m \u001b[1;32mis\u001b[0m \u001b[1;32mNone\u001b[0m\u001b[1;33m:\u001b[0m\u001b[1;33m\u001b[0m\u001b[1;33m\u001b[0m\u001b[0m\n\u001b[0;32m   3808\u001b[0m                     \u001b[1;32mcontinue\u001b[0m\u001b[1;33m\u001b[0m\u001b[1;33m\u001b[0m\u001b[0m\n\u001b[1;32m-> 3809\u001b[1;33m                 \u001b[0mfeval_ret\u001b[0m \u001b[1;33m=\u001b[0m \u001b[0meval_function\u001b[0m\u001b[1;33m(\u001b[0m\u001b[0mself\u001b[0m\u001b[1;33m.\u001b[0m\u001b[0m__inner_predict\u001b[0m\u001b[1;33m(\u001b[0m\u001b[0mdata_idx\u001b[0m\u001b[1;33m)\u001b[0m\u001b[1;33m,\u001b[0m \u001b[0mcur_data\u001b[0m\u001b[1;33m)\u001b[0m\u001b[1;33m\u001b[0m\u001b[1;33m\u001b[0m\u001b[0m\n\u001b[0m\u001b[0;32m   3810\u001b[0m                 \u001b[1;32mif\u001b[0m \u001b[0misinstance\u001b[0m\u001b[1;33m(\u001b[0m\u001b[0mfeval_ret\u001b[0m\u001b[1;33m,\u001b[0m \u001b[0mlist\u001b[0m\u001b[1;33m)\u001b[0m\u001b[1;33m:\u001b[0m\u001b[1;33m\u001b[0m\u001b[1;33m\u001b[0m\u001b[0m\n\u001b[0;32m   3811\u001b[0m                     \u001b[1;32mfor\u001b[0m \u001b[0meval_name\u001b[0m\u001b[1;33m,\u001b[0m \u001b[0mval\u001b[0m\u001b[1;33m,\u001b[0m \u001b[0mis_higher_better\u001b[0m \u001b[1;32min\u001b[0m \u001b[0mfeval_ret\u001b[0m\u001b[1;33m:\u001b[0m\u001b[1;33m\u001b[0m\u001b[1;33m\u001b[0m\u001b[0m\n",
      "\u001b[1;32mc:\\Users\\flori\\miniconda3\\envs\\jupyter\\lib\\site-packages\\lightgbm\\sklearn.py\u001b[0m in \u001b[0;36m__call__\u001b[1;34m(self, preds, dataset)\u001b[0m\n\u001b[0;32m    178\u001b[0m             \u001b[1;32mreturn\u001b[0m \u001b[0mself\u001b[0m\u001b[1;33m.\u001b[0m\u001b[0mfunc\u001b[0m\u001b[1;33m(\u001b[0m\u001b[0mlabels\u001b[0m\u001b[1;33m,\u001b[0m \u001b[0mpreds\u001b[0m\u001b[1;33m,\u001b[0m \u001b[0mdataset\u001b[0m\u001b[1;33m.\u001b[0m\u001b[0mget_weight\u001b[0m\u001b[1;33m(\u001b[0m\u001b[1;33m)\u001b[0m\u001b[1;33m)\u001b[0m\u001b[1;33m\u001b[0m\u001b[1;33m\u001b[0m\u001b[0m\n\u001b[0;32m    179\u001b[0m         \u001b[1;32melif\u001b[0m \u001b[0margc\u001b[0m \u001b[1;33m==\u001b[0m \u001b[1;36m4\u001b[0m\u001b[1;33m:\u001b[0m\u001b[1;33m\u001b[0m\u001b[1;33m\u001b[0m\u001b[0m\n\u001b[1;32m--> 180\u001b[1;33m             \u001b[1;32mreturn\u001b[0m \u001b[0mself\u001b[0m\u001b[1;33m.\u001b[0m\u001b[0mfunc\u001b[0m\u001b[1;33m(\u001b[0m\u001b[0mlabels\u001b[0m\u001b[1;33m,\u001b[0m \u001b[0mpreds\u001b[0m\u001b[1;33m,\u001b[0m \u001b[0mdataset\u001b[0m\u001b[1;33m.\u001b[0m\u001b[0mget_weight\u001b[0m\u001b[1;33m(\u001b[0m\u001b[1;33m)\u001b[0m\u001b[1;33m,\u001b[0m \u001b[0mdataset\u001b[0m\u001b[1;33m.\u001b[0m\u001b[0mget_group\u001b[0m\u001b[1;33m(\u001b[0m\u001b[1;33m)\u001b[0m\u001b[1;33m)\u001b[0m\u001b[1;33m\u001b[0m\u001b[1;33m\u001b[0m\u001b[0m\n\u001b[0m\u001b[0;32m    181\u001b[0m         \u001b[1;32melse\u001b[0m\u001b[1;33m:\u001b[0m\u001b[1;33m\u001b[0m\u001b[1;33m\u001b[0m\u001b[0m\n\u001b[0;32m    182\u001b[0m             \u001b[1;32mraise\u001b[0m \u001b[0mTypeError\u001b[0m\u001b[1;33m(\u001b[0m\u001b[1;34mf\"Self-defined eval function should have 2, 3 or 4 arguments, got {argc}\"\u001b[0m\u001b[1;33m)\u001b[0m\u001b[1;33m\u001b[0m\u001b[1;33m\u001b[0m\u001b[0m\n",
      "\u001b[1;32mc:\\Users\\flori\\miniconda3\\envs\\jupyter\\lib\\site-packages\\sklearn\\metrics\\_scorer.py\u001b[0m in \u001b[0;36m__call__\u001b[1;34m(self, estimator, X, y_true, sample_weight)\u001b[0m\n\u001b[0;32m    217\u001b[0m             \u001b[0mScore\u001b[0m \u001b[0mfunction\u001b[0m \u001b[0mapplied\u001b[0m \u001b[0mto\u001b[0m \u001b[0mprediction\u001b[0m \u001b[0mof\u001b[0m \u001b[0mestimator\u001b[0m \u001b[0mon\u001b[0m \u001b[0mX\u001b[0m\u001b[1;33m.\u001b[0m\u001b[1;33m\u001b[0m\u001b[1;33m\u001b[0m\u001b[0m\n\u001b[0;32m    218\u001b[0m         \"\"\"\n\u001b[1;32m--> 219\u001b[1;33m         return self._score(\n\u001b[0m\u001b[0;32m    220\u001b[0m             \u001b[0mpartial\u001b[0m\u001b[1;33m(\u001b[0m\u001b[0m_cached_call\u001b[0m\u001b[1;33m,\u001b[0m \u001b[1;32mNone\u001b[0m\u001b[1;33m)\u001b[0m\u001b[1;33m,\u001b[0m\u001b[1;33m\u001b[0m\u001b[1;33m\u001b[0m\u001b[0m\n\u001b[0;32m    221\u001b[0m             \u001b[0mestimator\u001b[0m\u001b[1;33m,\u001b[0m\u001b[1;33m\u001b[0m\u001b[1;33m\u001b[0m\u001b[0m\n",
      "\u001b[1;32mc:\\Users\\flori\\miniconda3\\envs\\jupyter\\lib\\site-packages\\sklearn\\metrics\\_scorer.py\u001b[0m in \u001b[0;36m_score\u001b[1;34m(self, method_caller, estimator, X, y_true, sample_weight)\u001b[0m\n\u001b[0;32m    259\u001b[0m         \"\"\"\n\u001b[0;32m    260\u001b[0m \u001b[1;33m\u001b[0m\u001b[0m\n\u001b[1;32m--> 261\u001b[1;33m         \u001b[0my_pred\u001b[0m \u001b[1;33m=\u001b[0m \u001b[0mmethod_caller\u001b[0m\u001b[1;33m(\u001b[0m\u001b[0mestimator\u001b[0m\u001b[1;33m,\u001b[0m \u001b[1;34m\"predict\"\u001b[0m\u001b[1;33m,\u001b[0m \u001b[0mX\u001b[0m\u001b[1;33m)\u001b[0m\u001b[1;33m\u001b[0m\u001b[1;33m\u001b[0m\u001b[0m\n\u001b[0m\u001b[0;32m    262\u001b[0m         \u001b[1;32mif\u001b[0m \u001b[0msample_weight\u001b[0m \u001b[1;32mis\u001b[0m \u001b[1;32mnot\u001b[0m \u001b[1;32mNone\u001b[0m\u001b[1;33m:\u001b[0m\u001b[1;33m\u001b[0m\u001b[1;33m\u001b[0m\u001b[0m\n\u001b[0;32m    263\u001b[0m             return self._sign * self._score_func(\n",
      "\u001b[1;32mc:\\Users\\flori\\miniconda3\\envs\\jupyter\\lib\\site-packages\\sklearn\\metrics\\_scorer.py\u001b[0m in \u001b[0;36m_cached_call\u001b[1;34m(cache, estimator, method, *args, **kwargs)\u001b[0m\n\u001b[0;32m     69\u001b[0m     \u001b[1;34m\"\"\"Call estimator with method and args and kwargs.\"\"\"\u001b[0m\u001b[1;33m\u001b[0m\u001b[1;33m\u001b[0m\u001b[0m\n\u001b[0;32m     70\u001b[0m     \u001b[1;32mif\u001b[0m \u001b[0mcache\u001b[0m \u001b[1;32mis\u001b[0m \u001b[1;32mNone\u001b[0m\u001b[1;33m:\u001b[0m\u001b[1;33m\u001b[0m\u001b[1;33m\u001b[0m\u001b[0m\n\u001b[1;32m---> 71\u001b[1;33m         \u001b[1;32mreturn\u001b[0m \u001b[0mgetattr\u001b[0m\u001b[1;33m(\u001b[0m\u001b[0mestimator\u001b[0m\u001b[1;33m,\u001b[0m \u001b[0mmethod\u001b[0m\u001b[1;33m)\u001b[0m\u001b[1;33m(\u001b[0m\u001b[1;33m*\u001b[0m\u001b[0margs\u001b[0m\u001b[1;33m,\u001b[0m \u001b[1;33m**\u001b[0m\u001b[0mkwargs\u001b[0m\u001b[1;33m)\u001b[0m\u001b[1;33m\u001b[0m\u001b[1;33m\u001b[0m\u001b[0m\n\u001b[0m\u001b[0;32m     72\u001b[0m \u001b[1;33m\u001b[0m\u001b[0m\n\u001b[0;32m     73\u001b[0m     \u001b[1;32mtry\u001b[0m\u001b[1;33m:\u001b[0m\u001b[1;33m\u001b[0m\u001b[1;33m\u001b[0m\u001b[0m\n",
      "\u001b[1;31mAttributeError\u001b[0m: 'numpy.ndarray' object has no attribute 'predict'"
     ]
    }
   ],
   "source": [
    "from sklearn.metrics import roc_auc_score\n",
    "model.fit(\n",
    "    train_data[feats],\n",
    "    train_data['TARGET'],\n",
    "    eval_set=[(train_data[feats], train_data['TARGET'])],\n",
    "    eval_metric='auc'\n",
    ")\n",
    "predproba = model.predict_proba(train_data[feats])\n",
    "predprobapos = predproba[:,1]\n",
    "print(\"Proba:\", predprobapos)\n",
    "auc_score = roc_auc_score(train_data['TARGET'], predprobapos)\n",
    "print(\"AUC:\", auc_score)"
   ]
  },
  {
   "cell_type": "markdown",
   "metadata": {},
   "source": [
    "Firstly, the true positive rate is called the Sensitivity. The inverse of the false-positive rate is called the Specificity.\n",
    "- Sensitivity = TruePositive / (TruePositive + FalseNegative)\n",
    "- Specificity = TrueNegative / (FalsePositive + TrueNegative)\n",
    "\n",
    "Where:\n",
    "- Sensitivity = True Positive Rate\n",
    "- Specificity = 1 – False Positive Rate\n",
    "\n",
    "The Geometric Mean or G-Mean is a metric for imbalanced classification that, if optimized, will seek a balance between the sensitivity and the specificity.\n",
    "\n",
    "- G-Mean = sqrt(Sensitivity * Specificity)"
   ]
  },
  {
   "cell_type": "code",
   "execution_count": 6,
   "metadata": {},
   "outputs": [
    {
     "name": "stdout",
     "output_type": "stream",
     "text": [
      "Best Threshold=0.510971\n",
      "Best Threshold=0.497814\n",
      "Best Threshold=0.484681\n",
      "Best Threshold=0.482688\n",
      "Best Threshold=0.471238\n",
      "Mean Threshold=0.489478\n"
     ]
    }
   ],
   "source": [
    "from sklearn.model_selection import StratifiedKFold\n",
    "from lightgbm import LGBMClassifier\n",
    "from sklearn.metrics import roc_curve\n",
    "import numpy as np\n",
    "\n",
    "model = LGBMClassifier(\n",
    "        objective='binary',\n",
    "        n_jobs=8,\n",
    "        verbose=0,\n",
    "        force_row_wise=True,\n",
    "        is_unbalance=True,\n",
    "        num_leaves=16,\n",
    "        max_depth=8,\n",
    "        min_child_samples=1000,\n",
    "        learning_rate=0.1,\n",
    "        colsample_bytree=0.5,\n",
    ")\n",
    "\n",
    "train_data = data[data['TARGET'].notnull()]\n",
    "feats = [f for f in data.columns if f not in ['TARGET', 'SK_ID_CURR', 'SK_ID_BUREAU', 'SK_ID_PREV', 'index']]\n",
    "\n",
    "n_folds = 5\n",
    "folds = StratifiedKFold(n_splits=n_folds, random_state=None, shuffle=False)\n",
    "best_thresh = []\n",
    "for n_fold, (train_idx, valid_idx) in enumerate(folds.split(train_data[feats], train_data['TARGET'])):\n",
    "        train_x, train_y = train_data[feats].iloc[train_idx], train_data['TARGET'].iloc[train_idx]\n",
    "        valid_x, valid_y = train_data[feats].iloc[valid_idx], train_data['TARGET'].iloc[valid_idx]\n",
    "\n",
    "        model.fit(\n",
    "                train_x, train_y,\n",
    "                eval_set=[(train_x, train_y), (valid_x, valid_y)],\n",
    "                eval_metric='auc',\n",
    "                verbose= False\n",
    "        )\n",
    "\n",
    "        yhat = model.predict_proba(valid_x)\n",
    "        yhat = yhat[:, 1]\n",
    "        fpr, tpr, thresholds = roc_curve(valid_y, yhat)\n",
    "        J = tpr - fpr\n",
    "        ix = np.argmax(J)\n",
    "        best_thresh.append(thresholds[ix])\n",
    "        print('Best Threshold=%f' % (thresholds[ix]))\n",
    "\n",
    "mean_thres = np.mean(best_thresh)\n",
    "print('Mean Threshold=%f' % (mean_thres))"
   ]
  },
  {
   "cell_type": "code",
   "execution_count": 5,
   "metadata": {},
   "outputs": [
    {
     "name": "stdout",
     "output_type": "stream",
     "text": [
      "[10]\tvalid_0's auc: 0.733841\tvalid_0's binary_logloss: 0.44645\n",
      "[20]\tvalid_0's auc: 0.744397\tvalid_0's binary_logloss: 0.542374\n",
      "[30]\tvalid_0's auc: 0.751733\tvalid_0's binary_logloss: 0.575639\n",
      "[40]\tvalid_0's auc: 0.756501\tvalid_0's binary_logloss: 0.585061\n",
      "[50]\tvalid_0's auc: 0.761805\tvalid_0's binary_logloss: 0.58512\n",
      "[60]\tvalid_0's auc: 0.765452\tvalid_0's binary_logloss: 0.583023\n",
      "[70]\tvalid_0's auc: 0.76921\tvalid_0's binary_logloss: 0.579611\n",
      "[80]\tvalid_0's auc: 0.772142\tvalid_0's binary_logloss: 0.576764\n",
      "[90]\tvalid_0's auc: 0.774645\tvalid_0's binary_logloss: 0.574257\n",
      "[100]\tvalid_0's auc: 0.77701\tvalid_0's binary_logloss: 0.571997\n",
      "[10]\ttraining's auc: 0.729642\ttraining's binary_logloss: 0.444959\tvalid_1's auc: 0.721215\tvalid_1's binary_logloss: 0.446202\n",
      "[20]\ttraining's auc: 0.744676\ttraining's binary_logloss: 0.539621\tvalid_1's auc: 0.73526\tvalid_1's binary_logloss: 0.541495\n",
      "[30]\ttraining's auc: 0.751574\ttraining's binary_logloss: 0.574379\tvalid_1's auc: 0.740483\tvalid_1's binary_logloss: 0.577026\n",
      "[40]\ttraining's auc: 0.758298\ttraining's binary_logloss: 0.583441\tvalid_1's auc: 0.745085\tvalid_1's binary_logloss: 0.586956\n",
      "[50]\ttraining's auc: 0.763852\ttraining's binary_logloss: 0.583442\tvalid_1's auc: 0.749215\tvalid_1's binary_logloss: 0.587563\n",
      "[60]\ttraining's auc: 0.767951\ttraining's binary_logloss: 0.580992\tvalid_1's auc: 0.751412\tvalid_1's binary_logloss: 0.58566\n",
      "[70]\ttraining's auc: 0.771662\ttraining's binary_logloss: 0.577893\tvalid_1's auc: 0.753415\tvalid_1's binary_logloss: 0.583104\n",
      "[80]\ttraining's auc: 0.774884\ttraining's binary_logloss: 0.574827\tvalid_1's auc: 0.755088\tvalid_1's binary_logloss: 0.580459\n",
      "[90]\ttraining's auc: 0.7777\ttraining's binary_logloss: 0.572081\tvalid_1's auc: 0.756063\tvalid_1's binary_logloss: 0.578355\n",
      "[100]\ttraining's auc: 0.780434\ttraining's binary_logloss: 0.569372\tvalid_1's auc: 0.757278\tvalid_1's binary_logloss: 0.576205\n",
      "Best Threshold=0.510971\n",
      "[10]\ttraining's auc: 0.732903\ttraining's binary_logloss: 0.443675\tvalid_1's auc: 0.722591\tvalid_1's binary_logloss: 0.44528\n",
      "[20]\ttraining's auc: 0.744229\ttraining's binary_logloss: 0.540076\tvalid_1's auc: 0.732422\tvalid_1's binary_logloss: 0.542597\n",
      "[30]\ttraining's auc: 0.75273\ttraining's binary_logloss: 0.574052\tvalid_1's auc: 0.739529\tvalid_1's binary_logloss: 0.577195\n",
      "[40]\ttraining's auc: 0.759722\ttraining's binary_logloss: 0.582895\tvalid_1's auc: 0.745148\tvalid_1's binary_logloss: 0.586494\n",
      "[50]\ttraining's auc: 0.764687\ttraining's binary_logloss: 0.583106\tvalid_1's auc: 0.748384\tvalid_1's binary_logloss: 0.587278\n",
      "[60]\ttraining's auc: 0.768728\ttraining's binary_logloss: 0.580665\tvalid_1's auc: 0.750633\tvalid_1's binary_logloss: 0.585456\n",
      "[70]\ttraining's auc: 0.772628\ttraining's binary_logloss: 0.57735\tvalid_1's auc: 0.753129\tvalid_1's binary_logloss: 0.582605\n",
      "[80]\ttraining's auc: 0.775491\ttraining's binary_logloss: 0.574335\tvalid_1's auc: 0.75456\tvalid_1's binary_logloss: 0.580037\n",
      "[90]\ttraining's auc: 0.778379\ttraining's binary_logloss: 0.571546\tvalid_1's auc: 0.756034\tvalid_1's binary_logloss: 0.577732\n",
      "[100]\ttraining's auc: 0.780965\ttraining's binary_logloss: 0.569041\tvalid_1's auc: 0.756555\tvalid_1's binary_logloss: 0.575783\n",
      "Best Threshold=0.497814\n",
      "[10]\ttraining's auc: 0.732341\ttraining's binary_logloss: 0.443948\tvalid_1's auc: 0.720171\tvalid_1's binary_logloss: 0.44563\n",
      "[20]\ttraining's auc: 0.74484\ttraining's binary_logloss: 0.539349\tvalid_1's auc: 0.729769\tvalid_1's binary_logloss: 0.542018\n",
      "[30]\ttraining's auc: 0.752839\ttraining's binary_logloss: 0.573605\tvalid_1's auc: 0.734975\tvalid_1's binary_logloss: 0.577354\n",
      "[40]\ttraining's auc: 0.759614\ttraining's binary_logloss: 0.582387\tvalid_1's auc: 0.739952\tvalid_1's binary_logloss: 0.586965\n",
      "[50]\ttraining's auc: 0.764714\ttraining's binary_logloss: 0.582482\tvalid_1's auc: 0.743212\tvalid_1's binary_logloss: 0.587878\n",
      "[60]\ttraining's auc: 0.769075\ttraining's binary_logloss: 0.579876\tvalid_1's auc: 0.745697\tvalid_1's binary_logloss: 0.586039\n",
      "[70]\ttraining's auc: 0.772493\ttraining's binary_logloss: 0.576818\tvalid_1's auc: 0.747542\tvalid_1's binary_logloss: 0.583472\n",
      "[80]\ttraining's auc: 0.775592\ttraining's binary_logloss: 0.573719\tvalid_1's auc: 0.749692\tvalid_1's binary_logloss: 0.580863\n",
      "[90]\ttraining's auc: 0.778521\ttraining's binary_logloss: 0.570921\tvalid_1's auc: 0.751103\tvalid_1's binary_logloss: 0.578709\n",
      "[100]\ttraining's auc: 0.781341\ttraining's binary_logloss: 0.568214\tvalid_1's auc: 0.752178\tvalid_1's binary_logloss: 0.576504\n",
      "Best Threshold=0.484681\n",
      "[10]\ttraining's auc: 0.730772\ttraining's binary_logloss: 0.444058\tvalid_1's auc: 0.71868\tvalid_1's binary_logloss: 0.445653\n",
      "[20]\ttraining's auc: 0.745007\ttraining's binary_logloss: 0.538886\tvalid_1's auc: 0.732013\tvalid_1's binary_logloss: 0.541036\n",
      "[30]\ttraining's auc: 0.752741\ttraining's binary_logloss: 0.573837\tvalid_1's auc: 0.737649\tvalid_1's binary_logloss: 0.576716\n",
      "[40]\ttraining's auc: 0.75891\ttraining's binary_logloss: 0.582788\tvalid_1's auc: 0.742245\tvalid_1's binary_logloss: 0.586124\n",
      "[50]\ttraining's auc: 0.764373\ttraining's binary_logloss: 0.582907\tvalid_1's auc: 0.745903\tvalid_1's binary_logloss: 0.586499\n",
      "[60]\ttraining's auc: 0.768493\ttraining's binary_logloss: 0.580451\tvalid_1's auc: 0.748418\tvalid_1's binary_logloss: 0.584408\n",
      "[70]\ttraining's auc: 0.772135\ttraining's binary_logloss: 0.577337\tvalid_1's auc: 0.75044\tvalid_1's binary_logloss: 0.581693\n",
      "[80]\ttraining's auc: 0.77546\ttraining's binary_logloss: 0.574029\tvalid_1's auc: 0.752386\tvalid_1's binary_logloss: 0.578719\n",
      "[90]\ttraining's auc: 0.778284\ttraining's binary_logloss: 0.571318\tvalid_1's auc: 0.753549\tvalid_1's binary_logloss: 0.5765\n",
      "[100]\ttraining's auc: 0.780907\ttraining's binary_logloss: 0.568755\tvalid_1's auc: 0.75443\tvalid_1's binary_logloss: 0.574398\n",
      "Best Threshold=0.482688\n",
      "[10]\ttraining's auc: 0.730505\ttraining's binary_logloss: 0.444705\tvalid_1's auc: 0.723145\tvalid_1's binary_logloss: 0.444704\n",
      "[20]\ttraining's auc: 0.745431\ttraining's binary_logloss: 0.539083\tvalid_1's auc: 0.736521\tvalid_1's binary_logloss: 0.538909\n",
      "[30]\ttraining's auc: 0.752857\ttraining's binary_logloss: 0.573656\tvalid_1's auc: 0.742173\tvalid_1's binary_logloss: 0.573693\n",
      "[40]\ttraining's auc: 0.759603\ttraining's binary_logloss: 0.582493\tvalid_1's auc: 0.746922\tvalid_1's binary_logloss: 0.582668\n",
      "[50]\ttraining's auc: 0.764709\ttraining's binary_logloss: 0.582734\tvalid_1's auc: 0.750157\tvalid_1's binary_logloss: 0.583254\n",
      "[60]\ttraining's auc: 0.768792\ttraining's binary_logloss: 0.580219\tvalid_1's auc: 0.75284\tvalid_1's binary_logloss: 0.581267\n",
      "[70]\ttraining's auc: 0.772099\ttraining's binary_logloss: 0.577294\tvalid_1's auc: 0.754694\tvalid_1's binary_logloss: 0.578714\n",
      "[80]\ttraining's auc: 0.775334\ttraining's binary_logloss: 0.574242\tvalid_1's auc: 0.755949\tvalid_1's binary_logloss: 0.576189\n",
      "[90]\ttraining's auc: 0.778106\ttraining's binary_logloss: 0.571506\tvalid_1's auc: 0.757188\tvalid_1's binary_logloss: 0.573873\n",
      "[100]\ttraining's auc: 0.78067\ttraining's binary_logloss: 0.569012\tvalid_1's auc: 0.758013\tvalid_1's binary_logloss: 0.571893\n",
      "Best Threshold=0.471238\n",
      "Mean Threshold=0.489478\n"
     ]
    }
   ],
   "source": [
    "from src.model.app import ModelApp\n",
    "model_app = ModelApp(data)\n",
    "model_app.fit_model()\n",
    "model_app.refine_threshold()\n",
    "model_app.make_data_for_graph1()\n",
    "model_app.make_explanation()"
   ]
  },
  {
   "cell_type": "code",
   "execution_count": 282,
   "metadata": {},
   "outputs": [],
   "source": [
    "import shap\n",
    "explainer = shap.TreeExplainer(model_app.model)\n",
    "shap_values = explainer.shap_values(model_app.data.loc[[100001], model_app.feats])"
   ]
  },
  {
   "cell_type": "code",
   "execution_count": 24,
   "metadata": {},
   "outputs": [],
   "source": [
    "sv = np.array(shap_values)\n",
    "y = model_app.model.predict(model_app.data[model_app.feats]).astype(\"bool\")\n",
    "sv_positive = sv[:,y,:]\n",
    "sv_negative = sv[:,~y,:]\n",
    "sv.shape"
   ]
  },
  {
   "cell_type": "code",
   "execution_count": 37,
   "metadata": {},
   "outputs": [
    {
     "data": {
      "image/png": "[encoded data removed]",
      "text/plain": [
       "<Figure size 576x684 with 1 Axes>"
      ]
     },
     "metadata": {
      "needs_background": "light"
     },
     "output_type": "display_data"
    }
   ],
   "source": [
    "shap.summary_plot(shap_values, model_app.data[model_app.feats], plot_type=\"bar\")"
   ]
  },
  {
   "cell_type": "code",
   "execution_count": 107,
   "metadata": {},
   "outputs": [
    {
     "data": {
      "image/png": "[encoded data removed]",
      "text/plain": [
       "<Figure size 576x684 with 2 Axes>"
      ]
     },
     "metadata": {
      "needs_background": "light"
     },
     "output_type": "display_data"
    }
   ],
   "source": [
    "shap.summary_plot(shap_values[1], model_app.data[model_app.feats].astype(\"float\"), show=False)"
   ]
  },
  {
   "cell_type": "code",
   "execution_count": 29,
   "metadata": {},
   "outputs": [],
   "source": [
    "credit_id = 100001\n",
    "explainer = model_app.shap_explainer\n",
    "shap_values = explainer.shap_values(model_app.data.loc[[credit_id], model_app.feats])\n",
    "credit = pd.Series(shap_values[1][0], index=model_app.feats)"
   ]
  },
  {
   "cell_type": "code",
   "execution_count": 1,
   "metadata": {},
   "outputs": [
    {
     "ename": "NameError",
     "evalue": "name 'pd' is not defined",
     "output_type": "error",
     "traceback": [
      "\u001b[1;31m---------------------------------------------------------------------------\u001b[0m",
      "\u001b[1;31mNameError\u001b[0m                                 Traceback (most recent call last)",
      "\u001b[1;32m~\\AppData\\Local\\Temp/ipykernel_76396/3235576753.py\u001b[0m in \u001b[0;36m<module>\u001b[1;34m\u001b[0m\n\u001b[1;32m----> 1\u001b[1;33m \u001b[0msv_df\u001b[0m \u001b[1;33m=\u001b[0m \u001b[0mpd\u001b[0m\u001b[1;33m.\u001b[0m\u001b[0mDataFrame\u001b[0m\u001b[1;33m(\u001b[0m\u001b[0mshap_values\u001b[0m\u001b[1;33m[\u001b[0m\u001b[1;36m1\u001b[0m\u001b[1;33m]\u001b[0m\u001b[1;33m,\u001b[0m \u001b[0mcolumns\u001b[0m\u001b[1;33m=\u001b[0m\u001b[0mmodel_app\u001b[0m\u001b[1;33m.\u001b[0m\u001b[0mfeats\u001b[0m\u001b[1;33m,\u001b[0m \u001b[0mindex\u001b[0m\u001b[1;33m=\u001b[0m\u001b[0mmodel_app\u001b[0m\u001b[1;33m.\u001b[0m\u001b[0mdata\u001b[0m\u001b[1;33m.\u001b[0m\u001b[0mindex\u001b[0m\u001b[1;33m)\u001b[0m\u001b[1;33m\u001b[0m\u001b[1;33m\u001b[0m\u001b[0m\n\u001b[0m\u001b[0;32m      2\u001b[0m \u001b[0msv_df\u001b[0m\u001b[1;33m.\u001b[0m\u001b[0mhead\u001b[0m\u001b[1;33m(\u001b[0m\u001b[1;33m)\u001b[0m\u001b[1;33m\u001b[0m\u001b[1;33m\u001b[0m\u001b[0m\n",
      "\u001b[1;31mNameError\u001b[0m: name 'pd' is not defined"
     ]
    }
   ],
   "source": [
    "sv_df = pd.DataFrame(shap_values[1], columns=model_app.feats, index=model_app.data.index)\n",
    "sv_df.head()"
   ]
  },
  {
   "cell_type": "code",
   "execution_count": 146,
   "metadata": {},
   "outputs": [],
   "source": [
    "sv_df_agg = sv_df.describe(percentiles=[0.25, 0.5, 0.75]).transpose()\n",
    "sv_df_agg['dist'] = np.abs(sv_df_agg['max'] - sv_df_agg['min'])\n",
    "sv_df_agg['feature_importance'] = model_app.model.feature_importances_\n",
    "sv_df_agg.sort_values('feature_importance', ascending=False, inplace=True)"
   ]
  },
  {
   "cell_type": "code",
   "execution_count": 150,
   "metadata": {},
   "outputs": [
    {
     "data": {
      "text/html": [
       "<div>\n",
       "<style scoped>\n",
       "    .dataframe tbody tr th:only-of-type {\n",
       "        vertical-align: middle;\n",
       "    }\n",
       "\n",
       "    .dataframe tbody tr th {\n",
       "        vertical-align: top;\n",
       "    }\n",
       "\n",
       "    .dataframe thead th {\n",
       "        text-align: right;\n",
       "    }\n",
       "</style>\n",
       "<table border=\"1\" class=\"dataframe\">\n",
       "  <thead>\n",
       "    <tr style=\"text-align: right;\">\n",
       "      <th></th>\n",
       "      <th>count</th>\n",
       "      <th>mean</th>\n",
       "      <th>std</th>\n",
       "      <th>min</th>\n",
       "      <th>25%</th>\n",
       "      <th>50%</th>\n",
       "      <th>75%</th>\n",
       "      <th>max</th>\n",
       "      <th>dist</th>\n",
       "      <th>feature_importance</th>\n",
       "    </tr>\n",
       "  </thead>\n",
       "  <tbody>\n",
       "    <tr>\n",
       "      <th>PAYMENT_RATE</th>\n",
       "      <td>356255.0</td>\n",
       "      <td>-0.007754</td>\n",
       "      <td>0.190161</td>\n",
       "      <td>-0.861338</td>\n",
       "      <td>-0.044954</td>\n",
       "      <td>0.023255</td>\n",
       "      <td>0.105729</td>\n",
       "      <td>0.420928</td>\n",
       "      <td>1.282265</td>\n",
       "      <td>102</td>\n",
       "    </tr>\n",
       "    <tr>\n",
       "      <th>EXT_SOURCE_2</th>\n",
       "      <td>356255.0</td>\n",
       "      <td>-0.002923</td>\n",
       "      <td>0.408954</td>\n",
       "      <td>-0.845133</td>\n",
       "      <td>-0.307973</td>\n",
       "      <td>-0.058455</td>\n",
       "      <td>0.256398</td>\n",
       "      <td>1.454920</td>\n",
       "      <td>2.300053</td>\n",
       "      <td>74</td>\n",
       "    </tr>\n",
       "    <tr>\n",
       "      <th>DAYS_BIRTH</th>\n",
       "      <td>356255.0</td>\n",
       "      <td>-0.000313</td>\n",
       "      <td>0.123059</td>\n",
       "      <td>-0.281116</td>\n",
       "      <td>-0.118871</td>\n",
       "      <td>0.006184</td>\n",
       "      <td>0.112058</td>\n",
       "      <td>0.283793</td>\n",
       "      <td>0.564909</td>\n",
       "      <td>42</td>\n",
       "    </tr>\n",
       "    <tr>\n",
       "      <th>INSTAL_DPD_MEAN</th>\n",
       "      <td>356255.0</td>\n",
       "      <td>-0.005583</td>\n",
       "      <td>0.101991</td>\n",
       "      <td>-0.204623</td>\n",
       "      <td>-0.097663</td>\n",
       "      <td>-0.024921</td>\n",
       "      <td>0.084201</td>\n",
       "      <td>0.335946</td>\n",
       "      <td>0.540569</td>\n",
       "      <td>38</td>\n",
       "    </tr>\n",
       "    <tr>\n",
       "      <th>APPROVED_CNT_PAYMENT_MEAN</th>\n",
       "      <td>356255.0</td>\n",
       "      <td>-0.003097</td>\n",
       "      <td>0.067594</td>\n",
       "      <td>-0.144621</td>\n",
       "      <td>-0.045919</td>\n",
       "      <td>-0.026523</td>\n",
       "      <td>0.022970</td>\n",
       "      <td>0.357896</td>\n",
       "      <td>0.502517</td>\n",
       "      <td>37</td>\n",
       "    </tr>\n",
       "    <tr>\n",
       "      <th>AMT_ANNUITY</th>\n",
       "      <td>356255.0</td>\n",
       "      <td>0.004953</td>\n",
       "      <td>0.081614</td>\n",
       "      <td>-0.257712</td>\n",
       "      <td>-0.050858</td>\n",
       "      <td>0.016581</td>\n",
       "      <td>0.073862</td>\n",
       "      <td>0.185988</td>\n",
       "      <td>0.443700</td>\n",
       "      <td>37</td>\n",
       "    </tr>\n",
       "    <tr>\n",
       "      <th>PREV_CNT_PAYMENT_MEAN</th>\n",
       "      <td>356255.0</td>\n",
       "      <td>0.000304</td>\n",
       "      <td>0.086600</td>\n",
       "      <td>-0.160040</td>\n",
       "      <td>-0.059864</td>\n",
       "      <td>-0.033010</td>\n",
       "      <td>0.032568</td>\n",
       "      <td>0.341162</td>\n",
       "      <td>0.501202</td>\n",
       "      <td>36</td>\n",
       "    </tr>\n",
       "    <tr>\n",
       "      <th>INSTAL_AMT_PAYMENT_SUM</th>\n",
       "      <td>356255.0</td>\n",
       "      <td>-0.001589</td>\n",
       "      <td>0.082253</td>\n",
       "      <td>-0.169925</td>\n",
       "      <td>-0.059641</td>\n",
       "      <td>-0.032629</td>\n",
       "      <td>0.033798</td>\n",
       "      <td>0.313014</td>\n",
       "      <td>0.482939</td>\n",
       "      <td>35</td>\n",
       "    </tr>\n",
       "    <tr>\n",
       "      <th>DAYS_ID_PUBLISH</th>\n",
       "      <td>356255.0</td>\n",
       "      <td>-0.001078</td>\n",
       "      <td>0.072059</td>\n",
       "      <td>-0.235080</td>\n",
       "      <td>-0.063762</td>\n",
       "      <td>0.010364</td>\n",
       "      <td>0.042149</td>\n",
       "      <td>0.271771</td>\n",
       "      <td>0.506851</td>\n",
       "      <td>33</td>\n",
       "    </tr>\n",
       "    <tr>\n",
       "      <th>AMT_CREDIT</th>\n",
       "      <td>356255.0</td>\n",
       "      <td>-0.009533</td>\n",
       "      <td>0.048841</td>\n",
       "      <td>-0.161196</td>\n",
       "      <td>-0.048644</td>\n",
       "      <td>-0.015892</td>\n",
       "      <td>0.038351</td>\n",
       "      <td>0.110438</td>\n",
       "      <td>0.271634</td>\n",
       "      <td>31</td>\n",
       "    </tr>\n",
       "  </tbody>\n",
       "</table>\n",
       "</div>"
      ],
      "text/plain": [
       "                              count      mean       std       min       25%  \\\n",
       "PAYMENT_RATE               356255.0 -0.007754  0.190161 -0.861338 -0.044954   \n",
       "EXT_SOURCE_2               356255.0 -0.002923  0.408954 -0.845133 -0.307973   \n",
       "DAYS_BIRTH                 356255.0 -0.000313  0.123059 -0.281116 -0.118871   \n",
       "INSTAL_DPD_MEAN            356255.0 -0.005583  0.101991 -0.204623 -0.097663   \n",
       "APPROVED_CNT_PAYMENT_MEAN  356255.0 -0.003097  0.067594 -0.144621 -0.045919   \n",
       "AMT_ANNUITY                356255.0  0.004953  0.081614 -0.257712 -0.050858   \n",
       "PREV_CNT_PAYMENT_MEAN      356255.0  0.000304  0.086600 -0.160040 -0.059864   \n",
       "INSTAL_AMT_PAYMENT_SUM     356255.0 -0.001589  0.082253 -0.169925 -0.059641   \n",
       "DAYS_ID_PUBLISH            356255.0 -0.001078  0.072059 -0.235080 -0.063762   \n",
       "AMT_CREDIT                 356255.0 -0.009533  0.048841 -0.161196 -0.048644   \n",
       "\n",
       "                                50%       75%       max      dist  \\\n",
       "PAYMENT_RATE               0.023255  0.105729  0.420928  1.282265   \n",
       "EXT_SOURCE_2              -0.058455  0.256398  1.454920  2.300053   \n",
       "DAYS_BIRTH                 0.006184  0.112058  0.283793  0.564909   \n",
       "INSTAL_DPD_MEAN           -0.024921  0.084201  0.335946  0.540569   \n",
       "APPROVED_CNT_PAYMENT_MEAN -0.026523  0.022970  0.357896  0.502517   \n",
       "AMT_ANNUITY                0.016581  0.073862  0.185988  0.443700   \n",
       "PREV_CNT_PAYMENT_MEAN     -0.033010  0.032568  0.341162  0.501202   \n",
       "INSTAL_AMT_PAYMENT_SUM    -0.032629  0.033798  0.313014  0.482939   \n",
       "DAYS_ID_PUBLISH            0.010364  0.042149  0.271771  0.506851   \n",
       "AMT_CREDIT                -0.015892  0.038351  0.110438  0.271634   \n",
       "\n",
       "                           feature_importance  \n",
       "PAYMENT_RATE                              102  \n",
       "EXT_SOURCE_2                               74  \n",
       "DAYS_BIRTH                                 42  \n",
       "INSTAL_DPD_MEAN                            38  \n",
       "APPROVED_CNT_PAYMENT_MEAN                  37  \n",
       "AMT_ANNUITY                                37  \n",
       "PREV_CNT_PAYMENT_MEAN                      36  \n",
       "INSTAL_AMT_PAYMENT_SUM                     35  \n",
       "DAYS_ID_PUBLISH                            33  \n",
       "AMT_CREDIT                                 31  "
      ]
     },
     "execution_count": 150,
     "metadata": {},
     "output_type": "execute_result"
    }
   ],
   "source": [
    "main_features = sv_df_agg.index[:10].tolist()\n",
    "sv_df_agg.loc[main_features]"
   ]
  },
  {
   "cell_type": "code",
   "execution_count": 44,
   "metadata": {},
   "outputs": [
    {
     "data": {
      "application/vnd.plotly.v1+json": {
       "config": {
        "plotlyServerURL": "https://plot.ly"
       },
       "data": [
        {
         "hoverinfo": "x",
         "line": {
          "color": "hsl(224, 50, 60)"
         },
         "lowerfence": [
          -0.1611960457906874
         ],
         "marker": {
          "color": "indianred"
         },
         "mean": [
          -0.009532940581929172
         ],
         "median": [
          -0.015892207270422253
         ],
         "name": "AMT_CREDIT",
         "pointpos": 0,
         "q1": [
          -0.04864365712833072
         ],
         "q3": [
          0.03835146602528776
         ],
         "type": "box",
         "upperfence": [
          0.11043818904941662
         ],
         "x": [
          [
           0
          ]
         ],
         "y0": "AMT_CREDIT"
        },
        {
         "hoverinfo": "x",
         "line": {
          "color": "hsl(224, 50, 56)"
         },
         "lowerfence": [
          -0.23507952323106515
         ],
         "marker": {
          "color": "indianred"
         },
         "mean": [
          -0.001078476179401069
         ],
         "median": [
          0.010364256677725852
         ],
         "name": "DAYS_ID_PUBLISH",
         "pointpos": 0,
         "q1": [
          -0.06376211010380585
         ],
         "q3": [
          0.04214944254300633
         ],
         "type": "box",
         "upperfence": [
          0.2717711762527608
         ],
         "x": [
          [
           0
          ]
         ],
         "y0": "DAYS_ID_PUBLISH"
        },
        {
         "hoverinfo": "x",
         "line": {
          "color": "hsl(224, 50, 52)"
         },
         "lowerfence": [
          -0.16992473740535538
         ],
         "marker": {
          "color": "indianred"
         },
         "mean": [
          -0.0015894057815287533
         ],
         "median": [
          -0.032629176927385505
         ],
         "name": "INSTAL_AMT_PAYMENT_SUM",
         "pointpos": 0,
         "q1": [
          -0.059640831006058756
         ],
         "q3": [
          0.033797849988146875
         ],
         "type": "box",
         "upperfence": [
          0.31301381947988033
         ],
         "x": [
          [
           0
          ]
         ],
         "y0": "INSTAL_AMT_PAYMENT_SUM"
        },
        {
         "hoverinfo": "x",
         "line": {
          "color": "hsl(224, 50, 48)"
         },
         "lowerfence": [
          -0.16004028202190362
         ],
         "marker": {
          "color": "indianred"
         },
         "mean": [
          0.000303970656833607
         ],
         "median": [
          -0.03300958048096966
         ],
         "name": "PREV_CNT_PAYMENT_MEAN",
         "pointpos": 0,
         "q1": [
          -0.059864366819517255
         ],
         "q3": [
          0.032567598651777496
         ],
         "type": "box",
         "upperfence": [
          0.34116221615561587
         ],
         "x": [
          [
           0
          ]
         ],
         "y0": "PREV_CNT_PAYMENT_MEAN"
        },
        {
         "hoverinfo": "x",
         "line": {
          "color": "hsl(224, 50, 44)"
         },
         "lowerfence": [
          -0.25771229272154433
         ],
         "marker": {
          "color": "indianred"
         },
         "mean": [
          0.004952681594359281
         ],
         "median": [
          0.016581054539493364
         ],
         "name": "AMT_ANNUITY",
         "pointpos": 0,
         "q1": [
          -0.05085766872629931
         ],
         "q3": [
          0.07386213115862256
         ],
         "type": "box",
         "upperfence": [
          0.18598764796261005
         ],
         "x": [
          [
           0
          ]
         ],
         "y0": "AMT_ANNUITY"
        },
        {
         "hoverinfo": "x",
         "line": {
          "color": "hsl(224, 50, 40)"
         },
         "lowerfence": [
          -0.1446210302525121
         ],
         "marker": {
          "color": "indianred"
         },
         "mean": [
          -0.003097234317844052
         ],
         "median": [
          -0.02652296629641177
         ],
         "name": "APPROVED_CNT_PAYMENT_MEAN",
         "pointpos": 0,
         "q1": [
          -0.04591948318063224
         ],
         "q3": [
          0.022970183074257133
         ],
         "type": "box",
         "upperfence": [
          0.3578959558917862
         ],
         "x": [
          [
           0
          ]
         ],
         "y0": "APPROVED_CNT_PAYMENT_MEAN"
        },
        {
         "hoverinfo": "x",
         "line": {
          "color": "hsl(224, 50, 36)"
         },
         "lowerfence": [
          -0.20462275729160165
         ],
         "marker": {
          "color": "indianred"
         },
         "mean": [
          -0.00558295853099986
         ],
         "median": [
          -0.024920723917798274
         ],
         "name": "INSTAL_DPD_MEAN",
         "pointpos": 0,
         "q1": [
          -0.09766313814354582
         ],
         "q3": [
          0.08420118957582852
         ],
         "type": "box",
         "upperfence": [
          0.33594635137173057
         ],
         "x": [
          [
           0
          ]
         ],
         "y0": "INSTAL_DPD_MEAN"
        },
        {
         "hoverinfo": "x",
         "line": {
          "color": "hsl(224, 50, 32)"
         },
         "lowerfence": [
          -0.2811159068796147
         ],
         "marker": {
          "color": "indianred"
         },
         "mean": [
          -0.00031327265364656414
         ],
         "median": [
          0.006183557778257899
         ],
         "name": "DAYS_BIRTH",
         "pointpos": 0,
         "q1": [
          -0.11887052106320745
         ],
         "q3": [
          0.11205804116524765
         ],
         "type": "box",
         "upperfence": [
          0.28379288082052195
         ],
         "x": [
          [
           0
          ]
         ],
         "y0": "DAYS_BIRTH"
        },
        {
         "hoverinfo": "x",
         "line": {
          "color": "hsl(224, 50, 28)"
         },
         "lowerfence": [
          -0.8451334295702115
         ],
         "marker": {
          "color": "indianred"
         },
         "mean": [
          -0.002922788968307111
         ],
         "median": [
          -0.05845544781385966
         ],
         "name": "EXT_SOURCE_2",
         "pointpos": 0,
         "q1": [
          -0.30797283122050045
         ],
         "q3": [
          0.25639800872945934
         ],
         "type": "box",
         "upperfence": [
          1.4549195281403176
         ],
         "x": [
          [
           0
          ]
         ],
         "y0": "EXT_SOURCE_2"
        },
        {
         "hoverinfo": "x",
         "line": {
          "color": "hsl(224, 50, 24)"
         },
         "lowerfence": [
          -0.8613376705226151
         ],
         "marker": {
          "color": "indianred"
         },
         "mean": [
          -0.007753562110260948
         ],
         "median": [
          0.02325532352248687
         ],
         "name": "PAYMENT_RATE",
         "pointpos": 0,
         "q1": [
          -0.04495385715873372
         ],
         "q3": [
          0.10572850731086736
         ],
         "type": "box",
         "upperfence": [
          0.4209276387904562
         ],
         "x": [
          [
           0
          ]
         ],
         "y0": "PAYMENT_RATE"
        }
       ],
       "layout": {
        "template": {
         "data": {
          "bar": [
           {
            "error_x": {
             "color": "#2a3f5f"
            },
            "error_y": {
             "color": "#2a3f5f"
            },
            "marker": {
             "line": {
              "color": "#E5ECF6",
              "width": 0.5
             },
             "pattern": {
              "fillmode": "overlay",
              "size": 10,
              "solidity": 0.2
             }
            },
            "type": "bar"
           }
          ],
          "barpolar": [
           {
            "marker": {
             "line": {
              "color": "#E5ECF6",
              "width": 0.5
             },
             "pattern": {
              "fillmode": "overlay",
              "size": 10,
              "solidity": 0.2
             }
            },
            "type": "barpolar"
           }
          ],
          "carpet": [
           {
            "aaxis": {
             "endlinecolor": "#2a3f5f",
             "gridcolor": "white",
             "linecolor": "white",
             "minorgridcolor": "white",
             "startlinecolor": "#2a3f5f"
            },
            "baxis": {
             "endlinecolor": "#2a3f5f",
             "gridcolor": "white",
             "linecolor": "white",
             "minorgridcolor": "white",
             "startlinecolor": "#2a3f5f"
            },
            "type": "carpet"
           }
          ],
          "choropleth": [
           {
            "colorbar": {
             "outlinewidth": 0,
             "ticks": ""
            },
            "type": "choropleth"
           }
          ],
          "contour": [
           {
            "colorbar": {
             "outlinewidth": 0,
             "ticks": ""
            },
            "colorscale": [
             [
              0,
              "#0d0887"
             ],
             [
              0.1111111111111111,
              "#46039f"
             ],
             [
              0.2222222222222222,
              "#7201a8"
             ],
             [
              0.3333333333333333,
              "#9c179e"
             ],
             [
              0.4444444444444444,
              "#bd3786"
             ],
             [
              0.5555555555555556,
              "#d8576b"
             ],
             [
              0.6666666666666666,
              "#ed7953"
             ],
             [
              0.7777777777777778,
              "#fb9f3a"
             ],
             [
              0.8888888888888888,
              "#fdca26"
             ],
             [
              1,
              "#f0f921"
             ]
            ],
            "type": "contour"
           }
          ],
          "contourcarpet": [
           {
            "colorbar": {
             "outlinewidth": 0,
             "ticks": ""
            },
            "type": "contourcarpet"
           }
          ],
          "heatmap": [
           {
            "colorbar": {
             "outlinewidth": 0,
             "ticks": ""
            },
            "colorscale": [
             [
              0,
              "#0d0887"
             ],
             [
              0.1111111111111111,
              "#46039f"
             ],
             [
              0.2222222222222222,
              "#7201a8"
             ],
             [
              0.3333333333333333,
              "#9c179e"
             ],
             [
              0.4444444444444444,
              "#bd3786"
             ],
             [
              0.5555555555555556,
              "#d8576b"
             ],
             [
              0.6666666666666666,
              "#ed7953"
             ],
             [
              0.7777777777777778,
              "#fb9f3a"
             ],
             [
              0.8888888888888888,
              "#fdca26"
             ],
             [
              1,
              "#f0f921"
             ]
            ],
            "type": "heatmap"
           }
          ],
          "heatmapgl": [
           {
            "colorbar": {
             "outlinewidth": 0,
             "ticks": ""
            },
            "colorscale": [
             [
              0,
              "#0d0887"
             ],
             [
              0.1111111111111111,
              "#46039f"
             ],
             [
              0.2222222222222222,
              "#7201a8"
             ],
             [
              0.3333333333333333,
              "#9c179e"
             ],
             [
              0.4444444444444444,
              "#bd3786"
             ],
             [
              0.5555555555555556,
              "#d8576b"
             ],
             [
              0.6666666666666666,
              "#ed7953"
             ],
             [
              0.7777777777777778,
              "#fb9f3a"
             ],
             [
              0.8888888888888888,
              "#fdca26"
             ],
             [
              1,
              "#f0f921"
             ]
            ],
            "type": "heatmapgl"
           }
          ],
          "histogram": [
           {
            "marker": {
             "pattern": {
              "fillmode": "overlay",
              "size": 10,
              "solidity": 0.2
             }
            },
            "type": "histogram"
           }
          ],
          "histogram2d": [
           {
            "colorbar": {
             "outlinewidth": 0,
             "ticks": ""
            },
            "colorscale": [
             [
              0,
              "#0d0887"
             ],
             [
              0.1111111111111111,
              "#46039f"
             ],
             [
              0.2222222222222222,
              "#7201a8"
             ],
             [
              0.3333333333333333,
              "#9c179e"
             ],
             [
              0.4444444444444444,
              "#bd3786"
             ],
             [
              0.5555555555555556,
              "#d8576b"
             ],
             [
              0.6666666666666666,
              "#ed7953"
             ],
             [
              0.7777777777777778,
              "#fb9f3a"
             ],
             [
              0.8888888888888888,
              "#fdca26"
             ],
             [
              1,
              "#f0f921"
             ]
            ],
            "type": "histogram2d"
           }
          ],
          "histogram2dcontour": [
           {
            "colorbar": {
             "outlinewidth": 0,
             "ticks": ""
            },
            "colorscale": [
             [
              0,
              "#0d0887"
             ],
             [
              0.1111111111111111,
              "#46039f"
             ],
             [
              0.2222222222222222,
              "#7201a8"
             ],
             [
              0.3333333333333333,
              "#9c179e"
             ],
             [
              0.4444444444444444,
              "#bd3786"
             ],
             [
              0.5555555555555556,
              "#d8576b"
             ],
             [
              0.6666666666666666,
              "#ed7953"
             ],
             [
              0.7777777777777778,
              "#fb9f3a"
             ],
             [
              0.8888888888888888,
              "#fdca26"
             ],
             [
              1,
              "#f0f921"
             ]
            ],
            "type": "histogram2dcontour"
           }
          ],
          "mesh3d": [
           {
            "colorbar": {
             "outlinewidth": 0,
             "ticks": ""
            },
            "type": "mesh3d"
           }
          ],
          "parcoords": [
           {
            "line": {
             "colorbar": {
              "outlinewidth": 0,
              "ticks": ""
             }
            },
            "type": "parcoords"
           }
          ],
          "pie": [
           {
            "automargin": true,
            "type": "pie"
           }
          ],
          "scatter": [
           {
            "fillpattern": {
             "fillmode": "overlay",
             "size": 10,
             "solidity": 0.2
            },
            "type": "scatter"
           }
          ],
          "scatter3d": [
           {
            "line": {
             "colorbar": {
              "outlinewidth": 0,
              "ticks": ""
             }
            },
            "marker": {
             "colorbar": {
              "outlinewidth": 0,
              "ticks": ""
             }
            },
            "type": "scatter3d"
           }
          ],
          "scattercarpet": [
           {
            "marker": {
             "colorbar": {
              "outlinewidth": 0,
              "ticks": ""
             }
            },
            "type": "scattercarpet"
           }
          ],
          "scattergeo": [
           {
            "marker": {
             "colorbar": {
              "outlinewidth": 0,
              "ticks": ""
             }
            },
            "type": "scattergeo"
           }
          ],
          "scattergl": [
           {
            "marker": {
             "colorbar": {
              "outlinewidth": 0,
              "ticks": ""
             }
            },
            "type": "scattergl"
           }
          ],
          "scattermapbox": [
           {
            "marker": {
             "colorbar": {
              "outlinewidth": 0,
              "ticks": ""
             }
            },
            "type": "scattermapbox"
           }
          ],
          "scatterpolar": [
           {
            "marker": {
             "colorbar": {
              "outlinewidth": 0,
              "ticks": ""
             }
            },
            "type": "scatterpolar"
           }
          ],
          "scatterpolargl": [
           {
            "marker": {
             "colorbar": {
              "outlinewidth": 0,
              "ticks": ""
             }
            },
            "type": "scatterpolargl"
           }
          ],
          "scatterternary": [
           {
            "marker": {
             "colorbar": {
              "outlinewidth": 0,
              "ticks": ""
             }
            },
            "type": "scatterternary"
           }
          ],
          "surface": [
           {
            "colorbar": {
             "outlinewidth": 0,
             "ticks": ""
            },
            "colorscale": [
             [
              0,
              "#0d0887"
             ],
             [
              0.1111111111111111,
              "#46039f"
             ],
             [
              0.2222222222222222,
              "#7201a8"
             ],
             [
              0.3333333333333333,
              "#9c179e"
             ],
             [
              0.4444444444444444,
              "#bd3786"
             ],
             [
              0.5555555555555556,
              "#d8576b"
             ],
             [
              0.6666666666666666,
              "#ed7953"
             ],
             [
              0.7777777777777778,
              "#fb9f3a"
             ],
             [
              0.8888888888888888,
              "#fdca26"
             ],
             [
              1,
              "#f0f921"
             ]
            ],
            "type": "surface"
           }
          ],
          "table": [
           {
            "cells": {
             "fill": {
              "color": "#EBF0F8"
             },
             "line": {
              "color": "white"
             }
            },
            "header": {
             "fill": {
              "color": "#C8D4E3"
             },
             "line": {
              "color": "white"
             }
            },
            "type": "table"
           }
          ]
         },
         "layout": {
          "annotationdefaults": {
           "arrowcolor": "#2a3f5f",
           "arrowhead": 0,
           "arrowwidth": 1
          },
          "autotypenumbers": "strict",
          "coloraxis": {
           "colorbar": {
            "outlinewidth": 0,
            "ticks": ""
           }
          },
          "colorscale": {
           "diverging": [
            [
             0,
             "#8e0152"
            ],
            [
             0.1,
             "#c51b7d"
            ],
            [
             0.2,
             "#de77ae"
            ],
            [
             0.3,
             "#f1b6da"
            ],
            [
             0.4,
             "#fde0ef"
            ],
            [
             0.5,
             "#f7f7f7"
            ],
            [
             0.6,
             "#e6f5d0"
            ],
            [
             0.7,
             "#b8e186"
            ],
            [
             0.8,
             "#7fbc41"
            ],
            [
             0.9,
             "#4d9221"
            ],
            [
             1,
             "#276419"
            ]
           ],
           "sequential": [
            [
             0,
             "#0d0887"
            ],
            [
             0.1111111111111111,
             "#46039f"
            ],
            [
             0.2222222222222222,
             "#7201a8"
            ],
            [
             0.3333333333333333,
             "#9c179e"
            ],
            [
             0.4444444444444444,
             "#bd3786"
            ],
            [
             0.5555555555555556,
             "#d8576b"
            ],
            [
             0.6666666666666666,
             "#ed7953"
            ],
            [
             0.7777777777777778,
             "#fb9f3a"
            ],
            [
             0.8888888888888888,
             "#fdca26"
            ],
            [
             1,
             "#f0f921"
            ]
           ],
           "sequentialminus": [
            [
             0,
             "#0d0887"
            ],
            [
             0.1111111111111111,
             "#46039f"
            ],
            [
             0.2222222222222222,
             "#7201a8"
            ],
            [
             0.3333333333333333,
             "#9c179e"
            ],
            [
             0.4444444444444444,
             "#bd3786"
            ],
            [
             0.5555555555555556,
             "#d8576b"
            ],
            [
             0.6666666666666666,
             "#ed7953"
            ],
            [
             0.7777777777777778,
             "#fb9f3a"
            ],
            [
             0.8888888888888888,
             "#fdca26"
            ],
            [
             1,
             "#f0f921"
            ]
           ]
          },
          "colorway": [
           "#636efa",
           "#EF553B",
           "#00cc96",
           "#ab63fa",
           "#FFA15A",
           "#19d3f3",
           "#FF6692",
           "#B6E880",
           "#FF97FF",
           "#FECB52"
          ],
          "font": {
           "color": "#2a3f5f"
          },
          "geo": {
           "bgcolor": "white",
           "lakecolor": "white",
           "landcolor": "#E5ECF6",
           "showlakes": true,
           "showland": true,
           "subunitcolor": "white"
          },
          "hoverlabel": {
           "align": "left"
          },
          "hovermode": "closest",
          "mapbox": {
           "style": "light"
          },
          "paper_bgcolor": "white",
          "plot_bgcolor": "#E5ECF6",
          "polar": {
           "angularaxis": {
            "gridcolor": "white",
            "linecolor": "white",
            "ticks": ""
           },
           "bgcolor": "#E5ECF6",
           "radialaxis": {
            "gridcolor": "white",
            "linecolor": "white",
            "ticks": ""
           }
          },
          "scene": {
           "xaxis": {
            "backgroundcolor": "#E5ECF6",
            "gridcolor": "white",
            "gridwidth": 2,
            "linecolor": "white",
            "showbackground": true,
            "ticks": "",
            "zerolinecolor": "white"
           },
           "yaxis": {
            "backgroundcolor": "#E5ECF6",
            "gridcolor": "white",
            "gridwidth": 2,
            "linecolor": "white",
            "showbackground": true,
            "ticks": "",
            "zerolinecolor": "white"
           },
           "zaxis": {
            "backgroundcolor": "#E5ECF6",
            "gridcolor": "white",
            "gridwidth": 2,
            "linecolor": "white",
            "showbackground": true,
            "ticks": "",
            "zerolinecolor": "white"
           }
          },
          "shapedefaults": {
           "line": {
            "color": "#2a3f5f"
           }
          },
          "ternary": {
           "aaxis": {
            "gridcolor": "white",
            "linecolor": "white",
            "ticks": ""
           },
           "baxis": {
            "gridcolor": "white",
            "linecolor": "white",
            "ticks": ""
           },
           "bgcolor": "#E5ECF6",
           "caxis": {
            "gridcolor": "white",
            "linecolor": "white",
            "ticks": ""
           }
          },
          "title": {
           "x": 0.05
          },
          "xaxis": {
           "automargin": true,
           "gridcolor": "white",
           "linecolor": "white",
           "ticks": "",
           "title": {
            "standoff": 15
           },
           "zerolinecolor": "white",
           "zerolinewidth": 2
          },
          "yaxis": {
           "automargin": true,
           "gridcolor": "white",
           "linecolor": "white",
           "ticks": "",
           "title": {
            "standoff": 15
           },
           "zerolinecolor": "white",
           "zerolinewidth": 2
          }
         }
        }
       }
      }
     },
     "metadata": {},
     "output_type": "display_data"
    }
   ],
   "source": [
    "import plotly.graph_objects as go\n",
    "main_features = model_app.shap_data_desc[1].index[:10].tolist()\n",
    "main_features.reverse()\n",
    "fig = go.Figure()\n",
    "for i, c in enumerate(main_features):\n",
    "    fig.add_trace(go.Box(\n",
    "        y0=c,\n",
    "        x=[[0]],\n",
    "        pointpos=0,\n",
    "        q1=model_app.shap_data_desc[1].loc[[c], '25%'],\n",
    "        median=model_app.shap_data_desc[1].loc[[c], '50%'],\n",
    "        q3=model_app.shap_data_desc[1].loc[[c], '75%'],\n",
    "        lowerfence=model_app.shap_data_desc[1].loc[[c], 'min'],\n",
    "        upperfence=model_app.shap_data_desc[1].loc[[c], 'max'],\n",
    "        mean=model_app.shap_data_desc[1].loc[[c], 'mean'],\n",
    "        marker_color='indianred',\n",
    "        line_color=f'hsl(224, 50, {60-4*i})',\n",
    "        name=c,\n",
    "        hoverinfo='x')\n",
    "    )\n",
    "fig.show()"
   ]
  },
  {
   "cell_type": "code",
   "execution_count": 100,
   "metadata": {},
   "outputs": [
    {
     "data": {
      "text/html": [
       "<div>\n",
       "<style scoped>\n",
       "    .dataframe tbody tr th:only-of-type {\n",
       "        vertical-align: middle;\n",
       "    }\n",
       "\n",
       "    .dataframe tbody tr th {\n",
       "        vertical-align: top;\n",
       "    }\n",
       "\n",
       "    .dataframe thead th {\n",
       "        text-align: right;\n",
       "    }\n",
       "</style>\n",
       "<table border=\"1\" class=\"dataframe\">\n",
       "  <thead>\n",
       "    <tr style=\"text-align: right;\">\n",
       "      <th></th>\n",
       "      <th>feature_importance</th>\n",
       "    </tr>\n",
       "  </thead>\n",
       "  <tbody>\n",
       "    <tr>\n",
       "      <th>PAYMENT_RATE</th>\n",
       "      <td>102</td>\n",
       "    </tr>\n",
       "    <tr>\n",
       "      <th>EXT_SOURCE_2</th>\n",
       "      <td>74</td>\n",
       "    </tr>\n",
       "    <tr>\n",
       "      <th>DAYS_BIRTH</th>\n",
       "      <td>42</td>\n",
       "    </tr>\n",
       "    <tr>\n",
       "      <th>INSTAL_DPD_MEAN</th>\n",
       "      <td>38</td>\n",
       "    </tr>\n",
       "    <tr>\n",
       "      <th>APPROVED_CNT_PAYMENT_MEAN</th>\n",
       "      <td>37</td>\n",
       "    </tr>\n",
       "    <tr>\n",
       "      <th>...</th>\n",
       "      <td>...</td>\n",
       "    </tr>\n",
       "    <tr>\n",
       "      <th>ORGANIZATION_TYPE_Industry_type_13</th>\n",
       "      <td>0</td>\n",
       "    </tr>\n",
       "    <tr>\n",
       "      <th>PREV_CODE_REJECT_REASON_CLIENT_MEAN</th>\n",
       "      <td>0</td>\n",
       "    </tr>\n",
       "    <tr>\n",
       "      <th>ORGANIZATION_TYPE_Industry_type_12</th>\n",
       "      <td>0</td>\n",
       "    </tr>\n",
       "    <tr>\n",
       "      <th>ORGANIZATION_TYPE_Industry_type_11</th>\n",
       "      <td>0</td>\n",
       "    </tr>\n",
       "    <tr>\n",
       "      <th>PREV_NAME_CASH_LOAN_PURPOSE_Business_development_MEAN</th>\n",
       "      <td>0</td>\n",
       "    </tr>\n",
       "  </tbody>\n",
       "</table>\n",
       "<p>423 rows × 1 columns</p>\n",
       "</div>"
      ],
      "text/plain": [
       "                                                    feature_importance\n",
       "PAYMENT_RATE                                                       102\n",
       "EXT_SOURCE_2                                                        74\n",
       "DAYS_BIRTH                                                          42\n",
       "INSTAL_DPD_MEAN                                                     38\n",
       "APPROVED_CNT_PAYMENT_MEAN                                           37\n",
       "...                                                                ...\n",
       "ORGANIZATION_TYPE_Industry_type_13                                   0\n",
       "PREV_CODE_REJECT_REASON_CLIENT_MEAN                                  0\n",
       "ORGANIZATION_TYPE_Industry_type_12                                   0\n",
       "ORGANIZATION_TYPE_Industry_type_11                                   0\n",
       "PREV_NAME_CASH_LOAN_PURPOSE_Business_developmen...                   0\n",
       "\n",
       "[423 rows x 1 columns]"
      ]
     },
     "execution_count": 100,
     "metadata": {},
     "output_type": "execute_result"
    }
   ],
   "source": [
    "fi = pd.Series(model_app.feature_importances).to_frame(name='feature_importance')\n",
    "fi"
   ]
  },
  {
   "cell_type": "code",
   "execution_count": 115,
   "metadata": {},
   "outputs": [
    {
     "data": {
      "application/vnd.plotly.v1+json": {
       "config": {
        "plotlyServerURL": "https://plot.ly"
       },
       "data": [
        {
         "alignmentgroup": "True",
         "customdata": [
          [
           3951
          ],
          [
           -53
          ],
          [
           9
          ],
          [
           1
          ],
          [
           1.0440786984487325
          ],
          [
           3951
          ],
          [
           -15365
          ],
          [
           1
          ],
          [
           -2195
          ],
          [
           568800
          ],
          [
           450000
          ],
          [
           -812
          ],
          [
           41195.925
          ],
          [
           8
          ],
          [
           20560.5
          ],
          [
           8
          ],
          [
           1.5714285714285714
          ],
          [
           -19241
          ],
          [
           0.7896543511176771
          ],
          [
           0.0361471518987341
          ]
         ],
         "hovertemplate": "feature_importances=%{marker.color}<br>index=%{y}<br>credit=%{customdata[0]}<extra></extra>",
         "legendgroup": "",
         "marker": {
          "color": [
           19,
           20,
           20,
           20,
           20,
           21,
           23,
           29,
           30,
           31,
           31,
           33,
           35,
           36,
           37,
           37,
           38,
           42,
           74,
           102
          ],
          "coloraxis": "coloraxis",
          "pattern": {
           "shape": ""
          }
         },
         "name": "",
         "offsetgroup": "",
         "orientation": "h",
         "showlegend": false,
         "textposition": "auto",
         "type": "bar",
         "x": [
          19,
          20,
          20,
          20,
          20,
          21,
          23,
          29,
          30,
          31,
          31,
          33,
          35,
          36,
          37,
          37,
          38,
          42,
          74,
          102
         ],
         "xaxis": "x",
         "y": [
          "INSTAL_AMT_PAYMENT_MIN",
          "POS_MONTHS_BALANCE_MAX",
          "POS_MONTHS_BALANCE_SIZE",
          "PREV_NAME_YIELD_GROUP_high_MEAN",
          "PREV_APP_CREDIT_PERC_MIN",
          "APPROVED_AMT_ANNUITY_MEAN",
          "INSTAL_DAYS_ENTRY_PAYMENT_SUM",
          "CODE_GENDER",
          "INSTAL_DAYS_ENTRY_PAYMENT_MEAN",
          "AMT_CREDIT",
          "AMT_GOODS_PRICE",
          "DAYS_ID_PUBLISH",
          "INSTAL_AMT_PAYMENT_SUM",
          "PREV_CNT_PAYMENT_MEAN",
          "AMT_ANNUITY",
          "APPROVED_CNT_PAYMENT_MEAN",
          "INSTAL_DPD_MEAN",
          "DAYS_BIRTH",
          "EXT_SOURCE_2",
          "PAYMENT_RATE"
         ],
         "yaxis": "y"
        }
       ],
       "layout": {
        "barmode": "relative",
        "coloraxis": {
         "colorbar": {
          "title": {
           "text": "feature_importances"
          }
         },
         "colorscale": [
          [
           0,
           "#440154"
          ],
          [
           0.1111111111111111,
           "#482878"
          ],
          [
           0.2222222222222222,
           "#3e4989"
          ],
          [
           0.3333333333333333,
           "#31688e"
          ],
          [
           0.4444444444444444,
           "#26828e"
          ],
          [
           0.5555555555555556,
           "#1f9e89"
          ],
          [
           0.6666666666666666,
           "#35b779"
          ],
          [
           0.7777777777777778,
           "#6ece58"
          ],
          [
           0.8888888888888888,
           "#b5de2b"
          ],
          [
           1,
           "#fde725"
          ]
         ]
        },
        "legend": {
         "tracegroupgap": 0
        },
        "margin": {
         "t": 60
        },
        "template": {
         "data": {
          "bar": [
           {
            "error_x": {
             "color": "#2a3f5f"
            },
            "error_y": {
             "color": "#2a3f5f"
            },
            "marker": {
             "line": {
              "color": "#E5ECF6",
              "width": 0.5
             },
             "pattern": {
              "fillmode": "overlay",
              "size": 10,
              "solidity": 0.2
             }
            },
            "type": "bar"
           }
          ],
          "barpolar": [
           {
            "marker": {
             "line": {
              "color": "#E5ECF6",
              "width": 0.5
             },
             "pattern": {
              "fillmode": "overlay",
              "size": 10,
              "solidity": 0.2
             }
            },
            "type": "barpolar"
           }
          ],
          "carpet": [
           {
            "aaxis": {
             "endlinecolor": "#2a3f5f",
             "gridcolor": "white",
             "linecolor": "white",
             "minorgridcolor": "white",
             "startlinecolor": "#2a3f5f"
            },
            "baxis": {
             "endlinecolor": "#2a3f5f",
             "gridcolor": "white",
             "linecolor": "white",
             "minorgridcolor": "white",
             "startlinecolor": "#2a3f5f"
            },
            "type": "carpet"
           }
          ],
          "choropleth": [
           {
            "colorbar": {
             "outlinewidth": 0,
             "ticks": ""
            },
            "type": "choropleth"
           }
          ],
          "contour": [
           {
            "colorbar": {
             "outlinewidth": 0,
             "ticks": ""
            },
            "colorscale": [
             [
              0,
              "#0d0887"
             ],
             [
              0.1111111111111111,
              "#46039f"
             ],
             [
              0.2222222222222222,
              "#7201a8"
             ],
             [
              0.3333333333333333,
              "#9c179e"
             ],
             [
              0.4444444444444444,
              "#bd3786"
             ],
             [
              0.5555555555555556,
              "#d8576b"
             ],
             [
              0.6666666666666666,
              "#ed7953"
             ],
             [
              0.7777777777777778,
              "#fb9f3a"
             ],
             [
              0.8888888888888888,
              "#fdca26"
             ],
             [
              1,
              "#f0f921"
             ]
            ],
            "type": "contour"
           }
          ],
          "contourcarpet": [
           {
            "colorbar": {
             "outlinewidth": 0,
             "ticks": ""
            },
            "type": "contourcarpet"
           }
          ],
          "heatmap": [
           {
            "colorbar": {
             "outlinewidth": 0,
             "ticks": ""
            },
            "colorscale": [
             [
              0,
              "#0d0887"
             ],
             [
              0.1111111111111111,
              "#46039f"
             ],
             [
              0.2222222222222222,
              "#7201a8"
             ],
             [
              0.3333333333333333,
              "#9c179e"
             ],
             [
              0.4444444444444444,
              "#bd3786"
             ],
             [
              0.5555555555555556,
              "#d8576b"
             ],
             [
              0.6666666666666666,
              "#ed7953"
             ],
             [
              0.7777777777777778,
              "#fb9f3a"
             ],
             [
              0.8888888888888888,
              "#fdca26"
             ],
             [
              1,
              "#f0f921"
             ]
            ],
            "type": "heatmap"
           }
          ],
          "heatmapgl": [
           {
            "colorbar": {
             "outlinewidth": 0,
             "ticks": ""
            },
            "colorscale": [
             [
              0,
              "#0d0887"
             ],
             [
              0.1111111111111111,
              "#46039f"
             ],
             [
              0.2222222222222222,
              "#7201a8"
             ],
             [
              0.3333333333333333,
              "#9c179e"
             ],
             [
              0.4444444444444444,
              "#bd3786"
             ],
             [
              0.5555555555555556,
              "#d8576b"
             ],
             [
              0.6666666666666666,
              "#ed7953"
             ],
             [
              0.7777777777777778,
              "#fb9f3a"
             ],
             [
              0.8888888888888888,
              "#fdca26"
             ],
             [
              1,
              "#f0f921"
             ]
            ],
            "type": "heatmapgl"
           }
          ],
          "histogram": [
           {
            "marker": {
             "pattern": {
              "fillmode": "overlay",
              "size": 10,
              "solidity": 0.2
             }
            },
            "type": "histogram"
           }
          ],
          "histogram2d": [
           {
            "colorbar": {
             "outlinewidth": 0,
             "ticks": ""
            },
            "colorscale": [
             [
              0,
              "#0d0887"
             ],
             [
              0.1111111111111111,
              "#46039f"
             ],
             [
              0.2222222222222222,
              "#7201a8"
             ],
             [
              0.3333333333333333,
              "#9c179e"
             ],
             [
              0.4444444444444444,
              "#bd3786"
             ],
             [
              0.5555555555555556,
              "#d8576b"
             ],
             [
              0.6666666666666666,
              "#ed7953"
             ],
             [
              0.7777777777777778,
              "#fb9f3a"
             ],
             [
              0.8888888888888888,
              "#fdca26"
             ],
             [
              1,
              "#f0f921"
             ]
            ],
            "type": "histogram2d"
           }
          ],
          "histogram2dcontour": [
           {
            "colorbar": {
             "outlinewidth": 0,
             "ticks": ""
            },
            "colorscale": [
             [
              0,
              "#0d0887"
             ],
             [
              0.1111111111111111,
              "#46039f"
             ],
             [
              0.2222222222222222,
              "#7201a8"
             ],
             [
              0.3333333333333333,
              "#9c179e"
             ],
             [
              0.4444444444444444,
              "#bd3786"
             ],
             [
              0.5555555555555556,
              "#d8576b"
             ],
             [
              0.6666666666666666,
              "#ed7953"
             ],
             [
              0.7777777777777778,
              "#fb9f3a"
             ],
             [
              0.8888888888888888,
              "#fdca26"
             ],
             [
              1,
              "#f0f921"
             ]
            ],
            "type": "histogram2dcontour"
           }
          ],
          "mesh3d": [
           {
            "colorbar": {
             "outlinewidth": 0,
             "ticks": ""
            },
            "type": "mesh3d"
           }
          ],
          "parcoords": [
           {
            "line": {
             "colorbar": {
              "outlinewidth": 0,
              "ticks": ""
             }
            },
            "type": "parcoords"
           }
          ],
          "pie": [
           {
            "automargin": true,
            "type": "pie"
           }
          ],
          "scatter": [
           {
            "fillpattern": {
             "fillmode": "overlay",
             "size": 10,
             "solidity": 0.2
            },
            "type": "scatter"
           }
          ],
          "scatter3d": [
           {
            "line": {
             "colorbar": {
              "outlinewidth": 0,
              "ticks": ""
             }
            },
            "marker": {
             "colorbar": {
              "outlinewidth": 0,
              "ticks": ""
             }
            },
            "type": "scatter3d"
           }
          ],
          "scattercarpet": [
           {
            "marker": {
             "colorbar": {
              "outlinewidth": 0,
              "ticks": ""
             }
            },
            "type": "scattercarpet"
           }
          ],
          "scattergeo": [
           {
            "marker": {
             "colorbar": {
              "outlinewidth": 0,
              "ticks": ""
             }
            },
            "type": "scattergeo"
           }
          ],
          "scattergl": [
           {
            "marker": {
             "colorbar": {
              "outlinewidth": 0,
              "ticks": ""
             }
            },
            "type": "scattergl"
           }
          ],
          "scattermapbox": [
           {
            "marker": {
             "colorbar": {
              "outlinewidth": 0,
              "ticks": ""
             }
            },
            "type": "scattermapbox"
           }
          ],
          "scatterpolar": [
           {
            "marker": {
             "colorbar": {
              "outlinewidth": 0,
              "ticks": ""
             }
            },
            "type": "scatterpolar"
           }
          ],
          "scatterpolargl": [
           {
            "marker": {
             "colorbar": {
              "outlinewidth": 0,
              "ticks": ""
             }
            },
            "type": "scatterpolargl"
           }
          ],
          "scatterternary": [
           {
            "marker": {
             "colorbar": {
              "outlinewidth": 0,
              "ticks": ""
             }
            },
            "type": "scatterternary"
           }
          ],
          "surface": [
           {
            "colorbar": {
             "outlinewidth": 0,
             "ticks": ""
            },
            "colorscale": [
             [
              0,
              "#0d0887"
             ],
             [
              0.1111111111111111,
              "#46039f"
             ],
             [
              0.2222222222222222,
              "#7201a8"
             ],
             [
              0.3333333333333333,
              "#9c179e"
             ],
             [
              0.4444444444444444,
              "#bd3786"
             ],
             [
              0.5555555555555556,
              "#d8576b"
             ],
             [
              0.6666666666666666,
              "#ed7953"
             ],
             [
              0.7777777777777778,
              "#fb9f3a"
             ],
             [
              0.8888888888888888,
              "#fdca26"
             ],
             [
              1,
              "#f0f921"
             ]
            ],
            "type": "surface"
           }
          ],
          "table": [
           {
            "cells": {
             "fill": {
              "color": "#EBF0F8"
             },
             "line": {
              "color": "white"
             }
            },
            "header": {
             "fill": {
              "color": "#C8D4E3"
             },
             "line": {
              "color": "white"
             }
            },
            "type": "table"
           }
          ]
         },
         "layout": {
          "annotationdefaults": {
           "arrowcolor": "#2a3f5f",
           "arrowhead": 0,
           "arrowwidth": 1
          },
          "autotypenumbers": "strict",
          "coloraxis": {
           "colorbar": {
            "outlinewidth": 0,
            "ticks": ""
           }
          },
          "colorscale": {
           "diverging": [
            [
             0,
             "#8e0152"
            ],
            [
             0.1,
             "#c51b7d"
            ],
            [
             0.2,
             "#de77ae"
            ],
            [
             0.3,
             "#f1b6da"
            ],
            [
             0.4,
             "#fde0ef"
            ],
            [
             0.5,
             "#f7f7f7"
            ],
            [
             0.6,
             "#e6f5d0"
            ],
            [
             0.7,
             "#b8e186"
            ],
            [
             0.8,
             "#7fbc41"
            ],
            [
             0.9,
             "#4d9221"
            ],
            [
             1,
             "#276419"
            ]
           ],
           "sequential": [
            [
             0,
             "#0d0887"
            ],
            [
             0.1111111111111111,
             "#46039f"
            ],
            [
             0.2222222222222222,
             "#7201a8"
            ],
            [
             0.3333333333333333,
             "#9c179e"
            ],
            [
             0.4444444444444444,
             "#bd3786"
            ],
            [
             0.5555555555555556,
             "#d8576b"
            ],
            [
             0.6666666666666666,
             "#ed7953"
            ],
            [
             0.7777777777777778,
             "#fb9f3a"
            ],
            [
             0.8888888888888888,
             "#fdca26"
            ],
            [
             1,
             "#f0f921"
            ]
           ],
           "sequentialminus": [
            [
             0,
             "#0d0887"
            ],
            [
             0.1111111111111111,
             "#46039f"
            ],
            [
             0.2222222222222222,
             "#7201a8"
            ],
            [
             0.3333333333333333,
             "#9c179e"
            ],
            [
             0.4444444444444444,
             "#bd3786"
            ],
            [
             0.5555555555555556,
             "#d8576b"
            ],
            [
             0.6666666666666666,
             "#ed7953"
            ],
            [
             0.7777777777777778,
             "#fb9f3a"
            ],
            [
             0.8888888888888888,
             "#fdca26"
            ],
            [
             1,
             "#f0f921"
            ]
           ]
          },
          "colorway": [
           "#636efa",
           "#EF553B",
           "#00cc96",
           "#ab63fa",
           "#FFA15A",
           "#19d3f3",
           "#FF6692",
           "#B6E880",
           "#FF97FF",
           "#FECB52"
          ],
          "font": {
           "color": "#2a3f5f"
          },
          "geo": {
           "bgcolor": "white",
           "lakecolor": "white",
           "landcolor": "#E5ECF6",
           "showlakes": true,
           "showland": true,
           "subunitcolor": "white"
          },
          "hoverlabel": {
           "align": "left"
          },
          "hovermode": "closest",
          "mapbox": {
           "style": "light"
          },
          "paper_bgcolor": "white",
          "plot_bgcolor": "#E5ECF6",
          "polar": {
           "angularaxis": {
            "gridcolor": "white",
            "linecolor": "white",
            "ticks": ""
           },
           "bgcolor": "#E5ECF6",
           "radialaxis": {
            "gridcolor": "white",
            "linecolor": "white",
            "ticks": ""
           }
          },
          "scene": {
           "xaxis": {
            "backgroundcolor": "#E5ECF6",
            "gridcolor": "white",
            "gridwidth": 2,
            "linecolor": "white",
            "showbackground": true,
            "ticks": "",
            "zerolinecolor": "white"
           },
           "yaxis": {
            "backgroundcolor": "#E5ECF6",
            "gridcolor": "white",
            "gridwidth": 2,
            "linecolor": "white",
            "showbackground": true,
            "ticks": "",
            "zerolinecolor": "white"
           },
           "zaxis": {
            "backgroundcolor": "#E5ECF6",
            "gridcolor": "white",
            "gridwidth": 2,
            "linecolor": "white",
            "showbackground": true,
            "ticks": "",
            "zerolinecolor": "white"
           }
          },
          "shapedefaults": {
           "line": {
            "color": "#2a3f5f"
           }
          },
          "ternary": {
           "aaxis": {
            "gridcolor": "white",
            "linecolor": "white",
            "ticks": ""
           },
           "baxis": {
            "gridcolor": "white",
            "linecolor": "white",
            "ticks": ""
           },
           "bgcolor": "#E5ECF6",
           "caxis": {
            "gridcolor": "white",
            "linecolor": "white",
            "ticks": ""
           }
          },
          "title": {
           "x": 0.05
          },
          "xaxis": {
           "automargin": true,
           "gridcolor": "white",
           "linecolor": "white",
           "ticks": "",
           "title": {
            "standoff": 15
           },
           "zerolinecolor": "white",
           "zerolinewidth": 2
          },
          "yaxis": {
           "automargin": true,
           "gridcolor": "white",
           "linecolor": "white",
           "ticks": "",
           "title": {
            "standoff": 15
           },
           "zerolinecolor": "white",
           "zerolinewidth": 2
          }
         }
        },
        "xaxis": {
         "anchor": "y",
         "domain": [
          0,
          1
         ],
         "title": {
          "text": "feature_importances"
         }
        },
        "yaxis": {
         "anchor": "x",
         "domain": [
          0,
          1
         ],
         "title": {
          "text": "index"
         }
        }
       }
      }
     },
     "metadata": {},
     "output_type": "display_data"
    }
   ],
   "source": [
    "import plotly.express as px\n",
    "fi = pd.concat([\n",
    "    pd.Series(model_app.feature_importances).to_frame(name='feature_importances'),\n",
    "    model_app.data.loc[100001, model_app.feats].T.to_frame(name=\"credit\")\n",
    "], axis=1)\n",
    "fig = px.bar(\n",
    "    fi.sort_values('feature_importances')[-20:],\n",
    "    x='feature_importances',\n",
    "    color='feature_importances',\n",
    "    color_continuous_scale='Viridis',\n",
    "    hover_data=['credit']\n",
    ")\n",
    "fig.show()"
   ]
  },
  {
   "cell_type": "code",
   "execution_count": null,
   "metadata": {},
   "outputs": [],
   "source": [
    "px.scatter"
   ]
  },
  {
   "cell_type": "code",
   "execution_count": 147,
   "metadata": {},
   "outputs": [],
   "source": [
    "from src.dashboard.utils import get_credit_stats, get_graph_1, get_credit_by_id, get_graph_2, get_features\n",
    "res = get_features(features=\"AMT_CREDIT,AMT_ANNUITY\", limit=1000)"
   ]
  },
  {
   "cell_type": "code",
   "execution_count": 150,
   "metadata": {},
   "outputs": [
    {
     "data": {
      "text/html": [
       "<div>\n",
       "<style scoped>\n",
       "    .dataframe tbody tr th:only-of-type {\n",
       "        vertical-align: middle;\n",
       "    }\n",
       "\n",
       "    .dataframe tbody tr th {\n",
       "        vertical-align: top;\n",
       "    }\n",
       "\n",
       "    .dataframe thead th {\n",
       "        text-align: right;\n",
       "    }\n",
       "</style>\n",
       "<table border=\"1\" class=\"dataframe\">\n",
       "  <thead>\n",
       "    <tr style=\"text-align: right;\">\n",
       "      <th></th>\n",
       "      <th>AMT_CREDIT</th>\n",
       "      <th>AMT_ANNUITY</th>\n",
       "      <th>proba</th>\n",
       "      <th>score</th>\n",
       "    </tr>\n",
       "  </thead>\n",
       "  <tbody>\n",
       "    <tr>\n",
       "      <th>389360</th>\n",
       "      <td>152820.0</td>\n",
       "      <td>15241.5</td>\n",
       "      <td>0.194487</td>\n",
       "      <td>80.133221</td>\n",
       "    </tr>\n",
       "    <tr>\n",
       "      <th>364179</th>\n",
       "      <td>414792.0</td>\n",
       "      <td>21847.5</td>\n",
       "      <td>0.733857</td>\n",
       "      <td>25.036791</td>\n",
       "    </tr>\n",
       "    <tr>\n",
       "      <th>185467</th>\n",
       "      <td>450000.0</td>\n",
       "      <td>27531.0</td>\n",
       "      <td>0.334116</td>\n",
       "      <td>65.870174</td>\n",
       "    </tr>\n",
       "    <tr>\n",
       "      <th>195506</th>\n",
       "      <td>1057266.0</td>\n",
       "      <td>47295.0</td>\n",
       "      <td>0.348395</td>\n",
       "      <td>64.411652</td>\n",
       "    </tr>\n",
       "    <tr>\n",
       "      <th>413527</th>\n",
       "      <td>675000.0</td>\n",
       "      <td>21906.0</td>\n",
       "      <td>0.394399</td>\n",
       "      <td>59.712290</td>\n",
       "    </tr>\n",
       "    <tr>\n",
       "      <th>...</th>\n",
       "      <td>...</td>\n",
       "      <td>...</td>\n",
       "      <td>...</td>\n",
       "      <td>...</td>\n",
       "    </tr>\n",
       "    <tr>\n",
       "      <th>363408</th>\n",
       "      <td>1341490.5</td>\n",
       "      <td>44464.5</td>\n",
       "      <td>0.259599</td>\n",
       "      <td>73.482123</td>\n",
       "    </tr>\n",
       "    <tr>\n",
       "      <th>119115</th>\n",
       "      <td>220536.0</td>\n",
       "      <td>9400.5</td>\n",
       "      <td>0.343554</td>\n",
       "      <td>64.906116</td>\n",
       "    </tr>\n",
       "    <tr>\n",
       "      <th>252684</th>\n",
       "      <td>225000.0</td>\n",
       "      <td>17905.5</td>\n",
       "      <td>0.871374</td>\n",
       "      <td>10.989585</td>\n",
       "    </tr>\n",
       "    <tr>\n",
       "      <th>268614</th>\n",
       "      <td>584766.0</td>\n",
       "      <td>28260.0</td>\n",
       "      <td>0.796325</td>\n",
       "      <td>18.655789</td>\n",
       "    </tr>\n",
       "    <tr>\n",
       "      <th>291641</th>\n",
       "      <td>450000.0</td>\n",
       "      <td>12375.0</td>\n",
       "      <td>0.295405</td>\n",
       "      <td>69.824528</td>\n",
       "    </tr>\n",
       "  </tbody>\n",
       "</table>\n",
       "<p>1000 rows × 4 columns</p>\n",
       "</div>"
      ],
      "text/plain": [
       "        AMT_CREDIT  AMT_ANNUITY     proba      score\n",
       "389360    152820.0      15241.5  0.194487  80.133221\n",
       "364179    414792.0      21847.5  0.733857  25.036791\n",
       "185467    450000.0      27531.0  0.334116  65.870174\n",
       "195506   1057266.0      47295.0  0.348395  64.411652\n",
       "413527    675000.0      21906.0  0.394399  59.712290\n",
       "...            ...          ...       ...        ...\n",
       "363408   1341490.5      44464.5  0.259599  73.482123\n",
       "119115    220536.0       9400.5  0.343554  64.906116\n",
       "252684    225000.0      17905.5  0.871374  10.989585\n",
       "268614    584766.0      28260.0  0.796325  18.655789\n",
       "291641    450000.0      12375.0  0.295405  69.824528\n",
       "\n",
       "[1000 rows x 4 columns]"
      ]
     },
     "execution_count": 150,
     "metadata": {},
     "output_type": "execute_result"
    }
   ],
   "source": [
    "pd.DataFrame(res['features'])"
   ]
  },
  {
   "cell_type": "code",
   "execution_count": 130,
   "metadata": {},
   "outputs": [],
   "source": [
    "df = model_app.data.sample(100)"
   ]
  },
  {
   "cell_type": "code",
   "execution_count": 140,
   "metadata": {},
   "outputs": [],
   "source": [
    "proba = model_app.model.predict_proba(df[model_app.feats])\n"
   ]
  },
  {
   "cell_type": "code",
   "execution_count": 141,
   "metadata": {},
   "outputs": [],
   "source": [
    "df['proba'] = proba[:, 1]"
   ]
  },
  {
   "cell_type": "code",
   "execution_count": 144,
   "metadata": {},
   "outputs": [],
   "source": [
    "df['score'] = (1 - (df['proba'] * 0.5 / model_app.threshold))*100"
   ]
  },
  {
   "cell_type": "code",
   "execution_count": 159,
   "metadata": {},
   "outputs": [],
   "source": [
    "_df = model_app.data.loc[100001, ['AMT_CREDIT', 'AMT_ANNUITY']]"
   ]
  },
  {
   "cell_type": "code",
   "execution_count": 168,
   "metadata": {},
   "outputs": [
    {
     "data": {
      "application/vnd.plotly.v1+json": {
       "config": {
        "plotlyServerURL": "https://plot.ly"
       },
       "data": [
        {
         "customdata": [
          [
           49.76519074443391
          ],
          [
           87.75763660929776
          ],
          [
           47.625982846529034
          ],
          [
           60.088472045073615
          ],
          [
           83.93675377079816
          ],
          [
           29.297918103760622
          ],
          [
           30.168827630771432
          ],
          [
           68.76102821306748
          ],
          [
           46.29666237802639
          ],
          [
           49.890136064810996
          ],
          [
           70.92414272489722
          ],
          [
           88.21058182132715
          ],
          [
           69.58557161794721
          ],
          [
           31.15852731017853
          ],
          [
           46.096447047289004
          ],
          [
           60.6627890594883
          ],
          [
           46.61240852891916
          ],
          [
           87.32607023483678
          ],
          [
           36.06647765481355
          ],
          [
           26.74110351411142
          ],
          [
           82.73836420525298
          ],
          [
           43.8512912267651
          ],
          [
           60.824738388012335
          ],
          [
           45.39704149270097
          ],
          [
           40.61277782677916
          ],
          [
           25.418021647304435
          ],
          [
           56.941437456252245
          ],
          [
           12.370262387982645
          ],
          [
           39.63628016153322
          ],
          [
           38.425630155294634
          ],
          [
           57.63201799080115
          ],
          [
           59.09092192381322
          ],
          [
           66.92138344315298
          ],
          [
           79.13065366502646
          ],
          [
           69.99680945956402
          ],
          [
           66.41150664228654
          ],
          [
           54.48464132177833
          ],
          [
           20.143933723978357
          ],
          [
           41.6117005355518
          ],
          [
           20.125239218570478
          ],
          [
           23.50673711752467
          ],
          [
           55.01776368591689
          ],
          [
           76.84598684892022
          ],
          [
           61.58322794858485
          ],
          [
           32.30957900523166
          ],
          [
           82.15144936459933
          ],
          [
           42.25893783997142
          ],
          [
           27.57745247123936
          ],
          [
           75.36628169613337
          ],
          [
           61.81283552493034
          ],
          [
           71.53259390239396
          ],
          [
           71.74218899882777
          ],
          [
           89.36156166725166
          ],
          [
           35.93231756187053
          ],
          [
           65.56085367162055
          ],
          [
           61.85517828129687
          ],
          [
           22.493073636014294
          ],
          [
           34.991984467857954
          ],
          [
           64.96873409517553
          ],
          [
           51.76319587791491
          ],
          [
           50.352896620831885
          ],
          [
           69.9730621367298
          ],
          [
           68.89475688272059
          ],
          [
           47.94994243565542
          ],
          [
           68.06100319640205
          ],
          [
           39.24303760856477
          ],
          [
           70.9703942954699
          ],
          [
           21.763812059542165
          ],
          [
           25.566932513533093
          ],
          [
           66.10469093051266
          ],
          [
           56.641139574590426
          ],
          [
           82.75897802837855
          ],
          [
           67.09335609204486
          ],
          [
           69.71533176106645
          ],
          [
           88.45724542335525
          ],
          [
           46.58106915645403
          ],
          [
           83.93347081316838
          ],
          [
           58.31070672127083
          ],
          [
           63.03573083044351
          ],
          [
           52.30136352371262
          ],
          [
           77.8418663193641
          ],
          [
           58.2745583564797
          ],
          [
           66.64628922355438
          ],
          [
           58.777515446693265
          ],
          [
           75.67888156688032
          ],
          [
           36.95835668121396
          ],
          [
           48.08142090638404
          ],
          [
           25.218116858180807
          ],
          [
           57.86067112652311
          ],
          [
           73.48356807236594
          ],
          [
           64.30044435351925
          ],
          [
           78.21140276507043
          ],
          [
           83.93628201955121
          ],
          [
           90.49004689543139
          ],
          [
           84.68038047843005
          ],
          [
           37.10326675401151
          ],
          [
           30.930048732899362
          ],
          [
           16.826930379887873
          ],
          [
           71.91387934258665
          ],
          [
           53.95571554216303
          ]
         ],
         "hovertemplate": "AMT_CREDIT=%{x}<br>AMT_ANNUITY=%{y}<br>score=%{marker.color}<extra></extra>",
         "legendgroup": "",
         "marker": {
          "color": [
           49.76519074443391,
           87.75763660929776,
           47.625982846529034,
           60.088472045073615,
           83.93675377079816,
           29.297918103760622,
           30.168827630771432,
           68.76102821306748,
           46.29666237802639,
           49.890136064810996,
           70.92414272489722,
           88.21058182132715,
           69.58557161794721,
           31.15852731017853,
           46.096447047289004,
           60.6627890594883,
           46.61240852891916,
           87.32607023483678,
           36.06647765481355,
           26.74110351411142,
           82.73836420525298,
           43.8512912267651,
           60.824738388012335,
           45.39704149270097,
           40.61277782677916,
           25.418021647304435,
           56.941437456252245,
           12.370262387982645,
           39.63628016153322,
           38.425630155294634,
           57.63201799080115,
           59.09092192381322,
           66.92138344315298,
           79.13065366502646,
           69.99680945956402,
           66.41150664228654,
           54.48464132177833,
           20.143933723978357,
           41.6117005355518,
           20.125239218570478,
           23.50673711752467,
           55.01776368591689,
           76.84598684892022,
           61.58322794858485,
           32.30957900523166,
           82.15144936459933,
           42.25893783997142,
           27.57745247123936,
           75.36628169613337,
           61.81283552493034,
           71.53259390239396,
           71.74218899882777,
           89.36156166725166,
           35.93231756187053,
           65.56085367162055,
           61.85517828129687,
           22.493073636014294,
           34.991984467857954,
           64.96873409517553,
           51.76319587791491,
           50.352896620831885,
           69.9730621367298,
           68.89475688272059,
           47.94994243565542,
           68.06100319640205,
           39.24303760856477,
           70.9703942954699,
           21.763812059542165,
           25.566932513533093,
           66.10469093051266,
           56.641139574590426,
           82.75897802837855,
           67.09335609204486,
           69.71533176106645,
           88.45724542335525,
           46.58106915645403,
           83.93347081316838,
           58.31070672127083,
           63.03573083044351,
           52.30136352371262,
           77.8418663193641,
           58.2745583564797,
           66.64628922355438,
           58.777515446693265,
           75.67888156688032,
           36.95835668121396,
           48.08142090638404,
           25.218116858180807,
           57.86067112652311,
           73.48356807236594,
           64.30044435351925,
           78.21140276507043,
           83.93628201955121,
           90.49004689543139,
           84.68038047843005,
           37.10326675401151,
           30.930048732899362,
           16.826930379887873,
           71.91387934258665,
           53.95571554216303
          ],
          "coloraxis": "coloraxis",
          "symbol": "circle"
         },
         "mode": "markers",
         "name": "",
         "orientation": "v",
         "showlegend": false,
         "type": "scatter",
         "x": [
          296280,
          254700,
          450000,
          675000,
          338832,
          521280,
          254700,
          203760,
          675000,
          582804,
          810000,
          1546020,
          202500,
          679500,
          936018,
          781920,
          646920,
          983299.5,
          323388,
          417024,
          320382,
          337500,
          810000,
          1515415.5,
          450000,
          835380,
          781920,
          272520,
          594121.5,
          312768,
          695439,
          625536,
          675000,
          238500,
          1540588.5,
          380371.5,
          835380,
          545040,
          256500,
          225000,
          234369,
          386784,
          900000,
          1042560,
          649462.5,
          900000,
          49455,
          247500,
          225000,
          227520,
          276277.5,
          670500,
          225000,
          450000,
          679266,
          1046142,
          298512,
          679266,
          451102.5,
          900000,
          625356,
          555273,
          857169,
          450000,
          275076,
          450000,
          755856,
          728460,
          251280,
          582723,
          360000,
          400500,
          1762110,
          629325,
          993082.5,
          360000,
          594000,
          1080000,
          1506816,
          900000,
          536917.5,
          542133,
          835380,
          225000,
          900000,
          543037.5,
          292500,
          435424.5,
          180000,
          500490,
          227520,
          1006920,
          679500,
          1800000,
          1042560,
          247500,
          157500,
          539100,
          225000,
          254700
         ],
         "xaxis": "x",
         "y": [
          23539.5,
          24939,
          21888,
          32602.5,
          14485.5,
          20254.5,
          30357,
          11506.5,
          21775.5,
          27135,
          43285.5,
          42511.5,
          10125,
          34695,
          30325.5,
          43789.5,
          20997,
          41661,
          34956,
          25330.5,
          15543,
          16875,
          43285.5,
          41670,
          22977,
          40320,
          23836.5,
          21658.5,
          30465,
          11718,
          22432.5,
          22599,
          26770.5,
          10633.5,
          40770,
          39105,
          36927,
          36553.5,
          11425.5,
          26703,
          18648,
          28273.5,
          32458.5,
          34587,
          31374,
          45000,
          4095,
          22828.5,
          26833.5,
          14940,
          18396,
          27306,
          11250,
          23107.5,
          22041,
          30717,
          19206,
          21910.5,
          23161.5,
          35689.5,
          20173.5,
          18040.5,
          25191,
          36211.5,
          26928,
          35685,
          27148.5,
          57555,
          13284,
          66033,
          10912.5,
          14512.5,
          54823.5,
          26793,
          42205.5,
          15264,
          25164,
          29830.5,
          45814.5,
          26316,
          30109.5,
          17748,
          40320,
          14508,
          35694,
          34834.5,
          14355,
          51804,
          14350.5,
          17221.5,
          8707.5,
          51412.5,
          22585.5,
          74286,
          62212.5,
          11907,
          7875,
          27652.5,
          16371,
          18585
         ],
         "yaxis": "y"
        },
        {
         "marker": {
          "size": 10
         },
         "mode": "markers",
         "showlegend": false,
         "type": "scatter",
         "x": [
          568800
         ],
         "y": [
          20560.5
         ]
        }
       ],
       "layout": {
        "coloraxis": {
         "colorbar": {
          "title": {
           "text": "score"
          }
         },
         "colorscale": [
          [
           0,
           "#440154"
          ],
          [
           0.1111111111111111,
           "#482878"
          ],
          [
           0.2222222222222222,
           "#3e4989"
          ],
          [
           0.3333333333333333,
           "#31688e"
          ],
          [
           0.4444444444444444,
           "#26828e"
          ],
          [
           0.5555555555555556,
           "#1f9e89"
          ],
          [
           0.6666666666666666,
           "#35b779"
          ],
          [
           0.7777777777777778,
           "#6ece58"
          ],
          [
           0.8888888888888888,
           "#b5de2b"
          ],
          [
           1,
           "#fde725"
          ]
         ]
        },
        "legend": {
         "tracegroupgap": 0
        },
        "margin": {
         "t": 60
        },
        "template": {
         "data": {
          "bar": [
           {
            "error_x": {
             "color": "#2a3f5f"
            },
            "error_y": {
             "color": "#2a3f5f"
            },
            "marker": {
             "line": {
              "color": "#E5ECF6",
              "width": 0.5
             },
             "pattern": {
              "fillmode": "overlay",
              "size": 10,
              "solidity": 0.2
             }
            },
            "type": "bar"
           }
          ],
          "barpolar": [
           {
            "marker": {
             "line": {
              "color": "#E5ECF6",
              "width": 0.5
             },
             "pattern": {
              "fillmode": "overlay",
              "size": 10,
              "solidity": 0.2
             }
            },
            "type": "barpolar"
           }
          ],
          "carpet": [
           {
            "aaxis": {
             "endlinecolor": "#2a3f5f",
             "gridcolor": "white",
             "linecolor": "white",
             "minorgridcolor": "white",
             "startlinecolor": "#2a3f5f"
            },
            "baxis": {
             "endlinecolor": "#2a3f5f",
             "gridcolor": "white",
             "linecolor": "white",
             "minorgridcolor": "white",
             "startlinecolor": "#2a3f5f"
            },
            "type": "carpet"
           }
          ],
          "choropleth": [
           {
            "colorbar": {
             "outlinewidth": 0,
             "ticks": ""
            },
            "type": "choropleth"
           }
          ],
          "contour": [
           {
            "colorbar": {
             "outlinewidth": 0,
             "ticks": ""
            },
            "colorscale": [
             [
              0,
              "#0d0887"
             ],
             [
              0.1111111111111111,
              "#46039f"
             ],
             [
              0.2222222222222222,
              "#7201a8"
             ],
             [
              0.3333333333333333,
              "#9c179e"
             ],
             [
              0.4444444444444444,
              "#bd3786"
             ],
             [
              0.5555555555555556,
              "#d8576b"
             ],
             [
              0.6666666666666666,
              "#ed7953"
             ],
             [
              0.7777777777777778,
              "#fb9f3a"
             ],
             [
              0.8888888888888888,
              "#fdca26"
             ],
             [
              1,
              "#f0f921"
             ]
            ],
            "type": "contour"
           }
          ],
          "contourcarpet": [
           {
            "colorbar": {
             "outlinewidth": 0,
             "ticks": ""
            },
            "type": "contourcarpet"
           }
          ],
          "heatmap": [
           {
            "colorbar": {
             "outlinewidth": 0,
             "ticks": ""
            },
            "colorscale": [
             [
              0,
              "#0d0887"
             ],
             [
              0.1111111111111111,
              "#46039f"
             ],
             [
              0.2222222222222222,
              "#7201a8"
             ],
             [
              0.3333333333333333,
              "#9c179e"
             ],
             [
              0.4444444444444444,
              "#bd3786"
             ],
             [
              0.5555555555555556,
              "#d8576b"
             ],
             [
              0.6666666666666666,
              "#ed7953"
             ],
             [
              0.7777777777777778,
              "#fb9f3a"
             ],
             [
              0.8888888888888888,
              "#fdca26"
             ],
             [
              1,
              "#f0f921"
             ]
            ],
            "type": "heatmap"
           }
          ],
          "heatmapgl": [
           {
            "colorbar": {
             "outlinewidth": 0,
             "ticks": ""
            },
            "colorscale": [
             [
              0,
              "#0d0887"
             ],
             [
              0.1111111111111111,
              "#46039f"
             ],
             [
              0.2222222222222222,
              "#7201a8"
             ],
             [
              0.3333333333333333,
              "#9c179e"
             ],
             [
              0.4444444444444444,
              "#bd3786"
             ],
             [
              0.5555555555555556,
              "#d8576b"
             ],
             [
              0.6666666666666666,
              "#ed7953"
             ],
             [
              0.7777777777777778,
              "#fb9f3a"
             ],
             [
              0.8888888888888888,
              "#fdca26"
             ],
             [
              1,
              "#f0f921"
             ]
            ],
            "type": "heatmapgl"
           }
          ],
          "histogram": [
           {
            "marker": {
             "pattern": {
              "fillmode": "overlay",
              "size": 10,
              "solidity": 0.2
             }
            },
            "type": "histogram"
           }
          ],
          "histogram2d": [
           {
            "colorbar": {
             "outlinewidth": 0,
             "ticks": ""
            },
            "colorscale": [
             [
              0,
              "#0d0887"
             ],
             [
              0.1111111111111111,
              "#46039f"
             ],
             [
              0.2222222222222222,
              "#7201a8"
             ],
             [
              0.3333333333333333,
              "#9c179e"
             ],
             [
              0.4444444444444444,
              "#bd3786"
             ],
             [
              0.5555555555555556,
              "#d8576b"
             ],
             [
              0.6666666666666666,
              "#ed7953"
             ],
             [
              0.7777777777777778,
              "#fb9f3a"
             ],
             [
              0.8888888888888888,
              "#fdca26"
             ],
             [
              1,
              "#f0f921"
             ]
            ],
            "type": "histogram2d"
           }
          ],
          "histogram2dcontour": [
           {
            "colorbar": {
             "outlinewidth": 0,
             "ticks": ""
            },
            "colorscale": [
             [
              0,
              "#0d0887"
             ],
             [
              0.1111111111111111,
              "#46039f"
             ],
             [
              0.2222222222222222,
              "#7201a8"
             ],
             [
              0.3333333333333333,
              "#9c179e"
             ],
             [
              0.4444444444444444,
              "#bd3786"
             ],
             [
              0.5555555555555556,
              "#d8576b"
             ],
             [
              0.6666666666666666,
              "#ed7953"
             ],
             [
              0.7777777777777778,
              "#fb9f3a"
             ],
             [
              0.8888888888888888,
              "#fdca26"
             ],
             [
              1,
              "#f0f921"
             ]
            ],
            "type": "histogram2dcontour"
           }
          ],
          "mesh3d": [
           {
            "colorbar": {
             "outlinewidth": 0,
             "ticks": ""
            },
            "type": "mesh3d"
           }
          ],
          "parcoords": [
           {
            "line": {
             "colorbar": {
              "outlinewidth": 0,
              "ticks": ""
             }
            },
            "type": "parcoords"
           }
          ],
          "pie": [
           {
            "automargin": true,
            "type": "pie"
           }
          ],
          "scatter": [
           {
            "fillpattern": {
             "fillmode": "overlay",
             "size": 10,
             "solidity": 0.2
            },
            "type": "scatter"
           }
          ],
          "scatter3d": [
           {
            "line": {
             "colorbar": {
              "outlinewidth": 0,
              "ticks": ""
             }
            },
            "marker": {
             "colorbar": {
              "outlinewidth": 0,
              "ticks": ""
             }
            },
            "type": "scatter3d"
           }
          ],
          "scattercarpet": [
           {
            "marker": {
             "colorbar": {
              "outlinewidth": 0,
              "ticks": ""
             }
            },
            "type": "scattercarpet"
           }
          ],
          "scattergeo": [
           {
            "marker": {
             "colorbar": {
              "outlinewidth": 0,
              "ticks": ""
             }
            },
            "type": "scattergeo"
           }
          ],
          "scattergl": [
           {
            "marker": {
             "colorbar": {
              "outlinewidth": 0,
              "ticks": ""
             }
            },
            "type": "scattergl"
           }
          ],
          "scattermapbox": [
           {
            "marker": {
             "colorbar": {
              "outlinewidth": 0,
              "ticks": ""
             }
            },
            "type": "scattermapbox"
           }
          ],
          "scatterpolar": [
           {
            "marker": {
             "colorbar": {
              "outlinewidth": 0,
              "ticks": ""
             }
            },
            "type": "scatterpolar"
           }
          ],
          "scatterpolargl": [
           {
            "marker": {
             "colorbar": {
              "outlinewidth": 0,
              "ticks": ""
             }
            },
            "type": "scatterpolargl"
           }
          ],
          "scatterternary": [
           {
            "marker": {
             "colorbar": {
              "outlinewidth": 0,
              "ticks": ""
             }
            },
            "type": "scatterternary"
           }
          ],
          "surface": [
           {
            "colorbar": {
             "outlinewidth": 0,
             "ticks": ""
            },
            "colorscale": [
             [
              0,
              "#0d0887"
             ],
             [
              0.1111111111111111,
              "#46039f"
             ],
             [
              0.2222222222222222,
              "#7201a8"
             ],
             [
              0.3333333333333333,
              "#9c179e"
             ],
             [
              0.4444444444444444,
              "#bd3786"
             ],
             [
              0.5555555555555556,
              "#d8576b"
             ],
             [
              0.6666666666666666,
              "#ed7953"
             ],
             [
              0.7777777777777778,
              "#fb9f3a"
             ],
             [
              0.8888888888888888,
              "#fdca26"
             ],
             [
              1,
              "#f0f921"
             ]
            ],
            "type": "surface"
           }
          ],
          "table": [
           {
            "cells": {
             "fill": {
              "color": "#EBF0F8"
             },
             "line": {
              "color": "white"
             }
            },
            "header": {
             "fill": {
              "color": "#C8D4E3"
             },
             "line": {
              "color": "white"
             }
            },
            "type": "table"
           }
          ]
         },
         "layout": {
          "annotationdefaults": {
           "arrowcolor": "#2a3f5f",
           "arrowhead": 0,
           "arrowwidth": 1
          },
          "autotypenumbers": "strict",
          "coloraxis": {
           "colorbar": {
            "outlinewidth": 0,
            "ticks": ""
           }
          },
          "colorscale": {
           "diverging": [
            [
             0,
             "#8e0152"
            ],
            [
             0.1,
             "#c51b7d"
            ],
            [
             0.2,
             "#de77ae"
            ],
            [
             0.3,
             "#f1b6da"
            ],
            [
             0.4,
             "#fde0ef"
            ],
            [
             0.5,
             "#f7f7f7"
            ],
            [
             0.6,
             "#e6f5d0"
            ],
            [
             0.7,
             "#b8e186"
            ],
            [
             0.8,
             "#7fbc41"
            ],
            [
             0.9,
             "#4d9221"
            ],
            [
             1,
             "#276419"
            ]
           ],
           "sequential": [
            [
             0,
             "#0d0887"
            ],
            [
             0.1111111111111111,
             "#46039f"
            ],
            [
             0.2222222222222222,
             "#7201a8"
            ],
            [
             0.3333333333333333,
             "#9c179e"
            ],
            [
             0.4444444444444444,
             "#bd3786"
            ],
            [
             0.5555555555555556,
             "#d8576b"
            ],
            [
             0.6666666666666666,
             "#ed7953"
            ],
            [
             0.7777777777777778,
             "#fb9f3a"
            ],
            [
             0.8888888888888888,
             "#fdca26"
            ],
            [
             1,
             "#f0f921"
            ]
           ],
           "sequentialminus": [
            [
             0,
             "#0d0887"
            ],
            [
             0.1111111111111111,
             "#46039f"
            ],
            [
             0.2222222222222222,
             "#7201a8"
            ],
            [
             0.3333333333333333,
             "#9c179e"
            ],
            [
             0.4444444444444444,
             "#bd3786"
            ],
            [
             0.5555555555555556,
             "#d8576b"
            ],
            [
             0.6666666666666666,
             "#ed7953"
            ],
            [
             0.7777777777777778,
             "#fb9f3a"
            ],
            [
             0.8888888888888888,
             "#fdca26"
            ],
            [
             1,
             "#f0f921"
            ]
           ]
          },
          "colorway": [
           "#636efa",
           "#EF553B",
           "#00cc96",
           "#ab63fa",
           "#FFA15A",
           "#19d3f3",
           "#FF6692",
           "#B6E880",
           "#FF97FF",
           "#FECB52"
          ],
          "font": {
           "color": "#2a3f5f"
          },
          "geo": {
           "bgcolor": "white",
           "lakecolor": "white",
           "landcolor": "#E5ECF6",
           "showlakes": true,
           "showland": true,
           "subunitcolor": "white"
          },
          "hoverlabel": {
           "align": "left"
          },
          "hovermode": "closest",
          "mapbox": {
           "style": "light"
          },
          "paper_bgcolor": "white",
          "plot_bgcolor": "#E5ECF6",
          "polar": {
           "angularaxis": {
            "gridcolor": "white",
            "linecolor": "white",
            "ticks": ""
           },
           "bgcolor": "#E5ECF6",
           "radialaxis": {
            "gridcolor": "white",
            "linecolor": "white",
            "ticks": ""
           }
          },
          "scene": {
           "xaxis": {
            "backgroundcolor": "#E5ECF6",
            "gridcolor": "white",
            "gridwidth": 2,
            "linecolor": "white",
            "showbackground": true,
            "ticks": "",
            "zerolinecolor": "white"
           },
           "yaxis": {
            "backgroundcolor": "#E5ECF6",
            "gridcolor": "white",
            "gridwidth": 2,
            "linecolor": "white",
            "showbackground": true,
            "ticks": "",
            "zerolinecolor": "white"
           },
           "zaxis": {
            "backgroundcolor": "#E5ECF6",
            "gridcolor": "white",
            "gridwidth": 2,
            "linecolor": "white",
            "showbackground": true,
            "ticks": "",
            "zerolinecolor": "white"
           }
          },
          "shapedefaults": {
           "line": {
            "color": "#2a3f5f"
           }
          },
          "ternary": {
           "aaxis": {
            "gridcolor": "white",
            "linecolor": "white",
            "ticks": ""
           },
           "baxis": {
            "gridcolor": "white",
            "linecolor": "white",
            "ticks": ""
           },
           "bgcolor": "#E5ECF6",
           "caxis": {
            "gridcolor": "white",
            "linecolor": "white",
            "ticks": ""
           }
          },
          "title": {
           "x": 0.05
          },
          "xaxis": {
           "automargin": true,
           "gridcolor": "white",
           "linecolor": "white",
           "ticks": "",
           "title": {
            "standoff": 15
           },
           "zerolinecolor": "white",
           "zerolinewidth": 2
          },
          "yaxis": {
           "automargin": true,
           "gridcolor": "white",
           "linecolor": "white",
           "ticks": "",
           "title": {
            "standoff": 15
           },
           "zerolinecolor": "white",
           "zerolinewidth": 2
          }
         }
        },
        "xaxis": {
         "anchor": "y",
         "domain": [
          0,
          1
         ],
         "title": {
          "text": "AMT_CREDIT"
         }
        },
        "yaxis": {
         "anchor": "x",
         "domain": [
          0,
          1
         ],
         "title": {
          "text": "AMT_ANNUITY"
         }
        }
       }
      }
     },
     "metadata": {},
     "output_type": "display_data"
    }
   ],
   "source": [
    "fig = px.scatter(df, x='AMT_CREDIT', y='AMT_ANNUITY', color='score', hover_data=['AMT_CREDIT', 'AMT_ANNUITY', 'score'], color_continuous_scale='viridis')\n",
    "fig.add_trace(go.Scatter(x=[_df['AMT_CREDIT']], y=[_df['AMT_ANNUITY']], mode='markers', showlegend=False, marker={'size':10}))\n",
    "fig.show()"
   ]
  }
 ],
 "metadata": {
  "kernelspec": {
   "display_name": "Python 3.9.7 ('jupyter')",
   "language": "python",
   "name": "python3"
  },
  "language_info": {
   "codemirror_mode": {
    "name": "ipython",
    "version": 3
   },
   "file_extension": ".py",
   "mimetype": "text/x-python",
   "name": "python",
   "nbconvert_exporter": "python",
   "pygments_lexer": "ipython3",
   "version": "3.9.7"
  },
  "orig_nbformat": 4,
  "vscode": {
   "interpreter": {
    "hash": "8486eb689708cdd999707d89413ce0bb44f0ae0a86e969f385d007568fcfb5e5"
   }
  }
 },
 "nbformat": 4,
 "nbformat_minor": 2
}
